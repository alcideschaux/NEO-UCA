{
 "cells": [
  {
   "cell_type": "code",
   "execution_count": 1,
   "id": "cf47197c-ebd2-4815-807d-dfd36bb91cba",
   "metadata": {
    "executionCancelledAt": null,
    "executionTime": null,
    "lastExecutedAt": null,
    "lastScheduledRunId": null,
    "lastSuccessfullyExecutedCode": null,
    "outputsMetadata": {
     "0": {
      "height": 497,
      "type": "stream"
     }
    }
   },
   "outputs": [
    {
     "ename": "FileNotFoundError",
     "evalue": "[Errno 2] No such file or directory: 'NEO-UCA-DATA.csv'",
     "output_type": "error",
     "traceback": [
      "\u001b[0;31m---------------------------------------------------------------------------\u001b[0m",
      "\u001b[0;31mFileNotFoundError\u001b[0m                         Traceback (most recent call last)",
      "File \u001b[0;32m~/Library/Mobile Documents/com~apple~CloudDocs/Research/Articles/02 - Drafting/NEOADJ-UCA/NEO-UCA/tidy_data.py:8\u001b[0m\n\u001b[1;32m      5\u001b[0m \u001b[38;5;28;01mimport\u001b[39;00m \u001b[38;5;21;01mnumpy\u001b[39;00m \u001b[38;5;28;01mas\u001b[39;00m \u001b[38;5;21;01mnp\u001b[39;00m\n\u001b[1;32m      7\u001b[0m \u001b[38;5;66;03m# Load data\u001b[39;00m\n\u001b[0;32m----> 8\u001b[0m df \u001b[38;5;241m=\u001b[39m \u001b[43mpd\u001b[49m\u001b[38;5;241;43m.\u001b[39;49m\u001b[43mread_csv\u001b[49m\u001b[43m(\u001b[49m\u001b[38;5;124;43m'\u001b[39;49m\u001b[38;5;124;43mNEO-UCA-DATA.csv\u001b[39;49m\u001b[38;5;124;43m'\u001b[39;49m\u001b[43m)\u001b[49m\n\u001b[1;32m     10\u001b[0m \u001b[38;5;124;03m\"\"\"\u001b[39;00m\n\u001b[1;32m     11\u001b[0m \u001b[38;5;124;03mData wrangling\u001b[39;00m\n\u001b[1;32m     12\u001b[0m \u001b[38;5;124;03m\"\"\"\u001b[39;00m\n\u001b[1;32m     13\u001b[0m \u001b[38;5;66;03m# Recode sex\u001b[39;00m\n",
      "File \u001b[0;32m~/Library/Python/3.9/lib/python/site-packages/pandas/io/parsers/readers.py:1026\u001b[0m, in \u001b[0;36mread_csv\u001b[0;34m(filepath_or_buffer, sep, delimiter, header, names, index_col, usecols, dtype, engine, converters, true_values, false_values, skipinitialspace, skiprows, skipfooter, nrows, na_values, keep_default_na, na_filter, verbose, skip_blank_lines, parse_dates, infer_datetime_format, keep_date_col, date_parser, date_format, dayfirst, cache_dates, iterator, chunksize, compression, thousands, decimal, lineterminator, quotechar, quoting, doublequote, escapechar, comment, encoding, encoding_errors, dialect, on_bad_lines, delim_whitespace, low_memory, memory_map, float_precision, storage_options, dtype_backend)\u001b[0m\n\u001b[1;32m   1013\u001b[0m kwds_defaults \u001b[38;5;241m=\u001b[39m _refine_defaults_read(\n\u001b[1;32m   1014\u001b[0m     dialect,\n\u001b[1;32m   1015\u001b[0m     delimiter,\n\u001b[0;32m   (...)\u001b[0m\n\u001b[1;32m   1022\u001b[0m     dtype_backend\u001b[38;5;241m=\u001b[39mdtype_backend,\n\u001b[1;32m   1023\u001b[0m )\n\u001b[1;32m   1024\u001b[0m kwds\u001b[38;5;241m.\u001b[39mupdate(kwds_defaults)\n\u001b[0;32m-> 1026\u001b[0m \u001b[38;5;28;01mreturn\u001b[39;00m \u001b[43m_read\u001b[49m\u001b[43m(\u001b[49m\u001b[43mfilepath_or_buffer\u001b[49m\u001b[43m,\u001b[49m\u001b[43m \u001b[49m\u001b[43mkwds\u001b[49m\u001b[43m)\u001b[49m\n",
      "File \u001b[0;32m~/Library/Python/3.9/lib/python/site-packages/pandas/io/parsers/readers.py:620\u001b[0m, in \u001b[0;36m_read\u001b[0;34m(filepath_or_buffer, kwds)\u001b[0m\n\u001b[1;32m    617\u001b[0m _validate_names(kwds\u001b[38;5;241m.\u001b[39mget(\u001b[38;5;124m\"\u001b[39m\u001b[38;5;124mnames\u001b[39m\u001b[38;5;124m\"\u001b[39m, \u001b[38;5;28;01mNone\u001b[39;00m))\n\u001b[1;32m    619\u001b[0m \u001b[38;5;66;03m# Create the parser.\u001b[39;00m\n\u001b[0;32m--> 620\u001b[0m parser \u001b[38;5;241m=\u001b[39m \u001b[43mTextFileReader\u001b[49m\u001b[43m(\u001b[49m\u001b[43mfilepath_or_buffer\u001b[49m\u001b[43m,\u001b[49m\u001b[43m \u001b[49m\u001b[38;5;241;43m*\u001b[39;49m\u001b[38;5;241;43m*\u001b[39;49m\u001b[43mkwds\u001b[49m\u001b[43m)\u001b[49m\n\u001b[1;32m    622\u001b[0m \u001b[38;5;28;01mif\u001b[39;00m chunksize \u001b[38;5;129;01mor\u001b[39;00m iterator:\n\u001b[1;32m    623\u001b[0m     \u001b[38;5;28;01mreturn\u001b[39;00m parser\n",
      "File \u001b[0;32m~/Library/Python/3.9/lib/python/site-packages/pandas/io/parsers/readers.py:1620\u001b[0m, in \u001b[0;36mTextFileReader.__init__\u001b[0;34m(self, f, engine, **kwds)\u001b[0m\n\u001b[1;32m   1617\u001b[0m     \u001b[38;5;28mself\u001b[39m\u001b[38;5;241m.\u001b[39moptions[\u001b[38;5;124m\"\u001b[39m\u001b[38;5;124mhas_index_names\u001b[39m\u001b[38;5;124m\"\u001b[39m] \u001b[38;5;241m=\u001b[39m kwds[\u001b[38;5;124m\"\u001b[39m\u001b[38;5;124mhas_index_names\u001b[39m\u001b[38;5;124m\"\u001b[39m]\n\u001b[1;32m   1619\u001b[0m \u001b[38;5;28mself\u001b[39m\u001b[38;5;241m.\u001b[39mhandles: IOHandles \u001b[38;5;241m|\u001b[39m \u001b[38;5;28;01mNone\u001b[39;00m \u001b[38;5;241m=\u001b[39m \u001b[38;5;28;01mNone\u001b[39;00m\n\u001b[0;32m-> 1620\u001b[0m \u001b[38;5;28mself\u001b[39m\u001b[38;5;241m.\u001b[39m_engine \u001b[38;5;241m=\u001b[39m \u001b[38;5;28;43mself\u001b[39;49m\u001b[38;5;241;43m.\u001b[39;49m\u001b[43m_make_engine\u001b[49m\u001b[43m(\u001b[49m\u001b[43mf\u001b[49m\u001b[43m,\u001b[49m\u001b[43m \u001b[49m\u001b[38;5;28;43mself\u001b[39;49m\u001b[38;5;241;43m.\u001b[39;49m\u001b[43mengine\u001b[49m\u001b[43m)\u001b[49m\n",
      "File \u001b[0;32m~/Library/Python/3.9/lib/python/site-packages/pandas/io/parsers/readers.py:1880\u001b[0m, in \u001b[0;36mTextFileReader._make_engine\u001b[0;34m(self, f, engine)\u001b[0m\n\u001b[1;32m   1878\u001b[0m     \u001b[38;5;28;01mif\u001b[39;00m \u001b[38;5;124m\"\u001b[39m\u001b[38;5;124mb\u001b[39m\u001b[38;5;124m\"\u001b[39m \u001b[38;5;129;01mnot\u001b[39;00m \u001b[38;5;129;01min\u001b[39;00m mode:\n\u001b[1;32m   1879\u001b[0m         mode \u001b[38;5;241m+\u001b[39m\u001b[38;5;241m=\u001b[39m \u001b[38;5;124m\"\u001b[39m\u001b[38;5;124mb\u001b[39m\u001b[38;5;124m\"\u001b[39m\n\u001b[0;32m-> 1880\u001b[0m \u001b[38;5;28mself\u001b[39m\u001b[38;5;241m.\u001b[39mhandles \u001b[38;5;241m=\u001b[39m \u001b[43mget_handle\u001b[49m\u001b[43m(\u001b[49m\n\u001b[1;32m   1881\u001b[0m \u001b[43m    \u001b[49m\u001b[43mf\u001b[49m\u001b[43m,\u001b[49m\n\u001b[1;32m   1882\u001b[0m \u001b[43m    \u001b[49m\u001b[43mmode\u001b[49m\u001b[43m,\u001b[49m\n\u001b[1;32m   1883\u001b[0m \u001b[43m    \u001b[49m\u001b[43mencoding\u001b[49m\u001b[38;5;241;43m=\u001b[39;49m\u001b[38;5;28;43mself\u001b[39;49m\u001b[38;5;241;43m.\u001b[39;49m\u001b[43moptions\u001b[49m\u001b[38;5;241;43m.\u001b[39;49m\u001b[43mget\u001b[49m\u001b[43m(\u001b[49m\u001b[38;5;124;43m\"\u001b[39;49m\u001b[38;5;124;43mencoding\u001b[39;49m\u001b[38;5;124;43m\"\u001b[39;49m\u001b[43m,\u001b[49m\u001b[43m \u001b[49m\u001b[38;5;28;43;01mNone\u001b[39;49;00m\u001b[43m)\u001b[49m\u001b[43m,\u001b[49m\n\u001b[1;32m   1884\u001b[0m \u001b[43m    \u001b[49m\u001b[43mcompression\u001b[49m\u001b[38;5;241;43m=\u001b[39;49m\u001b[38;5;28;43mself\u001b[39;49m\u001b[38;5;241;43m.\u001b[39;49m\u001b[43moptions\u001b[49m\u001b[38;5;241;43m.\u001b[39;49m\u001b[43mget\u001b[49m\u001b[43m(\u001b[49m\u001b[38;5;124;43m\"\u001b[39;49m\u001b[38;5;124;43mcompression\u001b[39;49m\u001b[38;5;124;43m\"\u001b[39;49m\u001b[43m,\u001b[49m\u001b[43m \u001b[49m\u001b[38;5;28;43;01mNone\u001b[39;49;00m\u001b[43m)\u001b[49m\u001b[43m,\u001b[49m\n\u001b[1;32m   1885\u001b[0m \u001b[43m    \u001b[49m\u001b[43mmemory_map\u001b[49m\u001b[38;5;241;43m=\u001b[39;49m\u001b[38;5;28;43mself\u001b[39;49m\u001b[38;5;241;43m.\u001b[39;49m\u001b[43moptions\u001b[49m\u001b[38;5;241;43m.\u001b[39;49m\u001b[43mget\u001b[49m\u001b[43m(\u001b[49m\u001b[38;5;124;43m\"\u001b[39;49m\u001b[38;5;124;43mmemory_map\u001b[39;49m\u001b[38;5;124;43m\"\u001b[39;49m\u001b[43m,\u001b[49m\u001b[43m \u001b[49m\u001b[38;5;28;43;01mFalse\u001b[39;49;00m\u001b[43m)\u001b[49m\u001b[43m,\u001b[49m\n\u001b[1;32m   1886\u001b[0m \u001b[43m    \u001b[49m\u001b[43mis_text\u001b[49m\u001b[38;5;241;43m=\u001b[39;49m\u001b[43mis_text\u001b[49m\u001b[43m,\u001b[49m\n\u001b[1;32m   1887\u001b[0m \u001b[43m    \u001b[49m\u001b[43merrors\u001b[49m\u001b[38;5;241;43m=\u001b[39;49m\u001b[38;5;28;43mself\u001b[39;49m\u001b[38;5;241;43m.\u001b[39;49m\u001b[43moptions\u001b[49m\u001b[38;5;241;43m.\u001b[39;49m\u001b[43mget\u001b[49m\u001b[43m(\u001b[49m\u001b[38;5;124;43m\"\u001b[39;49m\u001b[38;5;124;43mencoding_errors\u001b[39;49m\u001b[38;5;124;43m\"\u001b[39;49m\u001b[43m,\u001b[49m\u001b[43m \u001b[49m\u001b[38;5;124;43m\"\u001b[39;49m\u001b[38;5;124;43mstrict\u001b[39;49m\u001b[38;5;124;43m\"\u001b[39;49m\u001b[43m)\u001b[49m\u001b[43m,\u001b[49m\n\u001b[1;32m   1888\u001b[0m \u001b[43m    \u001b[49m\u001b[43mstorage_options\u001b[49m\u001b[38;5;241;43m=\u001b[39;49m\u001b[38;5;28;43mself\u001b[39;49m\u001b[38;5;241;43m.\u001b[39;49m\u001b[43moptions\u001b[49m\u001b[38;5;241;43m.\u001b[39;49m\u001b[43mget\u001b[49m\u001b[43m(\u001b[49m\u001b[38;5;124;43m\"\u001b[39;49m\u001b[38;5;124;43mstorage_options\u001b[39;49m\u001b[38;5;124;43m\"\u001b[39;49m\u001b[43m,\u001b[49m\u001b[43m \u001b[49m\u001b[38;5;28;43;01mNone\u001b[39;49;00m\u001b[43m)\u001b[49m\u001b[43m,\u001b[49m\n\u001b[1;32m   1889\u001b[0m \u001b[43m\u001b[49m\u001b[43m)\u001b[49m\n\u001b[1;32m   1890\u001b[0m \u001b[38;5;28;01massert\u001b[39;00m \u001b[38;5;28mself\u001b[39m\u001b[38;5;241m.\u001b[39mhandles \u001b[38;5;129;01mis\u001b[39;00m \u001b[38;5;129;01mnot\u001b[39;00m \u001b[38;5;28;01mNone\u001b[39;00m\n\u001b[1;32m   1891\u001b[0m f \u001b[38;5;241m=\u001b[39m \u001b[38;5;28mself\u001b[39m\u001b[38;5;241m.\u001b[39mhandles\u001b[38;5;241m.\u001b[39mhandle\n",
      "File \u001b[0;32m~/Library/Python/3.9/lib/python/site-packages/pandas/io/common.py:873\u001b[0m, in \u001b[0;36mget_handle\u001b[0;34m(path_or_buf, mode, encoding, compression, memory_map, is_text, errors, storage_options)\u001b[0m\n\u001b[1;32m    868\u001b[0m \u001b[38;5;28;01melif\u001b[39;00m \u001b[38;5;28misinstance\u001b[39m(handle, \u001b[38;5;28mstr\u001b[39m):\n\u001b[1;32m    869\u001b[0m     \u001b[38;5;66;03m# Check whether the filename is to be opened in binary mode.\u001b[39;00m\n\u001b[1;32m    870\u001b[0m     \u001b[38;5;66;03m# Binary mode does not support 'encoding' and 'newline'.\u001b[39;00m\n\u001b[1;32m    871\u001b[0m     \u001b[38;5;28;01mif\u001b[39;00m ioargs\u001b[38;5;241m.\u001b[39mencoding \u001b[38;5;129;01mand\u001b[39;00m \u001b[38;5;124m\"\u001b[39m\u001b[38;5;124mb\u001b[39m\u001b[38;5;124m\"\u001b[39m \u001b[38;5;129;01mnot\u001b[39;00m \u001b[38;5;129;01min\u001b[39;00m ioargs\u001b[38;5;241m.\u001b[39mmode:\n\u001b[1;32m    872\u001b[0m         \u001b[38;5;66;03m# Encoding\u001b[39;00m\n\u001b[0;32m--> 873\u001b[0m         handle \u001b[38;5;241m=\u001b[39m \u001b[38;5;28;43mopen\u001b[39;49m\u001b[43m(\u001b[49m\n\u001b[1;32m    874\u001b[0m \u001b[43m            \u001b[49m\u001b[43mhandle\u001b[49m\u001b[43m,\u001b[49m\n\u001b[1;32m    875\u001b[0m \u001b[43m            \u001b[49m\u001b[43mioargs\u001b[49m\u001b[38;5;241;43m.\u001b[39;49m\u001b[43mmode\u001b[49m\u001b[43m,\u001b[49m\n\u001b[1;32m    876\u001b[0m \u001b[43m            \u001b[49m\u001b[43mencoding\u001b[49m\u001b[38;5;241;43m=\u001b[39;49m\u001b[43mioargs\u001b[49m\u001b[38;5;241;43m.\u001b[39;49m\u001b[43mencoding\u001b[49m\u001b[43m,\u001b[49m\n\u001b[1;32m    877\u001b[0m \u001b[43m            \u001b[49m\u001b[43merrors\u001b[49m\u001b[38;5;241;43m=\u001b[39;49m\u001b[43merrors\u001b[49m\u001b[43m,\u001b[49m\n\u001b[1;32m    878\u001b[0m \u001b[43m            \u001b[49m\u001b[43mnewline\u001b[49m\u001b[38;5;241;43m=\u001b[39;49m\u001b[38;5;124;43m\"\u001b[39;49m\u001b[38;5;124;43m\"\u001b[39;49m\u001b[43m,\u001b[49m\n\u001b[1;32m    879\u001b[0m \u001b[43m        \u001b[49m\u001b[43m)\u001b[49m\n\u001b[1;32m    880\u001b[0m     \u001b[38;5;28;01melse\u001b[39;00m:\n\u001b[1;32m    881\u001b[0m         \u001b[38;5;66;03m# Binary mode\u001b[39;00m\n\u001b[1;32m    882\u001b[0m         handle \u001b[38;5;241m=\u001b[39m \u001b[38;5;28mopen\u001b[39m(handle, ioargs\u001b[38;5;241m.\u001b[39mmode)\n",
      "\u001b[0;31mFileNotFoundError\u001b[0m: [Errno 2] No such file or directory: 'NEO-UCA-DATA.csv'"
     ]
    },
    {
     "ename": "NameError",
     "evalue": "name 'df' is not defined",
     "output_type": "error",
     "traceback": [
      "\u001b[0;31m---------------------------------------------------------------------------\u001b[0m",
      "\u001b[0;31mNameError\u001b[0m                                 Traceback (most recent call last)",
      "Cell \u001b[0;32mIn[1], line 16\u001b[0m\n\u001b[1;32m     13\u001b[0m \u001b[38;5;66;03m# Risk evaluation\u001b[39;00m\n\u001b[1;32m     14\u001b[0m get_ipython()\u001b[38;5;241m.\u001b[39mrun_line_magic(\u001b[38;5;124m'\u001b[39m\u001b[38;5;124mrun\u001b[39m\u001b[38;5;124m'\u001b[39m, \u001b[38;5;124m'\u001b[39m\u001b[38;5;124mscripts.py\u001b[39m\u001b[38;5;124m'\u001b[39m)\n\u001b[0;32m---> 16\u001b[0m \u001b[43mdf\u001b[49m\u001b[38;5;241m.\u001b[39minfo()\n",
      "\u001b[0;31mNameError\u001b[0m: name 'df' is not defined"
     ]
    }
   ],
   "source": [
    "# Import libraries\n",
    "import pandas as pd\n",
    "import numpy as np\n",
    "import statsmodels.api as sm\n",
    "import lifelines\n",
    "import matplotlib.pyplot as plt\n",
    "import seaborn as sns\n",
    "\n",
    "\n",
    "# Import and tidy data\n",
    "%run tidy_data.py\n",
    "\n",
    "# Risk evaluation\n",
    "%run scripts.py\n",
    "\n",
    "df.info()"
   ]
  },
  {
   "cell_type": "markdown",
   "id": "f1f55bd5-a723-488d-b1cd-a1a177980685",
   "metadata": {},
   "source": [
    "# OR - Tumor recurrence"
   ]
  },
  {
   "cell_type": "code",
   "execution_count": 20,
   "id": "c027732c-0731-47b3-a32d-7a6984bf0c6a",
   "metadata": {
    "executionCancelledAt": null,
    "executionTime": 51,
    "lastExecutedAt": 1707299898556,
    "lastScheduledRunId": null,
    "lastSuccessfullyExecutedCode": "# Copy full dataframe and drop NAN values\ndf_recurrence = df.dropna(subset=['recurrence']).copy()"
   },
   "outputs": [],
   "source": [
    "# Copy full dataframe and drop NAN values\n",
    "df_recurrence = df.dropna(subset=['recurrence']).copy()"
   ]
  },
  {
   "cell_type": "code",
   "execution_count": null,
   "id": "1a4fe8fe-4c6c-4d75-b079-ce964f6f5887",
   "metadata": {
    "executionCancelledAt": null,
    "executionTime": null,
    "lastExecutedAt": null,
    "lastScheduledRunId": null,
    "lastSuccessfullyExecutedCode": null,
    "outputsMetadata": {
     "0": {
      "height": 297,
      "type": "stream"
     }
    }
   },
   "outputs": [],
   "source": [
    "# Create dummy variables for predictors and outcome\n",
    "df_recurrence = pd.get_dummies(df_recurrence, columns=['sex','variant_histology','ypT_group1','ypN_group1','recurrence'], drop_first=True)\n",
    "\n",
    "# sex: Female vs Male\n",
    "# variant_histology: No vs Yes\n",
    "# ypT: pT0-pTis-pTa vs pT2-pT3\n",
    "# ypN: pN0 vs pN1-pN2-pN3\n",
    "df_recurrence = df_recurrence.rename(columns={'ypT_group1_pT2-pT3':'ypT','ypN_group1_pN1-pN2-pN3':'ypN','sex_Male':'sex','variant_histology_Yes':'variant_histology','recurrence_Yes':'recurrence'})\n",
    "df_recurrence = df_recurrence[['age','sex','variant_histology','ypT','ypN','recurrence','fu_recurrence']]\n",
    "df_recurrence.info()"
   ]
  },
  {
   "cell_type": "code",
   "execution_count": null,
   "id": "a7695bb2-cf8c-41f1-b4ec-136ed5e809a2",
   "metadata": {
    "executionCancelledAt": null,
    "executionTime": null,
    "lastExecutedAt": null,
    "lastScheduledRunId": null,
    "lastSuccessfullyExecutedCode": null,
    "outputsMetadata": {
     "0": {
      "height": 248,
      "type": "dataFrame"
     }
    }
   },
   "outputs": [],
   "source": [
    "# Correlation matrix\n",
    "correlation_matrix = df_recurrence.corr().abs()\n",
    "\n",
    "# Create heatmap\n",
    "plt.figure(figsize=(10, 8))\n",
    "sns.heatmap(correlation_matrix, annot=True, cmap='coolwarm')\n",
    "plt.title('Correlation Matrix')\n",
    "plt.show()\n",
    "\n",
    "correlation_matrix"
   ]
  },
  {
   "cell_type": "code",
   "execution_count": null,
   "id": "8660aa21-2327-4da8-9857-1abc3b7c43b6",
   "metadata": {
    "executionCancelledAt": null,
    "executionTime": null,
    "lastExecutedAt": null,
    "lastScheduledRunId": null,
    "lastSuccessfullyExecutedCode": null,
    "outputsMetadata": {
     "0": {
      "height": 77,
      "type": "stream"
     },
     "1": {
      "height": 98,
      "type": "dataFrame"
     }
    }
   },
   "outputs": [],
   "source": [
    "import statsmodels.api as sm\n",
    "\n",
    "def logistic_regression(data, X, y):\n",
    "    # Asegúrate de que las variables categóricas estén codificadas correctamente\n",
    "    data = data.copy()\n",
    "    \n",
    "    # Si X es una sola columna, conviértela en una lista\n",
    "    if isinstance(X, str):\n",
    "        X = [X]\n",
    "    \n",
    "    for col in X:\n",
    "        if data[col].dtype.name == 'category' or data[col].dtype == 'object':\n",
    "            data[col] = data[col].astype('category').cat.codes\n",
    "    data[y] = data[y].astype('category').cat.codes\n",
    "    \n",
    "    # Agregar una constante\n",
    "    X = sm.add_constant(data[X])\n",
    "    \n",
    "    # Crear el modelo de regresión logística\n",
    "    logreg = sm.Logit(data[y], X)\n",
    "    \n",
    "    # Ajustar el modelo a los datos\n",
    "    result = logreg.fit()\n",
    "    \n",
    "    return result\n",
    "\n",
    "# age\n",
    "result = logistic_regression(df_recurrence, 'age', 'recurrence')\n",
    "print(result.summary())# age\n",
    "logistic_regression(df_recurrence, 'age', 'recurrence')"
   ]
  },
  {
   "cell_type": "code",
   "execution_count": null,
   "id": "66c5b16c",
   "metadata": {},
   "outputs": [],
   "source": [
    "# sex\n",
    "result_sex_recurrence = logistic_regression(df_recurrence, 'sex', 'recurrence')\n",
    "print(result_sex_recurrence.summary())"
   ]
  },
  {
   "cell_type": "code",
   "execution_count": null,
   "id": "1db8fa1b-aa29-4ee1-93c3-b0ee2c42c0a4",
   "metadata": {
    "executionCancelledAt": null,
    "executionTime": null,
    "lastExecutedAt": null,
    "lastScheduledRunId": null,
    "lastSuccessfullyExecutedCode": null,
    "outputsMetadata": {
     "0": {
      "height": 77,
      "type": "stream"
     },
     "1": {
      "height": 98,
      "type": "dataFrame"
     }
    }
   },
   "outputs": [],
   "source": [
    "# sex\n",
    "logistic_regression(df_recurrence, 'sex', 'recurrence')"
   ]
  },
  {
   "cell_type": "code",
   "execution_count": null,
   "id": "8c534c15-1eb8-4763-bd91-a9b1a3454ebb",
   "metadata": {
    "executionCancelledAt": null,
    "executionTime": null,
    "lastExecutedAt": null,
    "lastScheduledRunId": null,
    "lastSuccessfullyExecutedCode": null,
    "outputsMetadata": {
     "0": {
      "height": 77,
      "type": "stream"
     },
     "1": {
      "height": 98,
      "type": "dataFrame"
     }
    }
   },
   "outputs": [],
   "source": [
    "# variant_histology\n",
    "logistic_regression(df_recurrence, 'variant_histology', 'recurrence')"
   ]
  },
  {
   "cell_type": "code",
   "execution_count": null,
   "id": "151f8337-9104-4056-b122-01b1786c37ba",
   "metadata": {
    "executionCancelledAt": null,
    "executionTime": null,
    "lastExecutedAt": null,
    "lastScheduledRunId": null,
    "lastSuccessfullyExecutedCode": null,
    "outputsMetadata": {
     "0": {
      "height": 77,
      "type": "stream"
     },
     "1": {
      "height": 98,
      "type": "dataFrame"
     }
    }
   },
   "outputs": [],
   "source": [
    "# ypT\n",
    "logistic_regression(df_recurrence, 'ypT', 'recurrence')"
   ]
  },
  {
   "cell_type": "code",
   "execution_count": null,
   "id": "3ed9619c-96d3-4937-81bd-e2de5bef6355",
   "metadata": {
    "executionCancelledAt": null,
    "executionTime": null,
    "lastExecutedAt": null,
    "lastScheduledRunId": null,
    "lastSuccessfullyExecutedCode": null,
    "outputsMetadata": {
     "0": {
      "height": 77,
      "type": "stream"
     },
     "1": {
      "height": 98,
      "type": "dataFrame"
     }
    }
   },
   "outputs": [],
   "source": [
    "# ypN\n",
    "logistic_regression(df_recurrence, 'ypN', 'recurrence')"
   ]
  },
  {
   "cell_type": "code",
   "execution_count": null,
   "id": "7e0f2e0d-6ebe-42a2-ad95-0890eb9f3039",
   "metadata": {
    "executionCancelledAt": null,
    "executionTime": 47,
    "lastExecutedAt": 1707299898972,
    "lastScheduledRunId": null,
    "lastSuccessfullyExecutedCode": "# Adjusted OR\n# logistic_regression(df_recurrence, ['age','sex','variant_histology','ypT','ypN'], 'recurrence')"
   },
   "outputs": [],
   "source": [
    "import statsmodels.api as sm\n",
    "\n",
    "def logistic_regression(data, X, y):\n",
    "    # Asegúrate de que las variables categóricas estén codificadas correctamente\n",
    "    data = data.copy()\n",
    "    for col in X:\n",
    "        if data[col].dtype.name == 'category' or data[col].dtype == 'object':\n",
    "            data[col] = data[col].astype('category').cat.codes\n",
    "    data[y] = data[y].astype('category').cat.codes\n",
    "    \n",
    "    # Agregar una constante\n",
    "    X = sm.add_constant(data[X])\n",
    "    \n",
    "    # Crear el modelo de regresión logística\n",
    "    logreg = sm.Logit(data[y], X)\n",
    "    \n",
    "    # Ajustar el modelo a los datos\n",
    "    result = logreg.fit()\n",
    "    \n",
    "    return result\n",
    "\n",
    "# Adjusted OR - Multivariate 1\n",
    "result = logistic_regression(df_recurrence, ['age','sex','variant_histology','ypT'], 'recurrence')\n",
    "print(result.summary())# Adjusted OR - Multivariate 1\n",
    "logistic_regression(df_recurrence, ['age','sex','variant_histology','ypT'], 'recurrence')"
   ]
  },
  {
   "cell_type": "code",
   "execution_count": null,
   "id": "7c1ff5ef",
   "metadata": {},
   "outputs": [],
   "source": [
    "# Adjusted OR - Multivariate 2\n",
    "logistic_regression(df_recurrence, ['age','sex','variant_histology','ypN'], 'recurrence')"
   ]
  },
  {
   "cell_type": "markdown",
   "id": "3467b3fb-9b9b-4d69-aa7a-8f208b2e2e47",
   "metadata": {},
   "source": [
    "# HR - Tumor recurrence"
   ]
  },
  {
   "cell_type": "code",
   "execution_count": null,
   "id": "a881b36d-ed82-485e-8ffe-189d5738a781",
   "metadata": {
    "executionCancelledAt": null,
    "executionTime": null,
    "lastExecutedAt": null,
    "lastScheduledRunId": null,
    "lastSuccessfullyExecutedCode": null,
    "outputsMetadata": {
     "0": {
      "height": 98,
      "type": "dataFrame"
     }
    }
   },
   "outputs": [],
   "source": [
    "# age\n",
    "cox_regression(df_recurrence, 'fu_recurrence', 'age', 'recurrence')"
   ]
  },
  {
   "cell_type": "code",
   "execution_count": null,
   "id": "31c772c6-e3e9-4e6a-b795-6419c5a45260",
   "metadata": {
    "executionCancelledAt": null,
    "executionTime": null,
    "lastExecutedAt": null,
    "lastScheduledRunId": null,
    "lastSuccessfullyExecutedCode": null,
    "outputsMetadata": {
     "0": {
      "height": 98,
      "type": "dataFrame"
     }
    }
   },
   "outputs": [],
   "source": [
    "# sex\n",
    "cox_regression(df_recurrence, 'fu_recurrence', 'sex', 'recurrence')"
   ]
  },
  {
   "cell_type": "code",
   "execution_count": null,
   "id": "91b2dac4-63d5-4a9a-8d6e-a4d4c0ff3e00",
   "metadata": {
    "executionCancelledAt": null,
    "executionTime": null,
    "lastExecutedAt": null,
    "lastScheduledRunId": null,
    "lastSuccessfullyExecutedCode": null,
    "outputsMetadata": {
     "0": {
      "height": 98,
      "type": "dataFrame"
     }
    }
   },
   "outputs": [],
   "source": [
    "# variant_histology\n",
    "cox_regression(df_recurrence, 'fu_recurrence', 'variant_histology', 'recurrence')"
   ]
  },
  {
   "cell_type": "code",
   "execution_count": null,
   "id": "ea531395-bbe7-47bb-b21b-e49a24a73ba7",
   "metadata": {
    "executionCancelledAt": null,
    "executionTime": 69,
    "lastExecutedAt": 1707299899244,
    "lastScheduledRunId": null,
    "lastSuccessfullyExecutedCode": "# ypT\ncox_regression(df_recurrence, 'fu_recurrence', 'ypT', 'recurrence')",
    "outputsMetadata": {
     "0": {
      "height": 98,
      "type": "dataFrame"
     }
    }
   },
   "outputs": [],
   "source": [
    "# ypT\n",
    "cox_regression(df_recurrence, 'fu_recurrence', 'ypT', 'recurrence')"
   ]
  },
  {
   "cell_type": "code",
   "execution_count": null,
   "id": "a7d8cce8-0cab-4116-9f2e-4e99f5fbdf58",
   "metadata": {
    "executionCancelledAt": null,
    "executionTime": 69,
    "lastExecutedAt": 1707299899313,
    "lastScheduledRunId": null,
    "lastSuccessfullyExecutedCode": "# ypN\ncox_regression(df_recurrence, 'fu_recurrence', 'ypN', 'recurrence')",
    "outputsMetadata": {
     "0": {
      "height": 98,
      "type": "dataFrame"
     }
    }
   },
   "outputs": [],
   "source": [
    "# ypN\n",
    "cox_regression(df_recurrence, 'fu_recurrence', 'ypN', 'recurrence')"
   ]
  },
  {
   "cell_type": "code",
   "execution_count": null,
   "id": "c5f9164a-a338-4b38-bc40-f061c28de1a4",
   "metadata": {
    "executionCancelledAt": null,
    "executionTime": 47,
    "lastExecutedAt": 1707299899360,
    "lastScheduledRunId": null,
    "lastSuccessfullyExecutedCode": "# Adjusted HR\n# cox_regression(df_recurrence, 'fu_recurrence', 'age + sex + variant_histology + ypT + ypN', 'recurrence')"
   },
   "outputs": [],
   "source": [
    "# Adjusted HR - Multivariate 1\n",
    "cox_regression(df_recurrence, 'fu_recurrence', 'age + sex + variant_histology + ypT', 'recurrence')"
   ]
  },
  {
   "cell_type": "code",
   "execution_count": null,
   "id": "ecc4407a",
   "metadata": {},
   "outputs": [],
   "source": [
    "# Adjusted HR - Multivarate 2\n",
    "cox_regression(df_recurrence, 'fu_recurrence', 'age + sex + variant_histology + ypN', 'recurrence')"
   ]
  },
  {
   "cell_type": "markdown",
   "id": "4f299a43-06c5-4d6d-ba2d-658fda621957",
   "metadata": {},
   "source": [
    "# OR - Death by cancer"
   ]
  },
  {
   "cell_type": "code",
   "execution_count": null,
   "id": "0e94474f-9899-4a22-81d0-9833e6b4c5ce",
   "metadata": {
    "executionCancelledAt": null,
    "executionTime": 56,
    "lastExecutedAt": 1707299899416,
    "lastScheduledRunId": null,
    "lastSuccessfullyExecutedCode": "df_dod = df.dropna(subset=['dod']).copy()"
   },
   "outputs": [],
   "source": [
    "df_dod = df.dropna(subset=['dod']).copy()"
   ]
  },
  {
   "cell_type": "code",
   "execution_count": null,
   "id": "ab929ca8-edf9-4407-b1b8-0452970a0a55",
   "metadata": {
    "executionCancelledAt": null,
    "executionTime": 57,
    "lastExecutedAt": 1707299899474,
    "lastScheduledRunId": null,
    "lastSuccessfullyExecutedCode": "# Create dummy variables for predictors and outcome\ndf_dod = pd.get_dummies(df_dod, columns=['sex','variant_histology','ypT_group1','ypN_group1','dod'], drop_first=True)\n\n# sex: Female vs Male\n# variant_histology: No vs Yes\n# ypT: pT0-pTis-pTa vs pT2-pT3\n# ypN: pN0 vs pN1-pN2-pN3\ndf_dod = df_dod.rename(columns={'ypT_group1_pT2-pT3':'ypT','ypN_group1_pN1-pN2-pN3':'ypN','sex_Male':'sex','variant_histology_Yes':'variant_histology','dod_Yes':'dod'})\ndf_dod = df_dod[['age','sex','variant_histology','ypT','ypN','dod','fu_censor']]\ndf_dod.info()",
    "outputsMetadata": {
     "0": {
      "height": 297,
      "type": "stream"
     }
    }
   },
   "outputs": [],
   "source": [
    "# Create dummy variables for predictors and outcome\n",
    "df_dod = pd.get_dummies(df_dod, columns=['sex','variant_histology','ypT_group1','ypN_group1','dod'], drop_first=True)\n",
    "\n",
    "# sex: Female vs Male\n",
    "# variant_histology: No vs Yes\n",
    "# ypT: pT0-pTis-pTa vs pT2-pT3\n",
    "# ypN: pN0 vs pN1-pN2-pN3\n",
    "df_dod = df_dod.rename(columns={'ypT_group1_pT2-pT3':'ypT','ypN_group1_pN1-pN2-pN3':'ypN','sex_Male':'sex','variant_histology_Yes':'variant_histology','dod_Yes':'dod'})\n",
    "df_dod = df_dod[['age','sex','variant_histology','ypT','ypN','dod','fu_censor']]\n",
    "df_dod.info()"
   ]
  },
  {
   "cell_type": "code",
   "execution_count": null,
   "id": "ff55bfa0",
   "metadata": {},
   "outputs": [],
   "source": [
    "# Correlation matrix\n",
    "correlation_matrix = df_dod.corr().abs()\n",
    "\n",
    "# Create heatmap\n",
    "plt.figure(figsize=(10, 8))\n",
    "sns.heatmap(correlation_matrix, annot=True, cmap='coolwarm')\n",
    "plt.title('Correlation Matrix')\n",
    "plt.show()\n",
    "df_dod.corr().abs()"
   ]
  },
  {
   "cell_type": "code",
   "execution_count": null,
   "id": "ffa60013-44b9-405f-8bff-17c506befd7f",
   "metadata": {
    "executionCancelledAt": null,
    "executionTime": 55,
    "lastExecutedAt": 1707299899529,
    "lastScheduledRunId": null,
    "lastSuccessfullyExecutedCode": "# age\nlogistic_regression(df_dod, 'age', 'dod')",
    "outputsMetadata": {
     "0": {
      "height": 77,
      "type": "stream"
     },
     "1": {
      "height": 98,
      "type": "dataFrame"
     }
    }
   },
   "outputs": [],
   "source": [
    "# age\n",
    "logistic_regression(df_dod, 'age', 'dod')"
   ]
  },
  {
   "cell_type": "code",
   "execution_count": null,
   "id": "9aa135a8-f0c9-4b43-946a-b8a9fc3e64f4",
   "metadata": {
    "executionCancelledAt": null,
    "executionTime": 51,
    "lastExecutedAt": 1707299899580,
    "lastScheduledRunId": null,
    "lastSuccessfullyExecutedCode": "# sex\nlogistic_regression(df_dod, 'sex', 'dod')",
    "outputsMetadata": {
     "0": {
      "height": 77,
      "type": "stream"
     },
     "1": {
      "height": 98,
      "type": "dataFrame"
     }
    }
   },
   "outputs": [],
   "source": [
    "# sex\n",
    "logistic_regression(df_dod, 'sex', 'dod')"
   ]
  },
  {
   "cell_type": "code",
   "execution_count": null,
   "id": "3845e408-4a05-4371-88fd-d3ef9b15dfeb",
   "metadata": {
    "executionCancelledAt": null,
    "executionTime": 57,
    "lastExecutedAt": 1707299899637,
    "lastScheduledRunId": null,
    "lastSuccessfullyExecutedCode": "# variant_histology\nlogistic_regression(df_dod, 'variant_histology', 'dod')",
    "outputsMetadata": {
     "0": {
      "height": 77,
      "type": "stream"
     },
     "1": {
      "height": 98,
      "type": "dataFrame"
     }
    }
   },
   "outputs": [],
   "source": [
    "# variant_histology\n",
    "logistic_regression(df_dod, 'variant_histology', 'dod')"
   ]
  },
  {
   "cell_type": "code",
   "execution_count": null,
   "id": "955fc81e-12d0-4c3a-a1f0-a394e15edf7d",
   "metadata": {
    "executionCancelledAt": null,
    "executionTime": 51,
    "lastExecutedAt": 1707299899688,
    "lastScheduledRunId": null,
    "lastSuccessfullyExecutedCode": "# ypT\nlogistic_regression(df_dod, 'ypT', 'dod')",
    "outputsMetadata": {
     "0": {
      "height": 77,
      "type": "stream"
     },
     "1": {
      "height": 98,
      "type": "dataFrame"
     }
    }
   },
   "outputs": [],
   "source": [
    "# ypT\n",
    "logistic_regression(df_dod, 'ypT', 'dod')"
   ]
  },
  {
   "cell_type": "code",
   "execution_count": null,
   "id": "d70f39b7-1450-46de-92fc-2e7178f465a4",
   "metadata": {
    "executionCancelledAt": null,
    "executionTime": 53,
    "lastExecutedAt": 1707299899741,
    "lastScheduledRunId": null,
    "lastSuccessfullyExecutedCode": "# ypN\nlogistic_regression(df_dod, 'ypN', 'dod')",
    "outputsMetadata": {
     "0": {
      "height": 77,
      "type": "stream"
     },
     "1": {
      "height": 98,
      "type": "dataFrame"
     }
    }
   },
   "outputs": [],
   "source": [
    "# ypN\n",
    "logistic_regression(df_dod, 'ypN', 'dod')"
   ]
  },
  {
   "cell_type": "code",
   "execution_count": null,
   "id": "0a097ab8-3be2-4db6-b1e9-520bef7efee3",
   "metadata": {
    "executionCancelledAt": null,
    "executionTime": 51,
    "lastExecutedAt": 1707299899792,
    "lastScheduledRunId": null,
    "lastSuccessfullyExecutedCode": "# Adjusted OR\n# logistic_regression(df_dod, ['age','sex','variant_histology','ypT','ypN'], 'dod')"
   },
   "outputs": [],
   "source": [
    "# Adjusted OR - Multivariate 1\n",
    "logistic_regression(df_dod, ['age','sex','variant_histology','ypT'], 'dod')"
   ]
  },
  {
   "cell_type": "code",
   "execution_count": null,
   "id": "bf8e8ca7",
   "metadata": {},
   "outputs": [],
   "source": [
    "# Adjusted OR - Multivariate 2\n",
    "logistic_regression(df_dod, ['age','sex','variant_histology','ypN'], 'dod')"
   ]
  },
  {
   "cell_type": "markdown",
   "id": "1995fbae-88fa-4521-a292-6ec70cf815e0",
   "metadata": {},
   "source": [
    "# HR - Death by cancer"
   ]
  },
  {
   "cell_type": "code",
   "execution_count": null,
   "id": "f8d52277-b8d2-4775-8a09-eaba116d5c0d",
   "metadata": {
    "executionCancelledAt": null,
    "executionTime": 65,
    "lastExecutedAt": 1707299899858,
    "lastScheduledRunId": null,
    "lastSuccessfullyExecutedCode": "# age\ncox_regression(df_dod, 'fu_censor', 'age', 'dod')",
    "outputsMetadata": {
     "0": {
      "height": 98,
      "type": "dataFrame"
     }
    }
   },
   "outputs": [],
   "source": [
    "# age\n",
    "cox_regression(df_dod, 'fu_censor', 'age', 'dod')"
   ]
  },
  {
   "cell_type": "code",
   "execution_count": null,
   "id": "1643cd86-8ff5-4fba-aa47-3a433a34e3c5",
   "metadata": {
    "executionCancelledAt": null,
    "executionTime": 63,
    "lastExecutedAt": 1707299899921,
    "lastScheduledRunId": null,
    "lastSuccessfullyExecutedCode": "# sex\ncox_regression(df_dod, 'fu_censor', 'sex', 'dod')",
    "outputsMetadata": {
     "0": {
      "height": 98,
      "type": "dataFrame"
     }
    }
   },
   "outputs": [],
   "source": [
    "# sex\n",
    "cox_regression(df_dod, 'fu_censor', 'sex', 'dod')"
   ]
  },
  {
   "cell_type": "code",
   "execution_count": null,
   "id": "09e07111-cb4e-4da4-a7e0-8eb4b99ed88b",
   "metadata": {
    "executionCancelledAt": null,
    "executionTime": 64,
    "lastExecutedAt": 1707299899985,
    "lastScheduledRunId": null,
    "lastSuccessfullyExecutedCode": "# variant_histology\ncox_regression(df_dod, 'fu_censor', 'variant_histology', 'dod')",
    "outputsMetadata": {
     "0": {
      "height": 98,
      "type": "dataFrame"
     }
    }
   },
   "outputs": [],
   "source": [
    "# variant_histology\n",
    "cox_regression(df_dod, 'fu_censor', 'variant_histology', 'dod')"
   ]
  },
  {
   "cell_type": "code",
   "execution_count": null,
   "id": "614f9422-e42e-4209-9f49-b3de2bd71965",
   "metadata": {
    "executionCancelledAt": null,
    "executionTime": 62,
    "lastExecutedAt": 1707299900047,
    "lastScheduledRunId": null,
    "lastSuccessfullyExecutedCode": "# ypT\ncox_regression(df_dod, 'fu_censor', 'ypT', 'dod')",
    "outputsMetadata": {
     "0": {
      "height": 98,
      "type": "dataFrame"
     }
    }
   },
   "outputs": [],
   "source": [
    "# ypT\n",
    "cox_regression(df_dod, 'fu_censor', 'ypT', 'dod')"
   ]
  },
  {
   "cell_type": "code",
   "execution_count": null,
   "id": "b4581237-5925-49e9-8663-8ff9fc697b23",
   "metadata": {
    "executionCancelledAt": null,
    "executionTime": 62,
    "lastExecutedAt": 1707299900109,
    "lastScheduledRunId": null,
    "lastSuccessfullyExecutedCode": "# ypN\ncox_regression(df_dod, 'fu_censor', 'ypN', 'dod')",
    "outputsMetadata": {
     "0": {
      "height": 98,
      "type": "dataFrame"
     }
    }
   },
   "outputs": [],
   "source": [
    "# ypN\n",
    "cox_regression(df_dod, 'fu_censor', 'ypN', 'dod')"
   ]
  },
  {
   "cell_type": "code",
   "execution_count": null,
   "id": "7258efce-5588-409e-8b05-208b30a74987",
   "metadata": {
    "executionCancelledAt": null,
    "executionTime": 47,
    "lastExecutedAt": 1707299900156,
    "lastScheduledRunId": null,
    "lastSuccessfullyExecutedCode": "# Adjusted HR\n# cox_regression(df_dod, 'fu_censor', 'age + sex + variant_histology + ypT + ypN', 'dod')"
   },
   "outputs": [],
   "source": [
    "# Adjusted HR - Multivariate 1\n",
    "cox_regression(df_dod, 'fu_censor', 'age + sex + variant_histology + ypT', 'dod')"
   ]
  },
  {
   "cell_type": "code",
   "execution_count": null,
   "id": "99382fad",
   "metadata": {},
   "outputs": [],
   "source": [
    "# Adjusted HR - Multivariate 2\n",
    "cox_regression(df_dod, 'fu_censor', 'age + sex + variant_histology + ypN', 'dod')"
   ]
  },
  {
   "cell_type": "markdown",
   "id": "bf12520a-4b8b-43b9-9553-5856c5f864eb",
   "metadata": {},
   "source": [
    "# OR - Death by other causes"
   ]
  },
  {
   "cell_type": "code",
   "execution_count": null,
   "id": "0af36879-2991-4654-9e24-46e182db9015",
   "metadata": {
    "executionCancelledAt": null,
    "executionTime": 51,
    "lastExecutedAt": 1707299900208,
    "lastScheduledRunId": null,
    "lastSuccessfullyExecutedCode": "# Copy dataset and drop NANs values\ndf_doc = df.dropna(subset=['recurrence']).copy()"
   },
   "outputs": [],
   "source": [
    "# Copy dataset and drop NANs values\n",
    "df_doc = df.dropna(subset=['recurrence']).copy()"
   ]
  },
  {
   "cell_type": "code",
   "execution_count": null,
   "id": "eb61832c-0155-4b49-8861-a738e8390b16",
   "metadata": {
    "executionCancelledAt": null,
    "executionTime": 56,
    "lastExecutedAt": 1707299900265,
    "lastScheduledRunId": null,
    "lastSuccessfullyExecutedCode": "# Create dummy variables for predictors and outcome\ndf_doc = pd.get_dummies(df_doc, columns=['sex','variant_histology','ypT_group1','ypN_group1','doc'], drop_first=True)\n\n# sex: Female vs Male\n# variant_histology: No vs Yes\n# ypT: pT0-pTis-pTa vs pT2-pT3\n# ypN: pN0 vs pN1-pN2-pN3\ndf_doc = df_doc.rename(columns={'ypT_group1_pT2-pT3':'ypT','ypN_group1_pN1-pN2-pN3':'ypN','sex_Male':'sex','variant_histology_Yes':'variant_histology','doc_Yes':'doc'})\ndf_doc = df_doc[['age','sex','variant_histology','ypT','ypN','doc','fu_censor']]\ndf_doc.info()",
    "outputsMetadata": {
     "0": {
      "height": 297,
      "type": "stream"
     }
    }
   },
   "outputs": [],
   "source": [
    "# Create dummy variables for predictors and outcome\n",
    "df_doc = pd.get_dummies(df_doc, columns=['sex','variant_histology','ypT_group1','ypN_group1','doc'], drop_first=True)\n",
    "\n",
    "# sex: Female vs Male\n",
    "# variant_histology: No vs Yes\n",
    "# ypT: pT0-pTis-pTa vs pT2-pT3\n",
    "# ypN: pN0 vs pN1-pN2-pN3\n",
    "df_doc = df_doc.rename(columns={'ypT_group1_pT2-pT3':'ypT','ypN_group1_pN1-pN2-pN3':'ypN','sex_Male':'sex','variant_histology_Yes':'variant_histology','doc_Yes':'doc'})\n",
    "df_doc = df_doc[['age','sex','variant_histology','ypT','ypN','doc','fu_censor']]\n",
    "df_doc.info()"
   ]
  },
  {
   "cell_type": "code",
   "execution_count": null,
   "id": "4d5c43f2",
   "metadata": {},
   "outputs": [],
   "source": [
    "# Correlation matrix\n",
    "correlation_matrix = df_doc.corr().abs()\n",
    "\n",
    "# Create heatmap\n",
    "plt.figure(figsize=(10, 8))\n",
    "sns.heatmap(correlation_matrix, annot=True, cmap='coolwarm')\n",
    "plt.title('Correlation Matrix')\n",
    "plt.show()\n",
    "\n",
    "correlation_matrix"
   ]
  },
  {
   "cell_type": "code",
   "execution_count": null,
   "id": "6642e68e-0a4c-4921-a57b-64ddef4a94bc",
   "metadata": {
    "executionCancelledAt": null,
    "executionTime": 51,
    "lastExecutedAt": 1707299900316,
    "lastScheduledRunId": null,
    "lastSuccessfullyExecutedCode": "# age\nlogistic_regression(df_doc, 'age', 'doc')",
    "outputsMetadata": {
     "0": {
      "height": 77,
      "type": "stream"
     },
     "1": {
      "height": 98,
      "type": "dataFrame"
     }
    }
   },
   "outputs": [],
   "source": [
    "# age\n",
    "logistic_regression(df_doc, 'age', 'doc')"
   ]
  },
  {
   "cell_type": "code",
   "execution_count": null,
   "id": "56a7ecff-9d50-4d05-88fb-d754e5be71cd",
   "metadata": {
    "executionCancelledAt": null,
    "executionTime": 57,
    "lastExecutedAt": 1707299900373,
    "lastScheduledRunId": null,
    "lastSuccessfullyExecutedCode": "# sex\nlogistic_regression(df_doc, 'sex', 'doc')",
    "outputsMetadata": {
     "0": {
      "height": 77,
      "type": "stream"
     },
     "1": {
      "height": 98,
      "type": "dataFrame"
     }
    }
   },
   "outputs": [],
   "source": [
    "# sex\n",
    "logistic_regression(df_doc, 'sex', 'doc')"
   ]
  },
  {
   "cell_type": "code",
   "execution_count": null,
   "id": "ea292e8e-9b3d-4428-ba70-c565d08c5009",
   "metadata": {
    "executionCancelledAt": null,
    "executionTime": 47,
    "lastExecutedAt": 1707299900420,
    "lastScheduledRunId": null,
    "lastSuccessfullyExecutedCode": "# variant_histology\nlogistic_regression(df_doc, 'variant_histology', 'doc')",
    "outputsMetadata": {
     "0": {
      "height": 77,
      "type": "stream"
     },
     "1": {
      "height": 98,
      "type": "dataFrame"
     }
    }
   },
   "outputs": [],
   "source": [
    "# variant_histology\n",
    "logistic_regression(df_doc, 'variant_histology', 'doc')"
   ]
  },
  {
   "cell_type": "code",
   "execution_count": null,
   "id": "9b72405b-6539-4b34-8c12-e146248f5166",
   "metadata": {
    "executionCancelledAt": null,
    "executionTime": 52,
    "lastExecutedAt": 1707299900472,
    "lastScheduledRunId": null,
    "lastSuccessfullyExecutedCode": "# ypT\nlogistic_regression(df_doc, 'ypT', 'doc')",
    "outputsMetadata": {
     "0": {
      "height": 77,
      "type": "stream"
     },
     "1": {
      "height": 98,
      "type": "dataFrame"
     }
    }
   },
   "outputs": [],
   "source": [
    "# ypT\n",
    "logistic_regression(df_doc, 'ypT', 'doc')"
   ]
  },
  {
   "cell_type": "code",
   "execution_count": null,
   "id": "42f4671a-234e-4838-bbc1-5795b464897d",
   "metadata": {
    "executionCancelledAt": null,
    "executionTime": 53,
    "lastExecutedAt": 1707299900525,
    "lastScheduledRunId": null,
    "lastSuccessfullyExecutedCode": "# ypN\nlogistic_regression(df_doc, 'ypN', 'doc')",
    "outputsMetadata": {
     "0": {
      "height": 77,
      "type": "stream"
     },
     "1": {
      "height": 98,
      "type": "dataFrame"
     }
    }
   },
   "outputs": [],
   "source": [
    "# ypN\n",
    "logistic_regression(df_doc, 'ypN', 'doc')"
   ]
  },
  {
   "cell_type": "code",
   "execution_count": null,
   "id": "498c4803-332a-42ed-a775-cbdf2b505993",
   "metadata": {
    "executionCancelledAt": null,
    "executionTime": 47,
    "lastExecutedAt": 1707299900572,
    "lastScheduledRunId": null,
    "lastSuccessfullyExecutedCode": "# Adjusted OR\n# logistic_regression(df_doc, ['age','sex','variant_histology','ypT','ypN'], 'doc')"
   },
   "outputs": [],
   "source": [
    "# Adjusted OR - Multivariate 1\n",
    "logistic_regression(df_doc, ['age','sex','variant_histology','ypT'], 'doc')"
   ]
  },
  {
   "cell_type": "code",
   "execution_count": null,
   "id": "a8758ba5",
   "metadata": {},
   "outputs": [],
   "source": [
    "# Adjusted OR - Multivariate 2\n",
    "logistic_regression(df_doc, ['age','sex','variant_histology','ypN'], 'doc')"
   ]
  },
  {
   "cell_type": "markdown",
   "id": "a520fd9c-454c-4a9f-b035-5efe92a8649c",
   "metadata": {},
   "source": [
    "# HR - Death by other causes"
   ]
  },
  {
   "cell_type": "code",
   "execution_count": null,
   "id": "b1a1ce25-14d7-48b8-8577-bccf048f5d23",
   "metadata": {
    "executionCancelledAt": null,
    "executionTime": 65,
    "lastExecutedAt": 1707299900638,
    "lastScheduledRunId": null,
    "lastSuccessfullyExecutedCode": "# age\ncox_regression(df_doc, 'fu_censor', 'age', 'doc')",
    "outputsMetadata": {
     "0": {
      "height": 98,
      "type": "dataFrame"
     }
    }
   },
   "outputs": [],
   "source": [
    "# age\n",
    "cox_regression(df_doc, 'fu_censor', 'age', 'doc')"
   ]
  },
  {
   "cell_type": "code",
   "execution_count": null,
   "id": "a02f7139-45ed-41b2-a5d6-f5d5992a4a5e",
   "metadata": {
    "executionCancelledAt": null,
    "executionTime": 67,
    "lastExecutedAt": 1707299900705,
    "lastScheduledRunId": null,
    "lastSuccessfullyExecutedCode": "# sex\ncox_regression(df_doc, 'fu_censor', 'sex', 'doc')",
    "outputsMetadata": {
     "0": {
      "height": 98,
      "type": "dataFrame"
     }
    }
   },
   "outputs": [],
   "source": [
    "# sex\n",
    "cox_regression(df_doc, 'fu_censor', 'sex', 'doc')"
   ]
  },
  {
   "cell_type": "code",
   "execution_count": null,
   "id": "138549e6-2fc2-45e5-8068-d942e5bed40b",
   "metadata": {
    "executionCancelledAt": null,
    "executionTime": 69,
    "lastExecutedAt": 1707299900774,
    "lastScheduledRunId": null,
    "lastSuccessfullyExecutedCode": "# variant_histology\ncox_regression(df_doc, 'fu_censor', 'variant_histology', 'doc')",
    "outputsMetadata": {
     "0": {
      "height": 98,
      "type": "dataFrame"
     }
    }
   },
   "outputs": [],
   "source": [
    "# variant_histology\n",
    "cox_regression(df_doc, 'fu_censor', 'variant_histology', 'doc')"
   ]
  },
  {
   "cell_type": "code",
   "execution_count": null,
   "id": "bd52466c-e514-4200-a8d8-3fb9a3691053",
   "metadata": {
    "executionCancelledAt": null,
    "executionTime": 69,
    "lastExecutedAt": 1707299900844,
    "lastScheduledRunId": null,
    "lastSuccessfullyExecutedCode": "# ypT\ncox_regression(df_doc, 'fu_censor', 'ypT', 'doc')",
    "outputsMetadata": {
     "0": {
      "height": 98,
      "type": "dataFrame"
     }
    }
   },
   "outputs": [],
   "source": [
    "# ypT\n",
    "cox_regression(df_doc, 'fu_censor', 'ypT', 'doc')"
   ]
  },
  {
   "cell_type": "code",
   "execution_count": null,
   "id": "482bd028-e964-4751-8888-a7a39494ecf9",
   "metadata": {
    "executionCancelledAt": null,
    "executionTime": 70,
    "lastExecutedAt": 1707299900914,
    "lastScheduledRunId": null,
    "lastSuccessfullyExecutedCode": "# ypN\ncox_regression(df_doc, 'fu_censor', 'ypN', 'doc')",
    "outputsMetadata": {
     "0": {
      "height": 98,
      "type": "dataFrame"
     }
    }
   },
   "outputs": [],
   "source": [
    "# ypN\n",
    "cox_regression(df_doc, 'fu_censor', 'ypN', 'doc')"
   ]
  },
  {
   "cell_type": "code",
   "execution_count": null,
   "id": "33097495-7090-4a46-be71-93ec8da9e384",
   "metadata": {
    "executionCancelledAt": null,
    "executionTime": 46,
    "lastExecutedAt": 1707299900960,
    "lastScheduledRunId": null,
    "lastSuccessfullyExecutedCode": "# Adjusted HR\n# cox_regression(df_doc, 'fu_censor', 'age + sex + variant_histology + ypT + ypN', 'doc')"
   },
   "outputs": [],
   "source": [
    "# Adjusted HR - Multivariate 1\n",
    "cox_regression(df_doc, 'fu_censor', 'age + sex + variant_histology + ypT', 'doc')"
   ]
  },
  {
   "cell_type": "code",
   "execution_count": null,
   "id": "3419c86c",
   "metadata": {},
   "outputs": [],
   "source": [
    "# Adjusted HR - Multivariate 2\n",
    "cox_regression(df_doc, 'fu_censor', 'age + sex + variant_histology + ypN', 'doc')"
   ]
  },
  {
   "cell_type": "markdown",
   "id": "2e11827d-d3aa-4569-9496-20b3a9b37608",
   "metadata": {},
   "source": [
    "# OR - Disease-related event"
   ]
  },
  {
   "cell_type": "code",
   "execution_count": null,
   "id": "91307ef2-2e68-434b-86ea-00f1d5115bd6",
   "metadata": {
    "executionCancelledAt": null,
    "executionTime": 51,
    "lastExecutedAt": 1707299901012,
    "lastScheduledRunId": null,
    "lastSuccessfullyExecutedCode": "df_dre = df.dropna(subset=['dre']).copy()"
   },
   "outputs": [],
   "source": [
    "df_dre = df.dropna(subset=['dre']).copy()"
   ]
  },
  {
   "cell_type": "code",
   "execution_count": null,
   "id": "d39ef49d-7ed5-44ef-81c7-234d696e5a1d",
   "metadata": {
    "executionCancelledAt": null,
    "executionTime": 56,
    "lastExecutedAt": 1707299901069,
    "lastScheduledRunId": null,
    "lastSuccessfullyExecutedCode": "# Create dummy variables for predictors and outcome\ndf_dre = pd.get_dummies(df_dre, columns=['sex','variant_histology','ypT_group1','ypN_group1','dre'], drop_first=True)\n\n# sex: Female vs Male\n# variant_histology: No vs Yes\n# ypT: pT0-pTis-pTa vs pT2-pT3\n# ypN: pN0 vs pN1-pN2-pN3\ndf_dre = df_dre.rename(columns={'ypT_group1_pT2-pT3':'ypT','ypN_group1_pN1-pN2-pN3':'ypN','sex_Male':'sex','variant_histology_Yes':'variant_histology','dre_Yes':'dre'})\ndf_dre = df_dre[['age','sex','variant_histology','ypT','ypN','dre','fu_censor']]\ndf_doc.info()",
    "outputsMetadata": {
     "0": {
      "height": 297,
      "type": "stream"
     }
    }
   },
   "outputs": [],
   "source": [
    "# Create dummy variables for predictors and outcome\n",
    "df_dre = pd.get_dummies(df_dre, columns=['sex','variant_histology','ypT_group1','ypN_group1','dre'], drop_first=True)\n",
    "\n",
    "# sex: Female vs Male\n",
    "# variant_histology: No vs Yes\n",
    "# ypT: pT0-pTis-pTa vs pT2-pT3\n",
    "# ypN: pN0 vs pN1-pN2-pN3\n",
    "df_dre = df_dre.rename(columns={'ypT_group1_pT2-pT3':'ypT','ypN_group1_pN1-pN2-pN3':'ypN','sex_Male':'sex','variant_histology_Yes':'variant_histology','dre_Yes':'dre'})\n",
    "df_dre = df_dre[['age','sex','variant_histology','ypT','ypN','dre','fu_censor']]\n",
    "df_doc.info()"
   ]
  },
  {
   "cell_type": "code",
   "execution_count": null,
   "id": "fa42dffa",
   "metadata": {},
   "outputs": [],
   "source": [
    "# Correlation matrix\n",
    "correlation_matrix = df_dre.corr().abs()\n",
    "\n",
    "# Create heatmap\n",
    "plt.figure(figsize=(10, 8))\n",
    "sns.heatmap(correlation_matrix, annot=True, cmap='coolwarm')\n",
    "plt.title('Correlation Matrix')\n",
    "plt.show()\n",
    "\n",
    "correlation_matrix"
   ]
  },
  {
   "cell_type": "code",
   "execution_count": null,
   "id": "0fa36a6c-8046-4bb9-aa6a-485ffa0d214d",
   "metadata": {
    "executionCancelledAt": null,
    "executionTime": 52,
    "lastExecutedAt": 1707299901121,
    "lastScheduledRunId": null,
    "lastSuccessfullyExecutedCode": "# age\nlogistic_regression(df_dre, 'age', 'dre')",
    "outputsMetadata": {
     "0": {
      "height": 77,
      "type": "stream"
     },
     "1": {
      "height": 98,
      "type": "dataFrame"
     }
    }
   },
   "outputs": [],
   "source": [
    "# age\n",
    "logistic_regression(df_dre, 'age', 'dre')"
   ]
  },
  {
   "cell_type": "code",
   "execution_count": null,
   "id": "e117efec-6a4b-445a-b5c8-724a3c52f81f",
   "metadata": {
    "executionCancelledAt": null,
    "executionTime": 52,
    "lastExecutedAt": 1707299901173,
    "lastScheduledRunId": null,
    "lastSuccessfullyExecutedCode": "# sex\nlogistic_regression(df_dre, 'sex', 'dre')",
    "outputsMetadata": {
     "0": {
      "height": 77,
      "type": "stream"
     },
     "1": {
      "height": 98,
      "type": "dataFrame"
     }
    }
   },
   "outputs": [],
   "source": [
    "# sex\n",
    "logistic_regression(df_dre, 'sex', 'dre')"
   ]
  },
  {
   "cell_type": "code",
   "execution_count": null,
   "id": "b891f33c-4825-496b-b256-cca1a6a2a5b5",
   "metadata": {
    "executionCancelledAt": null,
    "executionTime": 51,
    "lastExecutedAt": 1707299901224,
    "lastScheduledRunId": null,
    "lastSuccessfullyExecutedCode": "# variant_histology\nlogistic_regression(df_dre, 'variant_histology', 'dre')",
    "outputsMetadata": {
     "0": {
      "height": 77,
      "type": "stream"
     },
     "1": {
      "height": 98,
      "type": "dataFrame"
     }
    }
   },
   "outputs": [],
   "source": [
    "# variant_histology\n",
    "logistic_regression(df_dre, 'variant_histology', 'dre')"
   ]
  },
  {
   "cell_type": "code",
   "execution_count": null,
   "id": "7a0f60ba-c148-487a-96c7-fe92c3a530af",
   "metadata": {
    "executionCancelledAt": null,
    "executionTime": 52,
    "lastExecutedAt": 1707299901276,
    "lastScheduledRunId": null,
    "lastSuccessfullyExecutedCode": "# ypT\nlogistic_regression(df_dre, 'ypT', 'dre')",
    "outputsMetadata": {
     "0": {
      "height": 77,
      "type": "stream"
     },
     "1": {
      "height": 98,
      "type": "dataFrame"
     }
    }
   },
   "outputs": [],
   "source": [
    "# ypT\n",
    "logistic_regression(df_dre, 'ypT', 'dre')"
   ]
  },
  {
   "cell_type": "code",
   "execution_count": null,
   "id": "add500f9-f381-40ae-b789-1db8da840162",
   "metadata": {
    "executionCancelledAt": null,
    "executionTime": 57,
    "lastExecutedAt": 1707299901333,
    "lastScheduledRunId": null,
    "lastSuccessfullyExecutedCode": "# ypN\nlogistic_regression(df_dre, 'ypN', 'dre')",
    "outputsMetadata": {
     "0": {
      "height": 77,
      "type": "stream"
     },
     "1": {
      "height": 98,
      "type": "dataFrame"
     }
    }
   },
   "outputs": [],
   "source": [
    "# ypN\n",
    "logistic_regression(df_dre, 'ypN', 'dre')"
   ]
  },
  {
   "cell_type": "code",
   "execution_count": null,
   "id": "03a5c8ac-6d39-47cc-88cf-eae68c2aa37d",
   "metadata": {
    "executionCancelledAt": null,
    "executionTime": 51,
    "lastExecutedAt": 1707299901384,
    "lastScheduledRunId": null,
    "lastSuccessfullyExecutedCode": "# Adjusted OR\n# logistic_regression(df_dre, ['age','sex','variant_histology','ypT','ypN'], 'dre')"
   },
   "outputs": [],
   "source": [
    "# Adjusted OR - Multivariate 1\n",
    "logistic_regression(df_dre, ['age','sex','variant_histology','ypT'], 'dre')"
   ]
  },
  {
   "cell_type": "code",
   "execution_count": null,
   "id": "c1d45676",
   "metadata": {},
   "outputs": [],
   "source": [
    "# Adjusted OR - Multivariate 2\n",
    "logistic_regression(df_dre, ['age','sex','variant_histology','ypN'], 'dre')"
   ]
  },
  {
   "cell_type": "markdown",
   "id": "11b3cbc2-ff79-4b6d-91f3-fc6b64c9fa39",
   "metadata": {},
   "source": [
    "# HR - Disease-related event"
   ]
  },
  {
   "cell_type": "code",
   "execution_count": null,
   "id": "d9c5aa3c-2012-458f-a0f6-0dcea29f4791",
   "metadata": {
    "executionCancelledAt": null,
    "executionTime": 66,
    "lastExecutedAt": 1707299901451,
    "lastScheduledRunId": null,
    "lastSuccessfullyExecutedCode": "# age\ncox_regression(df_dre, 'fu_censor', 'age', 'dre')",
    "outputsMetadata": {
     "0": {
      "height": 98,
      "type": "dataFrame"
     }
    }
   },
   "outputs": [],
   "source": [
    "# age\n",
    "cox_regression(df_dre, 'fu_censor', 'age', 'dre')"
   ]
  },
  {
   "cell_type": "code",
   "execution_count": null,
   "id": "b0da0b77-0afc-4cf5-8092-5c8fd3bdc181",
   "metadata": {
    "executionCancelledAt": null,
    "executionTime": 69,
    "lastExecutedAt": 1707299901521,
    "lastScheduledRunId": null,
    "lastSuccessfullyExecutedCode": "# sex\ncox_regression(df_dre, 'fu_censor', 'sex', 'dre')",
    "outputsMetadata": {
     "0": {
      "height": 98,
      "type": "dataFrame"
     }
    }
   },
   "outputs": [],
   "source": [
    "# sex\n",
    "cox_regression(df_dre, 'fu_censor', 'sex', 'dre')"
   ]
  },
  {
   "cell_type": "code",
   "execution_count": null,
   "id": "72eba623-377f-4e1f-976d-35ca541d99b3",
   "metadata": {
    "executionCancelledAt": null,
    "executionTime": 66,
    "lastExecutedAt": 1707299901587,
    "lastScheduledRunId": null,
    "lastSuccessfullyExecutedCode": "# variant_histology\ncox_regression(df_dre, 'fu_censor', 'variant_histology', 'dre')",
    "outputsMetadata": {
     "0": {
      "height": 98,
      "type": "dataFrame"
     }
    }
   },
   "outputs": [],
   "source": [
    "# variant_histology\n",
    "cox_regression(df_dre, 'fu_censor', 'variant_histology', 'dre')"
   ]
  },
  {
   "cell_type": "code",
   "execution_count": null,
   "id": "2941182f-8bc9-484f-8631-c6ef7249f94c",
   "metadata": {
    "executionCancelledAt": null,
    "executionTime": 63,
    "lastExecutedAt": 1707299901650,
    "lastScheduledRunId": null,
    "lastSuccessfullyExecutedCode": "# ypT\ncox_regression(df_dre, 'fu_censor', 'ypT', 'dre')",
    "outputsMetadata": {
     "0": {
      "height": 98,
      "type": "dataFrame"
     }
    }
   },
   "outputs": [],
   "source": [
    "# ypT\n",
    "cox_regression(df_dre, 'fu_censor', 'ypT', 'dre')"
   ]
  },
  {
   "cell_type": "code",
   "execution_count": null,
   "id": "5f719eff-1e0c-4ad7-98eb-df8b9cc2c16b",
   "metadata": {
    "executionCancelledAt": null,
    "executionTime": 64,
    "lastExecutedAt": 1707299901714,
    "lastScheduledRunId": null,
    "lastSuccessfullyExecutedCode": "# ypN\ncox_regression(df_dre, 'fu_censor', 'ypN', 'dre')",
    "outputsMetadata": {
     "0": {
      "height": 98,
      "type": "dataFrame"
     }
    }
   },
   "outputs": [],
   "source": [
    "# ypN\n",
    "cox_regression(df_dre, 'fu_censor', 'ypN', 'dre')"
   ]
  },
  {
   "cell_type": "code",
   "execution_count": null,
   "id": "cbfab73c-cf74-46e4-8a20-5fdce733df45",
   "metadata": {
    "executionCancelledAt": null,
    "executionTime": 46,
    "lastExecutedAt": 1707299901760,
    "lastScheduledRunId": null,
    "lastSuccessfullyExecutedCode": "# Adjusted HR\n# cox_regression(df_dre, 'fu_censor', 'age + sex + variant_histology + ypT + ypN', 'dre')"
   },
   "outputs": [],
   "source": [
    "# Adjusted HR - Multivariate 1\n",
    "cox_regression(df_dre, 'fu_censor', 'age + sex + variant_histology + ypT', 'dre')"
   ]
  },
  {
   "cell_type": "code",
   "execution_count": null,
   "id": "6ce92ada",
   "metadata": {},
   "outputs": [],
   "source": [
    "# Adjusted HR - Multivariate 2\n",
    "cox_regression(df_dre, 'fu_censor', 'age + sex + variant_histology + ypN', 'dre')"
   ]
  }
 ],
 "metadata": {
  "editor": "DataCamp Workspace",
  "kernelspec": {
   "display_name": "Python 3",
   "language": "python",
   "name": "python3"
  },
  "language_info": {
   "codemirror_mode": {
    "name": "ipython",
    "version": 3
   },
   "file_extension": ".py",
   "mimetype": "text/x-python",
   "name": "python",
   "nbconvert_exporter": "python",
   "pygments_lexer": "ipython3",
   "version": "3.9.6"
  }
 },
 "nbformat": 4,
 "nbformat_minor": 5
}
