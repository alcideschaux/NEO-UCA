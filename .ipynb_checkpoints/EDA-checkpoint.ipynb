{
 "cells": [
  {
   "cell_type": "code",
   "execution_count": 1,
   "id": "1270edf4-0f57-43a3-926c-bf5a90424d5f",
   "metadata": {},
   "outputs": [
    {
     "name": "stderr",
     "output_type": "stream",
     "text": [
      "── \u001b[1mAttaching core tidyverse packages\u001b[22m ──────────────────────── tidyverse 2.0.0 ──\n",
      "\u001b[32m✔\u001b[39m \u001b[34mdplyr    \u001b[39m 1.1.4     \u001b[32m✔\u001b[39m \u001b[34mreadr    \u001b[39m 2.1.5\n",
      "\u001b[32m✔\u001b[39m \u001b[34mforcats  \u001b[39m 1.0.0     \u001b[32m✔\u001b[39m \u001b[34mstringr  \u001b[39m 1.5.1\n",
      "\u001b[32m✔\u001b[39m \u001b[34mggplot2  \u001b[39m 3.5.1     \u001b[32m✔\u001b[39m \u001b[34mtibble   \u001b[39m 3.2.1\n",
      "\u001b[32m✔\u001b[39m \u001b[34mlubridate\u001b[39m 1.9.4     \u001b[32m✔\u001b[39m \u001b[34mtidyr    \u001b[39m 1.3.1\n",
      "\u001b[32m✔\u001b[39m \u001b[34mpurrr    \u001b[39m 1.0.2     \n",
      "── \u001b[1mConflicts\u001b[22m ────────────────────────────────────────── tidyverse_conflicts() ──\n",
      "\u001b[31m✖\u001b[39m \u001b[34mdplyr\u001b[39m::\u001b[32mfilter()\u001b[39m masks \u001b[34mstats\u001b[39m::filter()\n",
      "\u001b[31m✖\u001b[39m \u001b[34mdplyr\u001b[39m::\u001b[32mlag()\u001b[39m    masks \u001b[34mstats\u001b[39m::lag()\n",
      "\u001b[36mℹ\u001b[39m Use the conflicted package (\u001b[3m\u001b[34m<http://conflicted.r-lib.org/>\u001b[39m\u001b[23m) to force all conflicts to become errors\n",
      "\n",
      "Adjuntando el paquete: ‘kableExtra’\n",
      "\n",
      "\n",
      "The following object is masked from ‘package:dplyr’:\n",
      "\n",
      "    group_rows\n",
      "\n",
      "\n"
     ]
    }
   ],
   "source": [
    "# Load the tidyverse suite for data manipulation and visualization\n",
    "library(tidyverse)\n",
    "\n",
    "# Additional packages for specific analyses\n",
    "library(lubridate)    # For working with dates\n",
    "library(broom)        # For tidying model outputs\n",
    "library(knitr)        # For creating neat tables\n",
    "library(kableExtra)   # For enhancing tables created with knitr\n",
    "library(survival)     # For survival analysis"
   ]
  },
  {
   "cell_type": "code",
   "execution_count": 2,
   "id": "4268a30b-fd23-4c85-823d-46007ab141c9",
   "metadata": {},
   "outputs": [
    {
     "name": "stderr",
     "output_type": "stream",
     "text": [
      "\u001b[1mRows: \u001b[22m\u001b[34m174\u001b[39m \u001b[1mColumns: \u001b[22m\u001b[34m17\u001b[39m\n",
      "\u001b[36m──\u001b[39m \u001b[1mColumn specification\u001b[22m \u001b[36m────────────────────────────────────────────────────────\u001b[39m\n",
      "\u001b[1mDelimiter:\u001b[22m \",\"\n",
      "\u001b[31mchr\u001b[39m (13): id, variant_histology, ypT_stage, ypN_stage, recurrence, dod, doc,...\n",
      "\u001b[32mdbl\u001b[39m  (4): age, fu_recurrence, fu_censor, year_cystectomy\n",
      "\n",
      "\u001b[36mℹ\u001b[39m Use `spec()` to retrieve the full column specification for this data.\n",
      "\u001b[36mℹ\u001b[39m Specify the column types or set `show_col_types = FALSE` to quiet this message.\n"
     ]
    },
    {
     "name": "stdout",
     "output_type": "stream",
     "text": [
      "Rows: 174\n",
      "Columns: 17\n",
      "$ id                \u001b[3m\u001b[90m<chr>\u001b[39m\u001b[23m \"ID-001\", \"ID-002\", \"ID-003\", \"ID-004\", \"ID-005\", \"I…\n",
      "$ age               \u001b[3m\u001b[90m<dbl>\u001b[39m\u001b[23m 68, 53, 51, 69, 62, 64, 82, 66, 64, 74, 51, 59, 79, …\n",
      "$ variant_histology \u001b[3m\u001b[90m<chr>\u001b[39m\u001b[23m \"No\", \"No\", \"Yes\", \"No\", \"No\", \"No\", \"No\", \"No\", \"No…\n",
      "$ ypT_stage         \u001b[3m\u001b[90m<chr>\u001b[39m\u001b[23m \"pT0\", \"pT0\", \"pT0\", \"pT0\", \"pT0\", \"pTa\", \"pTa\", \"pT…\n",
      "$ ypN_stage         \u001b[3m\u001b[90m<chr>\u001b[39m\u001b[23m \"pN2\", \"pN1\", \"pN1\", \"pN2\", \"pN1\", \"pN2\", \"pN1\", \"pN…\n",
      "$ recurrence        \u001b[3m\u001b[90m<chr>\u001b[39m\u001b[23m \"Yes\", \"Yes\", \"No\", \"Yes\", \"Yes\", \"No\", \"Yes\", \"Yes\"…\n",
      "$ fu_recurrence     \u001b[3m\u001b[90m<dbl>\u001b[39m\u001b[23m 16.000000, 16.000000, 45.000000, 9.000000, 6.000000,…\n",
      "$ dod               \u001b[3m\u001b[90m<chr>\u001b[39m\u001b[23m \"Yes\", \"Yes\", \"No\", \"No\", \"No\", \"No\", \"Yes\", \"Yes\", …\n",
      "$ doc               \u001b[3m\u001b[90m<chr>\u001b[39m\u001b[23m \"No\", \"No\", \"No\", \"No\", \"No\", \"No\", \"No\", \"No\", \"No\"…\n",
      "$ fu_censor         \u001b[3m\u001b[90m<dbl>\u001b[39m\u001b[23m 16.00000, 27.00000, 45.00000, 19.00000, 9.00000, 3.0…\n",
      "$ sex               \u001b[3m\u001b[90m<chr>\u001b[39m\u001b[23m \"Male\", \"Male\", \"Female\", \"Male\", \"Male\", \"Male\", \"F…\n",
      "$ year_cystectomy   \u001b[3m\u001b[90m<dbl>\u001b[39m\u001b[23m 2019, 2018, 2019, 2021, 2022, 2022, 2021, NA, 2013, …\n",
      "$ ypT_group1        \u001b[3m\u001b[90m<chr>\u001b[39m\u001b[23m \"pT0-pTa-pTis\", \"pT0-pTa-pTis\", \"pT0-pTa-pTis\", \"pT0…\n",
      "$ ypT_group2        \u001b[3m\u001b[90m<chr>\u001b[39m\u001b[23m \"pT0-pTa-pTis\", \"pT0-pTa-pTis\", \"pT0-pTa-pTis\", \"pT0…\n",
      "$ ypN_group1        \u001b[3m\u001b[90m<chr>\u001b[39m\u001b[23m \"pN1-pN2-pN3\", \"pN1-pN2-pN3\", \"pN1-pN2-pN3\", \"pN1-pN…\n",
      "$ ypN_group2        \u001b[3m\u001b[90m<chr>\u001b[39m\u001b[23m \"pN2-pN3\", \"pN1\", \"pN1\", \"pN2-pN3\", \"pN1\", \"pN2-pN3\"…\n",
      "$ dre               \u001b[3m\u001b[90m<chr>\u001b[39m\u001b[23m \"Yes\", \"Yes\", \"No\", \"Yes\", \"Yes\", \"No\", \"Yes\", \"Yes\"…\n"
     ]
    }
   ],
   "source": [
    "# Read the CSV file\n",
    "data <- read_csv(\"NEO-UCA-DATA-cleaned.csv\")\n",
    "\n",
    "# View the structure of the dataset\n",
    "glimpse(data)"
   ]
  },
  {
   "cell_type": "markdown",
   "id": "aa4a94fd-5750-487c-9e59-98908ab0add4",
   "metadata": {},
   "source": [
    " # Descriptive Analysis"
   ]
  },
  {
   "cell_type": "code",
   "execution_count": null,
   "id": "0ae80c73-46b5-4462-8c01-d795bea9075d",
   "metadata": {},
   "outputs": [],
   "source": [
    "# Age\n",
    "data %>%\n",
    "    select(age) %>%\n",
    "    summary()"
   ]
  },
  {
   "cell_type": "code",
   "execution_count": null,
   "id": "8f5aa17b-531a-47fa-81f1-71579c1bbab0",
   "metadata": {},
   "outputs": [],
   "source": [
    "# Sex\n",
    "data %>%\n",
    "    count(sex) %>%\n",
    "    mutate(prop = n/sum(n))"
   ]
  },
  {
   "cell_type": "code",
   "execution_count": null,
   "id": "2d674bd1-1292-4603-af62-1f84b3f9f983",
   "metadata": {},
   "outputs": [],
   "source": [
    "# Variant histology\n",
    "data %>%\n",
    "    count(variant_histology) %>%\n",
    "    mutate(prop = n/sum(n))"
   ]
  },
  {
   "cell_type": "code",
   "execution_count": null,
   "id": "789dc959-612a-40b3-90b2-47a7b8245545",
   "metadata": {},
   "outputs": [],
   "source": [
    "# Groups\n",
    "data %>%\n",
    "    count(ypT_group1) %>%\n",
    "    mutate(prop = n/sum(n))"
   ]
  },
  {
   "cell_type": "code",
   "execution_count": null,
   "id": "e67dc85d-55ef-4b1d-adf9-5e2a01e3dd47",
   "metadata": {},
   "outputs": [],
   "source": [
    "# Recurrence\n",
    "data %>%\n",
    "    count(recurrence) %>%\n",
    "    mutate(prop = n/sum(n))"
   ]
  },
  {
   "cell_type": "code",
   "execution_count": null,
   "id": "dc713925-5136-46f4-a3e9-717388dc8f2e",
   "metadata": {},
   "outputs": [],
   "source": [
    "# Recurrence follow-up\n",
    "data %>%\n",
    "    select(fu_recurrence) %>%\n",
    "    summary()"
   ]
  },
  {
   "cell_type": "code",
   "execution_count": null,
   "id": "d5c9a82c-da33-41a0-8d32-0d75713a1f16",
   "metadata": {},
   "outputs": [],
   "source": []
  }
 ],
 "metadata": {
  "kernelspec": {
   "display_name": "R",
   "language": "R",
   "name": "ir"
  },
  "language_info": {
   "codemirror_mode": "r",
   "file_extension": ".r",
   "mimetype": "text/x-r-source",
   "name": "R",
   "pygments_lexer": "r",
   "version": "4.4.2"
  }
 },
 "nbformat": 4,
 "nbformat_minor": 5
}
