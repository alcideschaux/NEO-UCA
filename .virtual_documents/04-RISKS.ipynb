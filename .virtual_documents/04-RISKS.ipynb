# Import libraries
import pandas as pd
import numpy as np
import statsmodels.api as sm
import lifelines
import matplotlib.pyplot as plt
import seaborn as sns


# Import and tidy data
%run tidy_data.py

# Risk evaluation
%run scripts.py

df.info()





# Copy full dataframe and drop NAN values
df_recurrence = df.dropna(subset=['recurrence']).copy()


# Create dummy variables for predictors and outcome
df_recurrence = pd.get_dummies(df_recurrence, columns=['sex','variant_histology','ypT_group1','ypN_group1','recurrence'], drop_first=True)

# sex: Female vs Male
# variant_histology: No vs Yes
# ypT: pT0-pTis-pTa vs pT2-pT3
# ypN: pN0 vs pN1-pN2-pN3
df_recurrence = df_recurrence.rename(columns={'ypT_group1_pT2-pT3':'ypT','ypN_group1_pN1-pN2-pN3':'ypN','sex_Male':'sex','variant_histology_Yes':'variant_histology','recurrence_Yes':'recurrence'})
df_recurrence = df_recurrence[['age','sex','variant_histology','ypT','ypN','recurrence','fu_recurrence']]
df_recurrence.info()


# Correlation matrix
correlation_matrix = df_recurrence.corr().abs()

# Create heatmap
plt.figure(figsize=(10, 8))
sns.heatmap(correlation_matrix, annot=True, cmap='coolwarm')
plt.title('Correlation Matrix')
plt.show()

correlation_matrix


import statsmodels.api as sm

def logistic_regression(data, X, y):
    # Asegúrate de que las variables categóricas estén codificadas correctamente
    data = data.copy()
    
    # Si X es una sola columna, conviértela en una lista
    if isinstance(X, str):
        X = [X]
    
    for col in X:
        if data[col].dtype.name == 'category' or data[col].dtype == 'object':
            data[col] = data[col].astype('category').cat.codes
    data[y] = data[y].astype('category').cat.codes
    
    # Agregar una constante
    X = sm.add_constant(data[X])
    
    # Crear el modelo de regresión logística
    logreg = sm.Logit(data[y], X)
    
    # Ajustar el modelo a los datos
    result = logreg.fit()
    
    return result

# age
result = logistic_regression(df_recurrence, 'age', 'recurrence')
print(result.summary())# age
logistic_regression(df_recurrence, 'age', 'recurrence')


# sex
result_sex_recurrence = logistic_regression(df_recurrence, 'sex', 'recurrence')
print(result_sex_recurrence.summary())


# sex
logistic_regression(df_recurrence, 'sex', 'recurrence')


# variant_histology
logistic_regression(df_recurrence, 'variant_histology', 'recurrence')


# ypT
logistic_regression(df_recurrence, 'ypT', 'recurrence')


# ypN
logistic_regression(df_recurrence, 'ypN', 'recurrence')


import statsmodels.api as sm

def logistic_regression(data, X, y):
    # Asegúrate de que las variables categóricas estén codificadas correctamente
    data = data.copy()
    for col in X:
        if data[col].dtype.name == 'category' or data[col].dtype == 'object':
            data[col] = data[col].astype('category').cat.codes
    data[y] = data[y].astype('category').cat.codes
    
    # Agregar una constante
    X = sm.add_constant(data[X])
    
    # Crear el modelo de regresión logística
    logreg = sm.Logit(data[y], X)
    
    # Ajustar el modelo a los datos
    result = logreg.fit()
    
    return result

# Adjusted OR - Multivariate 1
result = logistic_regression(df_recurrence, ['age','sex','variant_histology','ypT'], 'recurrence')
print(result.summary())# Adjusted OR - Multivariate 1
logistic_regression(df_recurrence, ['age','sex','variant_histology','ypT'], 'recurrence')


# Adjusted OR - Multivariate 2
logistic_regression(df_recurrence, ['age','sex','variant_histology','ypN'], 'recurrence')





# age
cox_regression(df_recurrence, 'fu_recurrence', 'age', 'recurrence')


# sex
cox_regression(df_recurrence, 'fu_recurrence', 'sex', 'recurrence')


# variant_histology
cox_regression(df_recurrence, 'fu_recurrence', 'variant_histology', 'recurrence')


# ypT
cox_regression(df_recurrence, 'fu_recurrence', 'ypT', 'recurrence')


# ypN
cox_regression(df_recurrence, 'fu_recurrence', 'ypN', 'recurrence')


# Adjusted HR - Multivariate 1
cox_regression(df_recurrence, 'fu_recurrence', 'age + sex + variant_histology + ypT', 'recurrence')


# Adjusted HR - Multivarate 2
cox_regression(df_recurrence, 'fu_recurrence', 'age + sex + variant_histology + ypN', 'recurrence')





df_dod = df.dropna(subset=['dod']).copy()


# Create dummy variables for predictors and outcome
df_dod = pd.get_dummies(df_dod, columns=['sex','variant_histology','ypT_group1','ypN_group1','dod'], drop_first=True)

# sex: Female vs Male
# variant_histology: No vs Yes
# ypT: pT0-pTis-pTa vs pT2-pT3
# ypN: pN0 vs pN1-pN2-pN3
df_dod = df_dod.rename(columns={'ypT_group1_pT2-pT3':'ypT','ypN_group1_pN1-pN2-pN3':'ypN','sex_Male':'sex','variant_histology_Yes':'variant_histology','dod_Yes':'dod'})
df_dod = df_dod[['age','sex','variant_histology','ypT','ypN','dod','fu_censor']]
df_dod.info()


# Correlation matrix
correlation_matrix = df_dod.corr().abs()

# Create heatmap
plt.figure(figsize=(10, 8))
sns.heatmap(correlation_matrix, annot=True, cmap='coolwarm')
plt.title('Correlation Matrix')
plt.show()
df_dod.corr().abs()


# age
logistic_regression(df_dod, 'age', 'dod')


# sex
logistic_regression(df_dod, 'sex', 'dod')


# variant_histology
logistic_regression(df_dod, 'variant_histology', 'dod')


# ypT
logistic_regression(df_dod, 'ypT', 'dod')


# ypN
logistic_regression(df_dod, 'ypN', 'dod')


# Adjusted OR - Multivariate 1
logistic_regression(df_dod, ['age','sex','variant_histology','ypT'], 'dod')


# Adjusted OR - Multivariate 2
logistic_regression(df_dod, ['age','sex','variant_histology','ypN'], 'dod')





# age
cox_regression(df_dod, 'fu_censor', 'age', 'dod')


# sex
cox_regression(df_dod, 'fu_censor', 'sex', 'dod')


# variant_histology
cox_regression(df_dod, 'fu_censor', 'variant_histology', 'dod')


# ypT
cox_regression(df_dod, 'fu_censor', 'ypT', 'dod')


# ypN
cox_regression(df_dod, 'fu_censor', 'ypN', 'dod')


# Adjusted HR - Multivariate 1
cox_regression(df_dod, 'fu_censor', 'age + sex + variant_histology + ypT', 'dod')


# Adjusted HR - Multivariate 2
cox_regression(df_dod, 'fu_censor', 'age + sex + variant_histology + ypN', 'dod')





# Copy dataset and drop NANs values
df_doc = df.dropna(subset=['recurrence']).copy()


# Create dummy variables for predictors and outcome
df_doc = pd.get_dummies(df_doc, columns=['sex','variant_histology','ypT_group1','ypN_group1','doc'], drop_first=True)

# sex: Female vs Male
# variant_histology: No vs Yes
# ypT: pT0-pTis-pTa vs pT2-pT3
# ypN: pN0 vs pN1-pN2-pN3
df_doc = df_doc.rename(columns={'ypT_group1_pT2-pT3':'ypT','ypN_group1_pN1-pN2-pN3':'ypN','sex_Male':'sex','variant_histology_Yes':'variant_histology','doc_Yes':'doc'})
df_doc = df_doc[['age','sex','variant_histology','ypT','ypN','doc','fu_censor']]
df_doc.info()


# Correlation matrix
correlation_matrix = df_doc.corr().abs()

# Create heatmap
plt.figure(figsize=(10, 8))
sns.heatmap(correlation_matrix, annot=True, cmap='coolwarm')
plt.title('Correlation Matrix')
plt.show()

correlation_matrix


# age
logistic_regression(df_doc, 'age', 'doc')


# sex
logistic_regression(df_doc, 'sex', 'doc')


# variant_histology
logistic_regression(df_doc, 'variant_histology', 'doc')


# ypT
logistic_regression(df_doc, 'ypT', 'doc')


# ypN
logistic_regression(df_doc, 'ypN', 'doc')


# Adjusted OR - Multivariate 1
logistic_regression(df_doc, ['age','sex','variant_histology','ypT'], 'doc')


# Adjusted OR - Multivariate 2
logistic_regression(df_doc, ['age','sex','variant_histology','ypN'], 'doc')





# age
cox_regression(df_doc, 'fu_censor', 'age', 'doc')


# sex
cox_regression(df_doc, 'fu_censor', 'sex', 'doc')


# variant_histology
cox_regression(df_doc, 'fu_censor', 'variant_histology', 'doc')


# ypT
cox_regression(df_doc, 'fu_censor', 'ypT', 'doc')


# ypN
cox_regression(df_doc, 'fu_censor', 'ypN', 'doc')


# Adjusted HR - Multivariate 1
cox_regression(df_doc, 'fu_censor', 'age + sex + variant_histology + ypT', 'doc')


# Adjusted HR - Multivariate 2
cox_regression(df_doc, 'fu_censor', 'age + sex + variant_histology + ypN', 'doc')





df_dre = df.dropna(subset=['dre']).copy()


# Create dummy variables for predictors and outcome
df_dre = pd.get_dummies(df_dre, columns=['sex','variant_histology','ypT_group1','ypN_group1','dre'], drop_first=True)

# sex: Female vs Male
# variant_histology: No vs Yes
# ypT: pT0-pTis-pTa vs pT2-pT3
# ypN: pN0 vs pN1-pN2-pN3
df_dre = df_dre.rename(columns={'ypT_group1_pT2-pT3':'ypT','ypN_group1_pN1-pN2-pN3':'ypN','sex_Male':'sex','variant_histology_Yes':'variant_histology','dre_Yes':'dre'})
df_dre = df_dre[['age','sex','variant_histology','ypT','ypN','dre','fu_censor']]
df_doc.info()


# Correlation matrix
correlation_matrix = df_dre.corr().abs()

# Create heatmap
plt.figure(figsize=(10, 8))
sns.heatmap(correlation_matrix, annot=True, cmap='coolwarm')
plt.title('Correlation Matrix')
plt.show()

correlation_matrix


# age
logistic_regression(df_dre, 'age', 'dre')


# sex
logistic_regression(df_dre, 'sex', 'dre')


# variant_histology
logistic_regression(df_dre, 'variant_histology', 'dre')


# ypT
logistic_regression(df_dre, 'ypT', 'dre')


# ypN
logistic_regression(df_dre, 'ypN', 'dre')


# Adjusted OR - Multivariate 1
logistic_regression(df_dre, ['age','sex','variant_histology','ypT'], 'dre')


# Adjusted OR - Multivariate 2
logistic_regression(df_dre, ['age','sex','variant_histology','ypN'], 'dre')





# age
cox_regression(df_dre, 'fu_censor', 'age', 'dre')


# sex
cox_regression(df_dre, 'fu_censor', 'sex', 'dre')


# variant_histology
cox_regression(df_dre, 'fu_censor', 'variant_histology', 'dre')


# ypT
cox_regression(df_dre, 'fu_censor', 'ypT', 'dre')


# ypN
cox_regression(df_dre, 'fu_censor', 'ypN', 'dre')


# Adjusted HR - Multivariate 1
cox_regression(df_dre, 'fu_censor', 'age + sex + variant_histology + ypT', 'dre')


# Adjusted HR - Multivariate 2
cox_regression(df_dre, 'fu_censor', 'age + sex + variant_histology + ypN', 'dre')
