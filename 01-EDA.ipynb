{
 "cells": [
  {
   "cell_type": "code",
   "execution_count": 1,
   "id": "9662a173-b4f1-4107-9ed9-4997bd69f1ca",
   "metadata": {
    "executionCancelledAt": null,
    "executionTime": 3605,
    "lastExecutedAt": 1707394272773,
    "lastScheduledRunId": null,
    "lastSuccessfullyExecutedCode": "# Load libraries\nimport pandas as pd\nimport numpy as np\nimport matplotlib.pyplot as plt\nimport seaborn as sns\nimport scipy.stats as stats\n\n# Set theme\nsns.set_theme(style='dark')\nsns.set_palette(palette='Set2')\n\n# Load and tidy data\n%run tidy_data.py\n\ndf.info()",
    "outputsMetadata": {
     "0": {
      "height": 497,
      "type": "stream"
     }
    }
   },
   "outputs": [
    {
     "name": "stdout",
     "output_type": "stream",
     "text": [
      "<class 'pandas.core.frame.DataFrame'>\n",
      "RangeIndex: 174 entries, 0 to 173\n",
      "Data columns (total 19 columns):\n",
      " #   Column             Non-Null Count  Dtype   \n",
      "---  ------             --------------  -----   \n",
      " 0   id                 174 non-null    object  \n",
      " 1   age                174 non-null    int64   \n",
      " 2   variant_histology  174 non-null    category\n",
      " 3   ypT_stage          174 non-null    category\n",
      " 4   ypN_stage          174 non-null    category\n",
      " 5   recurrence         173 non-null    category\n",
      " 6   fu_recurrence      174 non-null    float64 \n",
      " 7   dod                171 non-null    category\n",
      " 8   doc                170 non-null    category\n",
      " 9   fu_censor          174 non-null    float64 \n",
      " 10  sex                174 non-null    object  \n",
      " 11  year_cystectomy    173 non-null    float64 \n",
      " 12  ypT_group          174 non-null    object  \n",
      " 13  ypN_group          174 non-null    object  \n",
      " 14  dre                174 non-null    category\n",
      " 15  ypT_group1         174 non-null    category\n",
      " 16  ypT_group2         174 non-null    category\n",
      " 17  ypN_group1         174 non-null    category\n",
      " 18  ypN_group2         174 non-null    category\n",
      "dtypes: category(11), float64(3), int64(1), object(4)\n",
      "memory usage: 14.4+ KB\n"
     ]
    }
   ],
   "source": [
    "# Load libraries\n",
    "import pandas as pd\n",
    "import numpy as np\n",
    "import matplotlib.pyplot as plt\n",
    "import seaborn as sns\n",
    "import scipy.stats as stats\n",
    "\n",
    "# Set theme\n",
    "sns.set_theme(style='dark')\n",
    "sns.set_palette(palette='Set2')\n",
    "\n",
    "# Load and tidy data\n",
    "%run tidy_data.py\n",
    "\n",
    "df.info()"
   ]
  },
  {
   "cell_type": "markdown",
   "id": "6887d8a3-f60c-4950-91c6-6e2d26dc53f1",
   "metadata": {},
   "source": [
    "# Age (years)"
   ]
  },
  {
   "cell_type": "code",
   "execution_count": 2,
   "id": "35a895e6-1c6e-4428-93f6-fccec1c00e5b",
   "metadata": {
    "executionCancelledAt": null,
    "executionTime": 56,
    "lastExecutedAt": 1707394272829,
    "lastScheduledRunId": null,
    "lastSuccessfullyExecutedCode": "df['age'].describe().round(1)"
   },
   "outputs": [
    {
     "data": {
      "text/plain": [
       "count    174.0\n",
       "mean      66.5\n",
       "std        9.8\n",
       "min       24.0\n",
       "25%       61.0\n",
       "50%       68.0\n",
       "75%       74.0\n",
       "max       86.0\n",
       "Name: age, dtype: float64"
      ]
     },
     "execution_count": 2,
     "metadata": {},
     "output_type": "execute_result"
    }
   ],
   "source": [
    "df['age'].describe().round(1)"
   ]
  },
  {
   "cell_type": "code",
   "execution_count": 3,
   "id": "fdb73b66-bbfb-4053-ac80-8331729eadde",
   "metadata": {
    "executionCancelledAt": null,
    "executionTime": 58,
    "lastExecutedAt": 1707394272887,
    "lastScheduledRunId": null,
    "lastSuccessfullyExecutedCode": "stats.iqr(df['age'])"
   },
   "outputs": [
    {
     "data": {
      "text/plain": [
       "13.0"
      ]
     },
     "execution_count": 3,
     "metadata": {},
     "output_type": "execute_result"
    }
   ],
   "source": [
    "stats.iqr(df['age'])"
   ]
  },
  {
   "cell_type": "code",
   "execution_count": 4,
   "id": "03085158-6f4d-4b82-aa95-621e78260aa9",
   "metadata": {
    "executionCancelledAt": null,
    "executionTime": 360,
    "lastExecutedAt": 1707394273247,
    "lastScheduledRunId": null,
    "lastSuccessfullyExecutedCode": "sns.histplot(data=df, x='age')\nplt.show()"
   },
   "outputs": [
    {
     "data": {
      "image/png": "[encoded data removed]",
      "text/plain": [
       "<Figure size 640x480 with 1 Axes>"
      ]
     },
     "metadata": {},
     "output_type": "display_data"
    }
   ],
   "source": [
    "sns.histplot(data=df, x='age')\n",
    "plt.show()"
   ]
  },
  {
   "cell_type": "markdown",
   "id": "ba335b0f-eaca-45ba-ad2b-60effefcc47f",
   "metadata": {},
   "source": [
    "# Sex"
   ]
  },
  {
   "cell_type": "code",
   "execution_count": 5,
   "id": "563e66d8-e4b9-4ed4-b448-7d2f0270b749",
   "metadata": {
    "executionCancelledAt": null,
    "executionTime": 52,
    "lastExecutedAt": 1707394273299,
    "lastScheduledRunId": null,
    "lastSuccessfullyExecutedCode": "df['sex'].value_counts()"
   },
   "outputs": [
    {
     "data": {
      "text/plain": [
       "sex\n",
       "Male      124\n",
       "Female     50\n",
       "Name: count, dtype: int64"
      ]
     },
     "execution_count": 5,
     "metadata": {},
     "output_type": "execute_result"
    }
   ],
   "source": [
    "df['sex'].value_counts()"
   ]
  },
  {
   "cell_type": "code",
   "execution_count": 6,
   "id": "2fe71ba4-b836-4df6-a5bc-760d15a260b2",
   "metadata": {
    "executionCancelledAt": null,
    "executionTime": 54,
    "lastExecutedAt": 1707394273353,
    "lastScheduledRunId": null,
    "lastSuccessfullyExecutedCode": "df['sex'].value_counts(normalize=True).round(2)"
   },
   "outputs": [
    {
     "data": {
      "text/plain": [
       "sex\n",
       "Male      0.71\n",
       "Female    0.29\n",
       "Name: proportion, dtype: float64"
      ]
     },
     "execution_count": 6,
     "metadata": {},
     "output_type": "execute_result"
    }
   ],
   "source": [
    "df['sex'].value_counts(normalize=True).round(2)"
   ]
  },
  {
   "cell_type": "code",
   "execution_count": 7,
   "id": "f1377a5d-d3f7-450c-8686-9f84e35aea45",
   "metadata": {
    "executionCancelledAt": null,
    "executionTime": 135,
    "lastExecutedAt": 1707394273488,
    "lastScheduledRunId": null,
    "lastSuccessfullyExecutedCode": "sns.countplot(data=df, x='sex')\nplt.show()"
   },
   "outputs": [
    {
     "data": {
      "image/png": "[encoded data removed]",
      "text/plain": [
       "<Figure size 640x480 with 1 Axes>"
      ]
     },
     "metadata": {},
     "output_type": "display_data"
    }
   ],
   "source": [
    "sns.countplot(data=df, x='sex')\n",
    "plt.show()"
   ]
  },
  {
   "cell_type": "markdown",
   "id": "64b26fa4-7fd6-48e4-bf70-b37e01344631",
   "metadata": {},
   "source": [
    "# Variant Histology"
   ]
  },
  {
   "cell_type": "code",
   "execution_count": 8,
   "id": "ba09a001-7372-4b7c-8fd1-6e1c86a49783",
   "metadata": {
    "executionCancelledAt": null,
    "executionTime": 55,
    "lastExecutedAt": 1707394273543,
    "lastScheduledRunId": null,
    "lastSuccessfullyExecutedCode": "df['variant_histology'].value_counts()"
   },
   "outputs": [
    {
     "data": {
      "text/plain": [
       "variant_histology\n",
       "No     111\n",
       "Yes     63\n",
       "Name: count, dtype: int64"
      ]
     },
     "execution_count": 8,
     "metadata": {},
     "output_type": "execute_result"
    }
   ],
   "source": [
    "df['variant_histology'].value_counts()"
   ]
  },
  {
   "cell_type": "code",
   "execution_count": 9,
   "id": "0560909c-f26c-40b1-8783-b3820bd1a885",
   "metadata": {
    "executionCancelledAt": null,
    "executionTime": 58,
    "lastExecutedAt": 1707394273603,
    "lastScheduledRunId": null,
    "lastSuccessfullyExecutedCode": "df['variant_histology'].value_counts(normalize=True).round(2)"
   },
   "outputs": [
    {
     "data": {
      "text/plain": [
       "variant_histology\n",
       "No     0.64\n",
       "Yes    0.36\n",
       "Name: proportion, dtype: float64"
      ]
     },
     "execution_count": 9,
     "metadata": {},
     "output_type": "execute_result"
    }
   ],
   "source": [
    "df['variant_histology'].value_counts(normalize=True).round(2)"
   ]
  },
  {
   "cell_type": "code",
   "execution_count": 10,
   "id": "28c87f1f-0c27-4f15-a96c-70a9f5b36924",
   "metadata": {
    "executionCancelledAt": null,
    "executionTime": 146,
    "lastExecutedAt": 1707394273749,
    "lastScheduledRunId": null,
    "lastSuccessfullyExecutedCode": "sns.countplot(data=df, x='variant_histology')\nplt.show()"
   },
   "outputs": [
    {
     "data": {
      "image/png": "[encoded data removed]",
      "text/plain": [
       "<Figure size 640x480 with 1 Axes>"
      ]
     },
     "metadata": {},
     "output_type": "display_data"
    }
   ],
   "source": [
    "sns.countplot(data=df, x='variant_histology')\n",
    "plt.show()"
   ]
  },
  {
   "cell_type": "markdown",
   "id": "dbf0b396-09c7-40d3-9ae5-f558596b139f",
   "metadata": {},
   "source": [
    "# Cytectomy - ypT Stage"
   ]
  },
  {
   "cell_type": "code",
   "execution_count": 11,
   "id": "9605885d-abcd-4a97-b2d5-06f947b8471c",
   "metadata": {
    "executionCancelledAt": null,
    "executionTime": 58,
    "lastExecutedAt": 1707394273807,
    "lastScheduledRunId": null,
    "lastSuccessfullyExecutedCode": "df['ypT_stage'].value_counts(sort=False)"
   },
   "outputs": [
    {
     "data": {
      "text/plain": [
       "ypT_stage\n",
       "pT0     28\n",
       "pTis     5\n",
       "pTa      2\n",
       "pT2     65\n",
       "pT3     74\n",
       "Name: count, dtype: int64"
      ]
     },
     "execution_count": 11,
     "metadata": {},
     "output_type": "execute_result"
    }
   ],
   "source": [
    "df['ypT_stage'].value_counts(sort=False)"
   ]
  },
  {
   "cell_type": "code",
   "execution_count": 12,
   "id": "4a9ea415-0606-4fe0-9889-3deeeed0fa4d",
   "metadata": {
    "executionCancelledAt": null,
    "executionTime": 51,
    "lastExecutedAt": 1707394273858,
    "lastScheduledRunId": null,
    "lastSuccessfullyExecutedCode": "df['ypT_stage'].value_counts(sort=False, normalize=True).round(2)"
   },
   "outputs": [
    {
     "data": {
      "text/plain": [
       "ypT_stage\n",
       "pT0     0.16\n",
       "pTis    0.03\n",
       "pTa     0.01\n",
       "pT2     0.37\n",
       "pT3     0.43\n",
       "Name: proportion, dtype: float64"
      ]
     },
     "execution_count": 12,
     "metadata": {},
     "output_type": "execute_result"
    }
   ],
   "source": [
    "df['ypT_stage'].value_counts(sort=False, normalize=True).round(2)"
   ]
  },
  {
   "cell_type": "code",
   "execution_count": 13,
   "id": "eed2b20c-352c-4f60-b685-ccd545701f1f",
   "metadata": {
    "executionCancelledAt": null,
    "executionTime": 168,
    "lastExecutedAt": 1707394274027,
    "lastScheduledRunId": null,
    "lastSuccessfullyExecutedCode": "sns.countplot(data=df, x='ypT_stage')\nplt.axvline(x=2.5, color='red', linestyle='--')\nplt.show()"
   },
   "outputs": [
    {
     "data": {
      "image/png": "[encoded data removed]",
      "text/plain": [
       "<Figure size 640x480 with 1 Axes>"
      ]
     },
     "metadata": {},
     "output_type": "display_data"
    }
   ],
   "source": [
    "sns.countplot(data=df, x='ypT_stage')\n",
    "plt.axvline(x=2.5, color='red', linestyle='--')\n",
    "plt.show()"
   ]
  },
  {
   "cell_type": "code",
   "execution_count": 14,
   "id": "c84281b2-18b0-418e-b3cc-d1a9aad0ce60",
   "metadata": {
    "executionCancelledAt": null,
    "executionTime": 50,
    "lastExecutedAt": 1707394274077,
    "lastScheduledRunId": null,
    "lastSuccessfullyExecutedCode": "df['ypT_group1'].value_counts(sort=False)"
   },
   "outputs": [
    {
     "data": {
      "text/plain": [
       "ypT_group1\n",
       "pT0-pTa-pTis     35\n",
       "pT2-pT3         139\n",
       "Name: count, dtype: int64"
      ]
     },
     "execution_count": 14,
     "metadata": {},
     "output_type": "execute_result"
    }
   ],
   "source": [
    "df['ypT_group1'].value_counts(sort=False)"
   ]
  },
  {
   "cell_type": "code",
   "execution_count": 15,
   "id": "9f5797cf-d8c2-45bc-b0a4-00d35f732534",
   "metadata": {
    "executionCancelledAt": null,
    "executionTime": 58,
    "lastExecutedAt": 1707394274135,
    "lastScheduledRunId": null,
    "lastSuccessfullyExecutedCode": "df['ypT_group1'].value_counts(normalize=True, sort=False).round(2)"
   },
   "outputs": [
    {
     "data": {
      "text/plain": [
       "ypT_group1\n",
       "pT0-pTa-pTis    0.2\n",
       "pT2-pT3         0.8\n",
       "Name: proportion, dtype: float64"
      ]
     },
     "execution_count": 15,
     "metadata": {},
     "output_type": "execute_result"
    }
   ],
   "source": [
    "df['ypT_group1'].value_counts(normalize=True, sort=False).round(2)"
   ]
  },
  {
   "cell_type": "code",
   "execution_count": 16,
   "id": "d619b58c-c407-4957-b25e-9cd1b2910487",
   "metadata": {
    "executionCancelledAt": null,
    "executionTime": 143,
    "lastExecutedAt": 1707394274278,
    "lastScheduledRunId": null,
    "lastSuccessfullyExecutedCode": "sns.countplot(data=df, x='ypT_group1')\nplt.show()"
   },
   "outputs": [
    {
     "data": {
      "image/png": "[encoded data removed]",
      "text/plain": [
       "<Figure size 640x480 with 1 Axes>"
      ]
     },
     "metadata": {},
     "output_type": "display_data"
    }
   ],
   "source": [
    "sns.countplot(data=df, x='ypT_group1')\n",
    "plt.show()"
   ]
  },
  {
   "cell_type": "code",
   "execution_count": 17,
   "id": "5d1db7bc-49ac-46d8-b22f-8a5958760f1f",
   "metadata": {
    "executionCancelledAt": null,
    "executionTime": 56,
    "lastExecutedAt": 1707394274334,
    "lastScheduledRunId": null,
    "lastSuccessfullyExecutedCode": "df['ypT_group2'].value_counts(sort=False)"
   },
   "outputs": [
    {
     "data": {
      "text/plain": [
       "ypT_group2\n",
       "pT0-pTa-pTis    35\n",
       "pT2             65\n",
       "pT3             74\n",
       "Name: count, dtype: int64"
      ]
     },
     "execution_count": 17,
     "metadata": {},
     "output_type": "execute_result"
    }
   ],
   "source": [
    "df['ypT_group2'].value_counts(sort=False)"
   ]
  },
  {
   "cell_type": "code",
   "execution_count": 18,
   "id": "bdc910d7-969d-437c-bf48-ea37006f5ccc",
   "metadata": {
    "executionCancelledAt": null,
    "executionTime": 61,
    "lastExecutedAt": 1707394274395,
    "lastScheduledRunId": null,
    "lastSuccessfullyExecutedCode": "df['ypT_group2'].value_counts(sort=False, normalize=True).round(2)"
   },
   "outputs": [
    {
     "data": {
      "text/plain": [
       "ypT_group2\n",
       "pT0-pTa-pTis    0.20\n",
       "pT2             0.37\n",
       "pT3             0.43\n",
       "Name: proportion, dtype: float64"
      ]
     },
     "execution_count": 18,
     "metadata": {},
     "output_type": "execute_result"
    }
   ],
   "source": [
    "df['ypT_group2'].value_counts(sort=False, normalize=True).round(2)"
   ]
  },
  {
   "cell_type": "code",
   "execution_count": 19,
   "id": "2d2f3034-2274-496b-abae-63d9372d14c7",
   "metadata": {
    "executionCancelledAt": null,
    "executionTime": 153,
    "lastExecutedAt": 1707394274548,
    "lastScheduledRunId": null,
    "lastSuccessfullyExecutedCode": "sns.countplot(data=df, x='ypT_group2')\nplt.show()"
   },
   "outputs": [
    {
     "data": {
      "image/png": "[encoded data removed]",
      "text/plain": [
       "<Figure size 640x480 with 1 Axes>"
      ]
     },
     "metadata": {},
     "output_type": "display_data"
    }
   ],
   "source": [
    "sns.countplot(data=df, x='ypT_group2')\n",
    "plt.show()"
   ]
  },
  {
   "cell_type": "markdown",
   "id": "2e625d9e-b1c5-42bd-942e-8e0762cce815",
   "metadata": {},
   "source": [
    "# Cystectomy - ypN Stage\n"
   ]
  },
  {
   "cell_type": "code",
   "execution_count": 20,
   "id": "7864e7fd-5ce7-4f8d-9348-f72cf73986b2",
   "metadata": {
    "executionCancelledAt": null,
    "executionTime": 54,
    "lastExecutedAt": 1707394274602,
    "lastScheduledRunId": null,
    "lastSuccessfullyExecutedCode": "df['ypN_stage'].value_counts(sort=False)"
   },
   "outputs": [
    {
     "data": {
      "text/plain": [
       "ypN_stage\n",
       "pN0    139\n",
       "pN1     17\n",
       "pN2     15\n",
       "pN3      3\n",
       "Name: count, dtype: int64"
      ]
     },
     "execution_count": 20,
     "metadata": {},
     "output_type": "execute_result"
    }
   ],
   "source": [
    "df['ypN_stage'].value_counts(sort=False)"
   ]
  },
  {
   "cell_type": "code",
   "execution_count": 21,
   "id": "ab2ec176-88fc-4d3b-8b51-af01e7f8dfaa",
   "metadata": {
    "executionCancelledAt": null,
    "executionTime": 59,
    "lastExecutedAt": 1707394274662,
    "lastScheduledRunId": null,
    "lastSuccessfullyExecutedCode": "df['ypN_stage'].value_counts(sort=False, normalize=True).round(2)"
   },
   "outputs": [
    {
     "data": {
      "text/plain": [
       "ypN_stage\n",
       "pN0    0.80\n",
       "pN1    0.10\n",
       "pN2    0.09\n",
       "pN3    0.02\n",
       "Name: proportion, dtype: float64"
      ]
     },
     "execution_count": 21,
     "metadata": {},
     "output_type": "execute_result"
    }
   ],
   "source": [
    "df['ypN_stage'].value_counts(sort=False, normalize=True).round(2)"
   ]
  },
  {
   "cell_type": "code",
   "execution_count": 22,
   "id": "408dc54f-2710-40e9-b902-4c428bbea8f3",
   "metadata": {
    "executionCancelledAt": null,
    "executionTime": 159,
    "lastExecutedAt": 1707394274822,
    "lastScheduledRunId": null,
    "lastSuccessfullyExecutedCode": "sns.countplot(data=df, x='ypN_stage')\nplt.axvline(x=0.5, color='red', linestyle='--')\nplt.show()"
   },
   "outputs": [
    {
     "data": {
      "image/png": "[encoded data removed]",
      "text/plain": [
       "<Figure size 640x480 with 1 Axes>"
      ]
     },
     "metadata": {},
     "output_type": "display_data"
    }
   ],
   "source": [
    "sns.countplot(data=df, x='ypN_stage')\n",
    "plt.axvline(x=0.5, color='red', linestyle='--')\n",
    "plt.show()"
   ]
  },
  {
   "cell_type": "code",
   "execution_count": 23,
   "id": "ef7dacfb-998e-4a7d-87c4-3c41573f38aa",
   "metadata": {
    "executionCancelledAt": null,
    "executionTime": 52,
    "lastExecutedAt": 1707394274874,
    "lastScheduledRunId": null,
    "lastSuccessfullyExecutedCode": "df['ypN_group1'].value_counts(sort=False)"
   },
   "outputs": [
    {
     "data": {
      "text/plain": [
       "ypN_group1\n",
       "pN0            139\n",
       "pN1-pN2-pN3     35\n",
       "Name: count, dtype: int64"
      ]
     },
     "execution_count": 23,
     "metadata": {},
     "output_type": "execute_result"
    }
   ],
   "source": [
    "df['ypN_group1'].value_counts(sort=False)"
   ]
  },
  {
   "cell_type": "code",
   "execution_count": 24,
   "id": "fde6731d-aca6-429f-85b6-ae92ef9c3410",
   "metadata": {
    "executionCancelledAt": null,
    "executionTime": 56,
    "lastExecutedAt": 1707394274930,
    "lastScheduledRunId": null,
    "lastSuccessfullyExecutedCode": "df['ypN_group1'].value_counts(sort=False, normalize=True).round(2)"
   },
   "outputs": [
    {
     "data": {
      "text/plain": [
       "ypN_group1\n",
       "pN0            0.8\n",
       "pN1-pN2-pN3    0.2\n",
       "Name: proportion, dtype: float64"
      ]
     },
     "execution_count": 24,
     "metadata": {},
     "output_type": "execute_result"
    }
   ],
   "source": [
    "df['ypN_group1'].value_counts(sort=False, normalize=True).round(2)"
   ]
  },
  {
   "cell_type": "code",
   "execution_count": 25,
   "id": "01e5ccdd-2a3c-4583-8911-0b033eed1483",
   "metadata": {
    "executionCancelledAt": null,
    "executionTime": 135,
    "lastExecutedAt": 1707394275066,
    "lastScheduledRunId": null,
    "lastSuccessfullyExecutedCode": "sns.countplot(data=df, x='ypN_group1')\nplt.show()"
   },
   "outputs": [
    {
     "data": {
      "image/png": "[encoded data removed]",
      "text/plain": [
       "<Figure size 640x480 with 1 Axes>"
      ]
     },
     "metadata": {},
     "output_type": "display_data"
    }
   ],
   "source": [
    "sns.countplot(data=df, x='ypN_group1')\n",
    "plt.show()"
   ]
  },
  {
   "cell_type": "code",
   "execution_count": 26,
   "id": "905b6446-43cc-4c08-a7af-49f4555aef9e",
   "metadata": {
    "executionCancelledAt": null,
    "executionTime": 57,
    "lastExecutedAt": 1707394275123,
    "lastScheduledRunId": null,
    "lastSuccessfullyExecutedCode": "df['ypN_group2'].value_counts(sort=False)"
   },
   "outputs": [
    {
     "data": {
      "text/plain": [
       "ypN_group2\n",
       "pN0        139\n",
       "pN1         17\n",
       "pN2-pN3     18\n",
       "Name: count, dtype: int64"
      ]
     },
     "execution_count": 26,
     "metadata": {},
     "output_type": "execute_result"
    }
   ],
   "source": [
    "df['ypN_group2'].value_counts(sort=False)"
   ]
  },
  {
   "cell_type": "code",
   "execution_count": 27,
   "id": "3506605e-6ec7-4c89-9df9-410987131f7b",
   "metadata": {
    "executionCancelledAt": null,
    "executionTime": 59,
    "lastExecutedAt": 1707394275182,
    "lastScheduledRunId": null,
    "lastSuccessfullyExecutedCode": "df['ypN_group2'].value_counts(sort=False, normalize=True).round(2)"
   },
   "outputs": [
    {
     "data": {
      "text/plain": [
       "ypN_group2\n",
       "pN0        0.8\n",
       "pN1        0.1\n",
       "pN2-pN3    0.1\n",
       "Name: proportion, dtype: float64"
      ]
     },
     "execution_count": 27,
     "metadata": {},
     "output_type": "execute_result"
    }
   ],
   "source": [
    "df['ypN_group2'].value_counts(sort=False, normalize=True).round(2)"
   ]
  },
  {
   "cell_type": "code",
   "execution_count": 28,
   "id": "bef9656e-875d-4d4e-bad5-8e0dede17bf0",
   "metadata": {
    "executionCancelledAt": null,
    "executionTime": 142,
    "lastExecutedAt": 1707394275325,
    "lastScheduledRunId": null,
    "lastSuccessfullyExecutedCode": "sns.countplot(data=df, x='ypN_group2')\nplt.show()"
   },
   "outputs": [
    {
     "data": {
      "image/png": "[encoded data removed]",
      "text/plain": [
       "<Figure size 640x480 with 1 Axes>"
      ]
     },
     "metadata": {},
     "output_type": "display_data"
    }
   ],
   "source": [
    "sns.countplot(data=df, x='ypN_group2')\n",
    "plt.show()"
   ]
  },
  {
   "cell_type": "markdown",
   "id": "9261c5fc-1fe1-47e3-bb26-c126381bac49",
   "metadata": {},
   "source": [
    "# Tumor Recurrence"
   ]
  },
  {
   "cell_type": "code",
   "execution_count": 29,
   "id": "069e9a8e-f314-45d9-b908-51821b0966a6",
   "metadata": {
    "executionCancelledAt": null,
    "executionTime": 57,
    "lastExecutedAt": 1707394275382,
    "lastScheduledRunId": null,
    "lastSuccessfullyExecutedCode": "df['recurrence'].value_counts(sort=False)"
   },
   "outputs": [
    {
     "data": {
      "text/plain": [
       "recurrence\n",
       "No     116\n",
       "Yes     57\n",
       "Name: count, dtype: int64"
      ]
     },
     "execution_count": 29,
     "metadata": {},
     "output_type": "execute_result"
    }
   ],
   "source": [
    "df['recurrence'].value_counts(sort=False)"
   ]
  },
  {
   "cell_type": "code",
   "execution_count": 30,
   "id": "e18fcd1a-65f0-4c69-8dc5-03b60636f989",
   "metadata": {
    "executionCancelledAt": null,
    "executionTime": 56,
    "lastExecutedAt": 1707394275439,
    "lastScheduledRunId": null,
    "lastSuccessfullyExecutedCode": "df['recurrence'].value_counts(sort=False, normalize=True).round(2)"
   },
   "outputs": [
    {
     "data": {
      "text/plain": [
       "recurrence\n",
       "No     0.67\n",
       "Yes    0.33\n",
       "Name: proportion, dtype: float64"
      ]
     },
     "execution_count": 30,
     "metadata": {},
     "output_type": "execute_result"
    }
   ],
   "source": [
    "df['recurrence'].value_counts(sort=False, normalize=True).round(2)"
   ]
  },
  {
   "cell_type": "code",
   "execution_count": 31,
   "id": "3791cfa2-644d-455f-aa2a-c6676bc36d15",
   "metadata": {
    "executionCancelledAt": null,
    "executionTime": 144,
    "lastExecutedAt": 1707394275583,
    "lastScheduledRunId": null,
    "lastSuccessfullyExecutedCode": "sns.countplot(data=df, x='recurrence')\nplt.show()"
   },
   "outputs": [
    {
     "data": {
      "image/png": "[encoded data removed]",
      "text/plain": [
       "<Figure size 640x480 with 1 Axes>"
      ]
     },
     "metadata": {},
     "output_type": "display_data"
    }
   ],
   "source": [
    "sns.countplot(data=df, x='recurrence')\n",
    "plt.show()"
   ]
  },
  {
   "cell_type": "markdown",
   "id": "1530dffd-cd47-440c-9214-08e429d0295c",
   "metadata": {},
   "source": [
    "# Follow-up for Recurrence (months)"
   ]
  },
  {
   "cell_type": "code",
   "execution_count": 32,
   "id": "86bc8921-56b3-4c0d-82e4-6ce0d2e3fd77",
   "metadata": {
    "executionCancelledAt": null,
    "executionTime": 51,
    "lastExecutedAt": 1707394275634,
    "lastScheduledRunId": null,
    "lastSuccessfullyExecutedCode": "df['fu_recurrence'].describe().round(1)"
   },
   "outputs": [
    {
     "data": {
      "text/plain": [
       "count    174.0\n",
       "mean      26.9\n",
       "std       28.0\n",
       "min        0.0\n",
       "25%        6.2\n",
       "50%       15.5\n",
       "75%       39.2\n",
       "max      119.0\n",
       "Name: fu_recurrence, dtype: float64"
      ]
     },
     "execution_count": 32,
     "metadata": {},
     "output_type": "execute_result"
    }
   ],
   "source": [
    "df['fu_recurrence'].describe().round(1)"
   ]
  },
  {
   "cell_type": "code",
   "execution_count": 33,
   "id": "77548859-6160-450a-9275-0cc0350c6c03",
   "metadata": {
    "executionCancelledAt": null,
    "executionTime": 56,
    "lastExecutedAt": 1707394275690,
    "lastScheduledRunId": null,
    "lastSuccessfullyExecutedCode": "stats.iqr(df['fu_recurrence'])"
   },
   "outputs": [
    {
     "data": {
      "text/plain": [
       "33.0"
      ]
     },
     "execution_count": 33,
     "metadata": {},
     "output_type": "execute_result"
    }
   ],
   "source": [
    "stats.iqr(df['fu_recurrence'])"
   ]
  },
  {
   "cell_type": "code",
   "execution_count": 34,
   "id": "adbcbf4f-0ad5-45ad-b495-a0b31b382f66",
   "metadata": {
    "executionCancelledAt": null,
    "executionTime": 206,
    "lastExecutedAt": 1707394275897,
    "lastScheduledRunId": null,
    "lastSuccessfullyExecutedCode": "sns.histplot(data=df, x='fu_recurrence')\nplt.show()"
   },
   "outputs": [
    {
     "data": {
      "image/png": "[encoded data removed]",
      "text/plain": [
       "<Figure size 640x480 with 1 Axes>"
      ]
     },
     "metadata": {},
     "output_type": "display_data"
    }
   ],
   "source": [
    "sns.histplot(data=df, x='fu_recurrence')\n",
    "plt.show()"
   ]
  },
  {
   "cell_type": "markdown",
   "id": "091e9d11-08a8-4be3-b1d4-170bfc677b05",
   "metadata": {},
   "source": [
    "# Death by cancer"
   ]
  },
  {
   "cell_type": "code",
   "execution_count": 35,
   "id": "96f106e5-4e65-47e2-8589-b248cd5dc00f",
   "metadata": {
    "executionCancelledAt": null,
    "executionTime": 53,
    "lastExecutedAt": 1707394275950,
    "lastScheduledRunId": null,
    "lastSuccessfullyExecutedCode": "df['dod'].value_counts(sort=False)"
   },
   "outputs": [
    {
     "data": {
      "text/plain": [
       "dod\n",
       "No     130\n",
       "Yes     41\n",
       "Name: count, dtype: int64"
      ]
     },
     "execution_count": 35,
     "metadata": {},
     "output_type": "execute_result"
    }
   ],
   "source": [
    "df['dod'].value_counts(sort=False)"
   ]
  },
  {
   "cell_type": "code",
   "execution_count": 36,
   "id": "c0511fd3-6c88-4110-8326-afecc03c1fb1",
   "metadata": {
    "executionCancelledAt": null,
    "executionTime": 56,
    "lastExecutedAt": 1707394276007,
    "lastScheduledRunId": null,
    "lastSuccessfullyExecutedCode": "df['dod'].value_counts(sort=False, normalize=True).round(2)"
   },
   "outputs": [
    {
     "data": {
      "text/plain": [
       "dod\n",
       "No     0.76\n",
       "Yes    0.24\n",
       "Name: proportion, dtype: float64"
      ]
     },
     "execution_count": 36,
     "metadata": {},
     "output_type": "execute_result"
    }
   ],
   "source": [
    "df['dod'].value_counts(sort=False, normalize=True).round(2)"
   ]
  },
  {
   "cell_type": "code",
   "execution_count": 37,
   "id": "da4252ca-0b8d-4553-8be9-2cc0ad384f5d",
   "metadata": {
    "executionCancelledAt": null,
    "executionTime": 130,
    "lastExecutedAt": 1707394276137,
    "lastScheduledRunId": null,
    "lastSuccessfullyExecutedCode": "sns.countplot(data=df, x='dod')\nplt.show()"
   },
   "outputs": [
    {
     "data": {
      "image/png": "[encoded data removed]",
      "text/plain": [
       "<Figure size 640x480 with 1 Axes>"
      ]
     },
     "metadata": {},
     "output_type": "display_data"
    }
   ],
   "source": [
    "sns.countplot(data=df, x='dod')\n",
    "plt.show()"
   ]
  },
  {
   "cell_type": "markdown",
   "id": "2a7666e9-beec-4a41-a74e-83c16c917ade",
   "metadata": {},
   "source": [
    "# Death by other causes"
   ]
  },
  {
   "cell_type": "code",
   "execution_count": 38,
   "id": "638506e7-407d-4eb9-bfee-7d0e6951b480",
   "metadata": {
    "executionCancelledAt": null,
    "executionTime": 53,
    "lastExecutedAt": 1707394276190,
    "lastScheduledRunId": null,
    "lastSuccessfullyExecutedCode": "df['doc'].value_counts(sort=False)"
   },
   "outputs": [
    {
     "data": {
      "text/plain": [
       "doc\n",
       "No     152\n",
       "Yes     18\n",
       "Name: count, dtype: int64"
      ]
     },
     "execution_count": 38,
     "metadata": {},
     "output_type": "execute_result"
    }
   ],
   "source": [
    "df['doc'].value_counts(sort=False)"
   ]
  },
  {
   "cell_type": "code",
   "execution_count": 39,
   "id": "f91d6848-7af7-4c3e-8908-32e5e2f8cc60",
   "metadata": {
    "executionCancelledAt": null,
    "executionTime": 61,
    "lastExecutedAt": 1707394276251,
    "lastScheduledRunId": null,
    "lastSuccessfullyExecutedCode": "df['doc'].value_counts(sort=False, normalize=True).round(2)"
   },
   "outputs": [
    {
     "data": {
      "text/plain": [
       "doc\n",
       "No     0.89\n",
       "Yes    0.11\n",
       "Name: proportion, dtype: float64"
      ]
     },
     "execution_count": 39,
     "metadata": {},
     "output_type": "execute_result"
    }
   ],
   "source": [
    "df['doc'].value_counts(sort=False, normalize=True).round(2)"
   ]
  },
  {
   "cell_type": "code",
   "execution_count": 40,
   "id": "3443b83e-1323-43c1-a24c-a61c9fc273e3",
   "metadata": {
    "executionCancelledAt": null,
    "executionTime": 148,
    "lastExecutedAt": 1707394276399,
    "lastScheduledRunId": null,
    "lastSuccessfullyExecutedCode": "sns.countplot(data=df, x='doc')\nplt.show()"
   },
   "outputs": [
    {
     "data": {
      "image/png": "[encoded data removed]",
      "text/plain": [
       "<Figure size 640x480 with 1 Axes>"
      ]
     },
     "metadata": {},
     "output_type": "display_data"
    }
   ],
   "source": [
    "sns.countplot(data=df, x='doc')\n",
    "plt.show()"
   ]
  },
  {
   "cell_type": "markdown",
   "id": "0784ec0e-af89-407f-8083-3256cf0dca8c",
   "metadata": {},
   "source": [
    "# Follow-up for Death (months)"
   ]
  },
  {
   "cell_type": "code",
   "execution_count": 41,
   "id": "a4f240f4-66f2-4ccf-a260-591ecf60bd81",
   "metadata": {
    "executionCancelledAt": null,
    "executionTime": 54,
    "lastExecutedAt": 1707394276454,
    "lastScheduledRunId": null,
    "lastSuccessfullyExecutedCode": "df['fu_censor'].describe().round(1)"
   },
   "outputs": [
    {
     "data": {
      "text/plain": [
       "count    174.0\n",
       "mean      30.8\n",
       "std       28.1\n",
       "min        0.0\n",
       "25%        9.0\n",
       "50%       22.0\n",
       "75%       46.5\n",
       "max      119.0\n",
       "Name: fu_censor, dtype: float64"
      ]
     },
     "execution_count": 41,
     "metadata": {},
     "output_type": "execute_result"
    }
   ],
   "source": [
    "df['fu_censor'].describe().round(1)"
   ]
  },
  {
   "cell_type": "code",
   "execution_count": 42,
   "id": "5a73d04e-1744-43d1-835a-f035a1f53bd5",
   "metadata": {
    "executionCancelledAt": null,
    "executionTime": 56,
    "lastExecutedAt": 1707394276510,
    "lastScheduledRunId": null,
    "lastSuccessfullyExecutedCode": "stats.iqr(df['fu_censor'])"
   },
   "outputs": [
    {
     "data": {
      "text/plain": [
       "37.5"
      ]
     },
     "execution_count": 42,
     "metadata": {},
     "output_type": "execute_result"
    }
   ],
   "source": [
    "stats.iqr(df['fu_censor'])"
   ]
  },
  {
   "cell_type": "code",
   "execution_count": 43,
   "id": "573d8660-d38b-4191-b9eb-96b0b5b2743c",
   "metadata": {
    "executionCancelledAt": null,
    "executionTime": 203,
    "lastExecutedAt": 1707394276713,
    "lastScheduledRunId": null,
    "lastSuccessfullyExecutedCode": "sns.histplot(data=df, x='fu_censor')\nplt.show()"
   },
   "outputs": [
    {
     "data": {
      "image/png": "[encoded data removed]",
      "text/plain": [
       "<Figure size 640x480 with 1 Axes>"
      ]
     },
     "metadata": {},
     "output_type": "display_data"
    }
   ],
   "source": [
    "sns.histplot(data=df, x='fu_censor')\n",
    "plt.show()"
   ]
  },
  {
   "cell_type": "markdown",
   "id": "a0358ab8-6537-4eea-b1ea-81efc9d3b07b",
   "metadata": {},
   "source": [
    "# Disease-related event"
   ]
  },
  {
   "cell_type": "code",
   "execution_count": 44,
   "id": "5d2fafd9-077f-4e52-8f2c-b19bb176c87e",
   "metadata": {
    "executionCancelledAt": null,
    "executionTime": 58,
    "lastExecutedAt": 1707394276771,
    "lastScheduledRunId": null,
    "lastSuccessfullyExecutedCode": "pd.crosstab(df['recurrence'], df['dod'])",
    "outputsMetadata": {
     "0": {
      "height": 123,
      "type": "dataFrame"
     }
    }
   },
   "outputs": [
    {
     "data": {
      "text/html": [
       "<div>\n",
       "<style scoped>\n",
       "    .dataframe tbody tr th:only-of-type {\n",
       "        vertical-align: middle;\n",
       "    }\n",
       "\n",
       "    .dataframe tbody tr th {\n",
       "        vertical-align: top;\n",
       "    }\n",
       "\n",
       "    .dataframe thead th {\n",
       "        text-align: right;\n",
       "    }\n",
       "</style>\n",
       "<table border=\"1\" class=\"dataframe\">\n",
       "  <thead>\n",
       "    <tr style=\"text-align: right;\">\n",
       "      <th>dod</th>\n",
       "      <th>No</th>\n",
       "      <th>Yes</th>\n",
       "    </tr>\n",
       "    <tr>\n",
       "      <th>recurrence</th>\n",
       "      <th></th>\n",
       "      <th></th>\n",
       "    </tr>\n",
       "  </thead>\n",
       "  <tbody>\n",
       "    <tr>\n",
       "      <th>No</th>\n",
       "      <td>109</td>\n",
       "      <td>7</td>\n",
       "    </tr>\n",
       "    <tr>\n",
       "      <th>Yes</th>\n",
       "      <td>21</td>\n",
       "      <td>34</td>\n",
       "    </tr>\n",
       "  </tbody>\n",
       "</table>\n",
       "</div>"
      ],
      "text/plain": [
       "dod          No  Yes\n",
       "recurrence          \n",
       "No          109    7\n",
       "Yes          21   34"
      ]
     },
     "execution_count": 44,
     "metadata": {},
     "output_type": "execute_result"
    }
   ],
   "source": [
    "pd.crosstab(df['recurrence'], df['dod'])"
   ]
  },
  {
   "cell_type": "code",
   "execution_count": 45,
   "id": "9d217fa4-ee16-4f88-955e-86ac1acdfc5b",
   "metadata": {
    "executionCancelledAt": null,
    "executionTime": 52,
    "lastExecutedAt": 1707394276823,
    "lastScheduledRunId": null,
    "lastSuccessfullyExecutedCode": "df['dre'].value_counts(sort=False)"
   },
   "outputs": [
    {
     "data": {
      "text/plain": [
       "dre\n",
       "No     102\n",
       "Yes     72\n",
       "Name: count, dtype: int64"
      ]
     },
     "execution_count": 45,
     "metadata": {},
     "output_type": "execute_result"
    }
   ],
   "source": [
    "df['dre'].value_counts(sort=False)"
   ]
  },
  {
   "cell_type": "code",
   "execution_count": 46,
   "id": "63b9296b-202f-42bf-81f3-5b04c34fbd69",
   "metadata": {
    "executionCancelledAt": null,
    "executionTime": 56,
    "lastExecutedAt": 1707394276879,
    "lastScheduledRunId": null,
    "lastSuccessfullyExecutedCode": "df['dre'].value_counts(sort=False, normalize=True).round(2)"
   },
   "outputs": [
    {
     "data": {
      "text/plain": [
       "dre\n",
       "No     0.59\n",
       "Yes    0.41\n",
       "Name: proportion, dtype: float64"
      ]
     },
     "execution_count": 46,
     "metadata": {},
     "output_type": "execute_result"
    }
   ],
   "source": [
    "df['dre'].value_counts(sort=False, normalize=True).round(2)"
   ]
  },
  {
   "cell_type": "code",
   "execution_count": 47,
   "id": "38d2909f-81e5-451e-9598-ea538ce8b918",
   "metadata": {
    "executionCancelledAt": null,
    "executionTime": 143,
    "lastExecutedAt": 1707394277022,
    "lastScheduledRunId": null,
    "lastSuccessfullyExecutedCode": "sns.countplot(data=df, x='dre')\nplt.show()"
   },
   "outputs": [
    {
     "data": {
      "image/png": "[encoded data removed]",
      "text/plain": [
       "<Figure size 640x480 with 1 Axes>"
      ]
     },
     "metadata": {},
     "output_type": "display_data"
    }
   ],
   "source": [
    "sns.countplot(data=df, x='dre')\n",
    "plt.show()"
   ]
  }
 ],
 "metadata": {
  "editor": "DataCamp Workspace",
  "kernelspec": {
   "display_name": "base",
   "language": "python",
   "name": "python3"
  },
  "language_info": {
   "codemirror_mode": {
    "name": "ipython",
    "version": 3
   },
   "file_extension": ".py",
   "mimetype": "text/x-python",
   "name": "python",
   "nbconvert_exporter": "python",
   "pygments_lexer": "ipython3",
   "version": "3.12.7"
  }
 },
 "nbformat": 4,
 "nbformat_minor": 5
}
