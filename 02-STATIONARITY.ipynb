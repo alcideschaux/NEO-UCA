{
 "cells": [
  {
   "cell_type": "code",
   "execution_count": 1,
   "id": "77eb64c9-f807-4a75-ac74-6f22d24496e3",
   "metadata": {
    "executionCancelledAt": null,
    "executionTime": 824,
    "lastExecutedAt": 1707394510593,
    "lastScheduledRunId": null,
    "lastSuccessfullyExecutedCode": "# Import libraries\nimport pandas as pd\nimport numpy as np\nimport scipy.stats as stats\nimport matplotlib.pyplot as plt\nimport seaborn as sns\n\n# Set theme\nsns.set_theme(style='dark')\nsns.set_palette(palette='Set2')\n\n# Run scripts for data and analysis\n%run tidy_data.py\n%run effect_size.py\n\ndf.info()",
    "outputsMetadata": {
     "0": {
      "height": 497,
      "type": "stream"
     }
    }
   },
   "outputs": [
    {
     "name": "stdout",
     "output_type": "stream",
     "text": [
      "<class 'pandas.core.frame.DataFrame'>\n",
      "RangeIndex: 174 entries, 0 to 173\n",
      "Data columns (total 19 columns):\n",
      " #   Column             Non-Null Count  Dtype   \n",
      "---  ------             --------------  -----   \n",
      " 0   id                 174 non-null    object  \n",
      " 1   age                174 non-null    int64   \n",
      " 2   variant_histology  174 non-null    category\n",
      " 3   ypT_stage          174 non-null    category\n",
      " 4   ypN_stage          174 non-null    category\n",
      " 5   recurrence         173 non-null    category\n",
      " 6   fu_recurrence      174 non-null    float64 \n",
      " 7   dod                171 non-null    category\n",
      " 8   doc                170 non-null    category\n",
      " 9   fu_censor          174 non-null    float64 \n",
      " 10  sex                174 non-null    object  \n",
      " 11  year_cystectomy    173 non-null    float64 \n",
      " 12  ypT_group          174 non-null    object  \n",
      " 13  ypN_group          174 non-null    object  \n",
      " 14  dre                174 non-null    category\n",
      " 15  ypT_group1         174 non-null    category\n",
      " 16  ypT_group2         174 non-null    category\n",
      " 17  ypN_group1         174 non-null    category\n",
      " 18  ypN_group2         174 non-null    category\n",
      "dtypes: category(11), float64(3), int64(1), object(4)\n",
      "memory usage: 14.4+ KB\n"
     ]
    }
   ],
   "source": [
    "# Import libraries\n",
    "import pandas as pd\n",
    "import numpy as np\n",
    "import scipy.stats as stats\n",
    "import matplotlib.pyplot as plt\n",
    "import seaborn as sns\n",
    "\n",
    "# Set theme\n",
    "sns.set_theme(style='dark')\n",
    "sns.set_palette(palette='Set2')\n",
    "\n",
    "# Run scripts for data and analysis\n",
    "%run tidy_data.py\n",
    "%run scripts.py\n",
    "\n",
    "df.info()"
   ]
  },
  {
   "cell_type": "code",
   "execution_count": 2,
   "id": "b077758c-6edd-46e1-8ab8-acfb5ff357a8",
   "metadata": {
    "executionCancelledAt": null,
    "executionTime": 398,
    "lastExecutedAt": 1707394510991,
    "lastScheduledRunId": null,
    "lastSuccessfullyExecutedCode": "# Reset the index to make it a column\ndf_reset = df.reset_index()\n\n# Now plot with 'index' as a column\nsns.lineplot(data=df_reset, y='index', x='year_cystectomy', ci=None)\nplt.xticks(range(2010, 2024), rotation=90)\nplt.show()\n"
   },
   "outputs": [
    {
     "data": {
      "image/png": "[encoded data removed]",
      "text/plain": [
       "<Figure size 640x480 with 1 Axes>"
      ]
     },
     "metadata": {},
     "output_type": "display_data"
    }
   ],
   "source": [
    "# Reset the index to make it a column\n",
    "df_reset = df.reset_index()\n",
    "\n",
    "# Now plot with 'index' as a column\n",
    "sns.lineplot(data=df_reset, y='index', x='year_cystectomy', ci=None)\n",
    "plt.xticks(range(2010, 2024), rotation=90)\n",
    "plt.show()\n"
   ]
  },
  {
   "cell_type": "markdown",
   "id": "6c7d80bd-3ee3-4ead-b5c6-f054248273d6",
   "metadata": {},
   "source": [
    "# Analysis using median"
   ]
  },
  {
   "cell_type": "code",
   "execution_count": 3,
   "id": "1b1f2747-42e9-4e99-868c-407baac9f720",
   "metadata": {
    "executionCancelledAt": null,
    "executionTime": 55,
    "lastExecutedAt": 1707394511046,
    "lastScheduledRunId": null,
    "lastSuccessfullyExecutedCode": "df['year_cystectomy_q2'] = pd.qcut(df['year_cystectomy'], q=2, labels=['Q1 Years', 'Q2 Years'])\ndf['year_cystectomy_q2'].value_counts(sort=False)"
   },
   "outputs": [
    {
     "data": {
      "text/plain": [
       "year_cystectomy_q2\n",
       "Q1 Years    97\n",
       "Q2 Years    76\n",
       "Name: count, dtype: int64"
      ]
     },
     "execution_count": 3,
     "metadata": {},
     "output_type": "execute_result"
    }
   ],
   "source": [
    "df['year_cystectomy_q2'] = pd.qcut(df['year_cystectomy'], q=2, labels=['Q1 Years', 'Q2 Years'])\n",
    "df['year_cystectomy_q2'].value_counts(sort=False)"
   ]
  },
  {
   "cell_type": "markdown",
   "id": "47cffb8a-649b-4a37-af1a-5e704151691c",
   "metadata": {},
   "source": [
    "## Tumor recurrence"
   ]
  },
  {
   "cell_type": "code",
   "execution_count": 4,
   "id": "cafdfbab-3168-4386-b175-9eed866fbdfc",
   "metadata": {
    "executionCancelledAt": null,
    "executionTime": 57,
    "lastExecutedAt": 1707394511103,
    "lastScheduledRunId": null,
    "lastSuccessfullyExecutedCode": "pd.crosstab(df['year_cystectomy_q2'], df['recurrence'], normalize='index').round(2)",
    "outputsMetadata": {
     "0": {
      "height": 123,
      "type": "dataFrame"
     }
    }
   },
   "outputs": [
    {
     "data": {
      "text/html": [
       "<div>\n",
       "<style scoped>\n",
       "    .dataframe tbody tr th:only-of-type {\n",
       "        vertical-align: middle;\n",
       "    }\n",
       "\n",
       "    .dataframe tbody tr th {\n",
       "        vertical-align: top;\n",
       "    }\n",
       "\n",
       "    .dataframe thead th {\n",
       "        text-align: right;\n",
       "    }\n",
       "</style>\n",
       "<table border=\"1\" class=\"dataframe\">\n",
       "  <thead>\n",
       "    <tr style=\"text-align: right;\">\n",
       "      <th>recurrence</th>\n",
       "      <th>No</th>\n",
       "      <th>Yes</th>\n",
       "    </tr>\n",
       "    <tr>\n",
       "      <th>year_cystectomy_q2</th>\n",
       "      <th></th>\n",
       "      <th></th>\n",
       "    </tr>\n",
       "  </thead>\n",
       "  <tbody>\n",
       "    <tr>\n",
       "      <th>Q1 Years</th>\n",
       "      <td>0.68</td>\n",
       "      <td>0.32</td>\n",
       "    </tr>\n",
       "    <tr>\n",
       "      <th>Q2 Years</th>\n",
       "      <td>0.67</td>\n",
       "      <td>0.33</td>\n",
       "    </tr>\n",
       "  </tbody>\n",
       "</table>\n",
       "</div>"
      ],
      "text/plain": [
       "recurrence            No   Yes\n",
       "year_cystectomy_q2            \n",
       "Q1 Years            0.68  0.32\n",
       "Q2 Years            0.67  0.33"
      ]
     },
     "execution_count": 4,
     "metadata": {},
     "output_type": "execute_result"
    }
   ],
   "source": [
    "pd.crosstab(df['year_cystectomy_q2'], df['recurrence'], normalize='index').round(2)"
   ]
  },
  {
   "cell_type": "code",
   "execution_count": 5,
   "id": "73ee6ffe-282c-479c-aab7-fa1248ed59c4",
   "metadata": {
    "executionCancelledAt": null,
    "executionTime": 54,
    "lastExecutedAt": 1707394511157,
    "lastScheduledRunId": null,
    "lastSuccessfullyExecutedCode": "stats.chi2_contingency(pd.crosstab(df['year_cystectomy_q2'], df['recurrence']))"
   },
   "outputs": [
    {
     "data": {
      "text/plain": [
       "Chi2ContingencyResult(statistic=0.0, pvalue=1.0, dof=1, expected_freq=array([[64.74418605, 31.25581395],\n",
       "       [51.25581395, 24.74418605]]))"
      ]
     },
     "execution_count": 5,
     "metadata": {},
     "output_type": "execute_result"
    }
   ],
   "source": [
    "stats.chi2_contingency(pd.crosstab(df['year_cystectomy_q2'], df['recurrence']))"
   ]
  },
  {
   "cell_type": "code",
   "execution_count": 6,
   "id": "b5be73b0-e1b7-4639-b450-1cb296991938",
   "metadata": {
    "executionCancelledAt": null,
    "executionTime": 56,
    "lastExecutedAt": 1707394511213,
    "lastScheduledRunId": null,
    "lastSuccessfullyExecutedCode": "cramers_v(df['year_cystectomy_q2'], df['recurrence'])"
   },
   "outputs": [
    {
     "data": {
      "text/plain": [
       "0.0"
      ]
     },
     "execution_count": 6,
     "metadata": {},
     "output_type": "execute_result"
    }
   ],
   "source": [
    "cramers_v(df['year_cystectomy_q2'], df['recurrence'])"
   ]
  },
  {
   "cell_type": "markdown",
   "id": "a5b55d85-020a-4e62-81b8-37567df8f1ca",
   "metadata": {},
   "source": [
    "## Death by cancer"
   ]
  },
  {
   "cell_type": "code",
   "execution_count": 7,
   "id": "77eb9c70-866e-44fe-8aef-eb4e894031c3",
   "metadata": {
    "executionCancelledAt": null,
    "executionTime": 56,
    "lastExecutedAt": 1707394511269,
    "lastScheduledRunId": null,
    "lastSuccessfullyExecutedCode": "pd.crosstab(df['year_cystectomy_q2'], df['dod'], normalize='index').round(2)",
    "outputsMetadata": {
     "0": {
      "height": 123,
      "type": "dataFrame"
     }
    }
   },
   "outputs": [
    {
     "data": {
      "text/html": [
       "<div>\n",
       "<style scoped>\n",
       "    .dataframe tbody tr th:only-of-type {\n",
       "        vertical-align: middle;\n",
       "    }\n",
       "\n",
       "    .dataframe tbody tr th {\n",
       "        vertical-align: top;\n",
       "    }\n",
       "\n",
       "    .dataframe thead th {\n",
       "        text-align: right;\n",
       "    }\n",
       "</style>\n",
       "<table border=\"1\" class=\"dataframe\">\n",
       "  <thead>\n",
       "    <tr style=\"text-align: right;\">\n",
       "      <th>dod</th>\n",
       "      <th>No</th>\n",
       "      <th>Yes</th>\n",
       "    </tr>\n",
       "    <tr>\n",
       "      <th>year_cystectomy_q2</th>\n",
       "      <th></th>\n",
       "      <th></th>\n",
       "    </tr>\n",
       "  </thead>\n",
       "  <tbody>\n",
       "    <tr>\n",
       "      <th>Q1 Years</th>\n",
       "      <td>0.74</td>\n",
       "      <td>0.26</td>\n",
       "    </tr>\n",
       "    <tr>\n",
       "      <th>Q2 Years</th>\n",
       "      <td>0.79</td>\n",
       "      <td>0.21</td>\n",
       "    </tr>\n",
       "  </tbody>\n",
       "</table>\n",
       "</div>"
      ],
      "text/plain": [
       "dod                   No   Yes\n",
       "year_cystectomy_q2            \n",
       "Q1 Years            0.74  0.26\n",
       "Q2 Years            0.79  0.21"
      ]
     },
     "execution_count": 7,
     "metadata": {},
     "output_type": "execute_result"
    }
   ],
   "source": [
    "pd.crosstab(df['year_cystectomy_q2'], df['dod'], normalize='index').round(2)"
   ]
  },
  {
   "cell_type": "code",
   "execution_count": 8,
   "id": "d12955e4-2f1a-4886-8454-d66ca491097e",
   "metadata": {
    "executionCancelledAt": null,
    "executionTime": 57,
    "lastExecutedAt": 1707394511326,
    "lastScheduledRunId": null,
    "lastSuccessfullyExecutedCode": "stats.chi2_contingency(pd.crosstab(df['year_cystectomy_q2'], df['dod']))"
   },
   "outputs": [
    {
     "data": {
      "text/plain": [
       "Chi2ContingencyResult(statistic=0.25272014170040474, pvalue=0.6151662213418985, dof=1, expected_freq=array([[71.88235294, 22.11764706],\n",
       "       [58.11764706, 17.88235294]]))"
      ]
     },
     "execution_count": 8,
     "metadata": {},
     "output_type": "execute_result"
    }
   ],
   "source": [
    "stats.chi2_contingency(pd.crosstab(df['year_cystectomy_q2'], df['dod']))"
   ]
  },
  {
   "cell_type": "code",
   "execution_count": 9,
   "id": "fb55eaa5-f9e5-42fb-b8ae-b06681b07880",
   "metadata": {
    "executionCancelledAt": null,
    "executionTime": 54,
    "lastExecutedAt": 1707394511381,
    "lastScheduledRunId": null,
    "lastSuccessfullyExecutedCode": "cramers_v(df['year_cystectomy_q2'], df['dod'])"
   },
   "outputs": [
    {
     "data": {
      "text/plain": [
       "0.0"
      ]
     },
     "execution_count": 9,
     "metadata": {},
     "output_type": "execute_result"
    }
   ],
   "source": [
    "cramers_v(df['year_cystectomy_q2'], df['dod'])"
   ]
  },
  {
   "cell_type": "markdown",
   "id": "dc1924be-2a0d-491c-bdc1-59d144ea04f3",
   "metadata": {},
   "source": [
    "## Death by other causes"
   ]
  },
  {
   "cell_type": "code",
   "execution_count": 10,
   "id": "dbfcee34-74f5-4d4b-b2f0-eb59d21cc426",
   "metadata": {
    "executionCancelledAt": null,
    "executionTime": 60,
    "lastExecutedAt": 1707394511441,
    "lastScheduledRunId": null,
    "lastSuccessfullyExecutedCode": "pd.crosstab(df['year_cystectomy_q2'], df['doc'], normalize='index').round(2)",
    "outputsMetadata": {
     "0": {
      "height": 123,
      "type": "dataFrame"
     }
    }
   },
   "outputs": [
    {
     "data": {
      "text/html": [
       "<div>\n",
       "<style scoped>\n",
       "    .dataframe tbody tr th:only-of-type {\n",
       "        vertical-align: middle;\n",
       "    }\n",
       "\n",
       "    .dataframe tbody tr th {\n",
       "        vertical-align: top;\n",
       "    }\n",
       "\n",
       "    .dataframe thead th {\n",
       "        text-align: right;\n",
       "    }\n",
       "</style>\n",
       "<table border=\"1\" class=\"dataframe\">\n",
       "  <thead>\n",
       "    <tr style=\"text-align: right;\">\n",
       "      <th>doc</th>\n",
       "      <th>No</th>\n",
       "      <th>Yes</th>\n",
       "    </tr>\n",
       "    <tr>\n",
       "      <th>year_cystectomy_q2</th>\n",
       "      <th></th>\n",
       "      <th></th>\n",
       "    </tr>\n",
       "  </thead>\n",
       "  <tbody>\n",
       "    <tr>\n",
       "      <th>Q1 Years</th>\n",
       "      <td>0.88</td>\n",
       "      <td>0.12</td>\n",
       "    </tr>\n",
       "    <tr>\n",
       "      <th>Q2 Years</th>\n",
       "      <td>0.91</td>\n",
       "      <td>0.09</td>\n",
       "    </tr>\n",
       "  </tbody>\n",
       "</table>\n",
       "</div>"
      ],
      "text/plain": [
       "doc                   No   Yes\n",
       "year_cystectomy_q2            \n",
       "Q1 Years            0.88  0.12\n",
       "Q2 Years            0.91  0.09"
      ]
     },
     "execution_count": 10,
     "metadata": {},
     "output_type": "execute_result"
    }
   ],
   "source": [
    "pd.crosstab(df['year_cystectomy_q2'], df['doc'], normalize='index').round(2)"
   ]
  },
  {
   "cell_type": "code",
   "execution_count": 11,
   "id": "b586ef55-dcf2-48aa-8f2d-75d2ad1293d7",
   "metadata": {
    "executionCancelledAt": null,
    "executionTime": 53,
    "lastExecutedAt": 1707394511494,
    "lastScheduledRunId": null,
    "lastSuccessfullyExecutedCode": "stats.chi2_contingency(pd.crosstab(df['year_cystectomy_q2'], df['doc']))"
   },
   "outputs": [
    {
     "data": {
      "text/plain": [
       "Chi2ContingencyResult(statistic=0.08885315122349802, pvalue=0.7656402305162703, dof=1, expected_freq=array([[83.09467456,  9.90532544],\n",
       "       [67.90532544,  8.09467456]]))"
      ]
     },
     "execution_count": 11,
     "metadata": {},
     "output_type": "execute_result"
    }
   ],
   "source": [
    "stats.chi2_contingency(pd.crosstab(df['year_cystectomy_q2'], df['doc']))"
   ]
  },
  {
   "cell_type": "code",
   "execution_count": 12,
   "id": "c5011c64-9d62-48e8-853c-b7ab9988edf0",
   "metadata": {
    "executionCancelledAt": null,
    "executionTime": 56,
    "lastExecutedAt": 1707394511550,
    "lastScheduledRunId": null,
    "lastSuccessfullyExecutedCode": "cramers_v(df['year_cystectomy_q2'], df['doc'])"
   },
   "outputs": [
    {
     "data": {
      "text/plain": [
       "0.0"
      ]
     },
     "execution_count": 12,
     "metadata": {},
     "output_type": "execute_result"
    }
   ],
   "source": [
    "cramers_v(df['year_cystectomy_q2'], df['doc'])"
   ]
  },
  {
   "cell_type": "markdown",
   "id": "534e56ac-d337-46a5-9dbf-6488eb93b6aa",
   "metadata": {},
   "source": [
    "## Disease-related event"
   ]
  },
  {
   "cell_type": "code",
   "execution_count": 13,
   "id": "15157294-a63d-4fd6-9d5e-016fd5e40242",
   "metadata": {
    "executionCancelledAt": null,
    "executionTime": 56,
    "lastExecutedAt": 1707394511606,
    "lastScheduledRunId": null,
    "lastSuccessfullyExecutedCode": "pd.crosstab(df['year_cystectomy_q2'], df['dre'], normalize='index').round(2)",
    "outputsMetadata": {
     "0": {
      "height": 123,
      "type": "dataFrame"
     }
    }
   },
   "outputs": [
    {
     "data": {
      "text/html": [
       "<div>\n",
       "<style scoped>\n",
       "    .dataframe tbody tr th:only-of-type {\n",
       "        vertical-align: middle;\n",
       "    }\n",
       "\n",
       "    .dataframe tbody tr th {\n",
       "        vertical-align: top;\n",
       "    }\n",
       "\n",
       "    .dataframe thead th {\n",
       "        text-align: right;\n",
       "    }\n",
       "</style>\n",
       "<table border=\"1\" class=\"dataframe\">\n",
       "  <thead>\n",
       "    <tr style=\"text-align: right;\">\n",
       "      <th>dre</th>\n",
       "      <th>No</th>\n",
       "      <th>Yes</th>\n",
       "    </tr>\n",
       "    <tr>\n",
       "      <th>year_cystectomy_q2</th>\n",
       "      <th></th>\n",
       "      <th></th>\n",
       "    </tr>\n",
       "  </thead>\n",
       "  <tbody>\n",
       "    <tr>\n",
       "      <th>Q1 Years</th>\n",
       "      <td>0.57</td>\n",
       "      <td>0.43</td>\n",
       "    </tr>\n",
       "    <tr>\n",
       "      <th>Q2 Years</th>\n",
       "      <td>0.62</td>\n",
       "      <td>0.38</td>\n",
       "    </tr>\n",
       "  </tbody>\n",
       "</table>\n",
       "</div>"
      ],
      "text/plain": [
       "dre                   No   Yes\n",
       "year_cystectomy_q2            \n",
       "Q1 Years            0.57  0.43\n",
       "Q2 Years            0.62  0.38"
      ]
     },
     "execution_count": 13,
     "metadata": {},
     "output_type": "execute_result"
    }
   ],
   "source": [
    "pd.crosstab(df['year_cystectomy_q2'], df['dre'], normalize='index').round(2)"
   ]
  },
  {
   "cell_type": "code",
   "execution_count": 14,
   "id": "dc2d4816-549c-44d2-81ab-3670c9b900b7",
   "metadata": {
    "executionCancelledAt": null,
    "executionTime": 52,
    "lastExecutedAt": 1707394511658,
    "lastScheduledRunId": null,
    "lastSuccessfullyExecutedCode": "stats.chi2_contingency(pd.crosstab(df['year_cystectomy_q2'], df['dre']))"
   },
   "outputs": [
    {
     "data": {
      "text/plain": [
       "Chi2ContingencyResult(statistic=0.27723879141883917, pvalue=0.5985167482325713, dof=1, expected_freq=array([[57.19075145, 39.80924855],\n",
       "       [44.80924855, 31.19075145]]))"
      ]
     },
     "execution_count": 14,
     "metadata": {},
     "output_type": "execute_result"
    }
   ],
   "source": [
    "stats.chi2_contingency(pd.crosstab(df['year_cystectomy_q2'], df['dre']))"
   ]
  },
  {
   "cell_type": "code",
   "execution_count": 15,
   "id": "9dbc02aa-0860-477b-b08c-90b4878e7393",
   "metadata": {
    "executionCancelledAt": null,
    "executionTime": 55,
    "lastExecutedAt": 1707394511713,
    "lastScheduledRunId": null,
    "lastSuccessfullyExecutedCode": "cramers_v(df['year_cystectomy_q2'], df['dre'])"
   },
   "outputs": [
    {
     "data": {
      "text/plain": [
       "0.0"
      ]
     },
     "execution_count": 15,
     "metadata": {},
     "output_type": "execute_result"
    }
   ],
   "source": [
    "cramers_v(df['year_cystectomy_q2'], df['dre'])"
   ]
  },
  {
   "cell_type": "markdown",
   "id": "d51cfa2c-24aa-4c9b-9fcf-5aeb2470f4e4",
   "metadata": {},
   "source": [
    "# Analysis using tertiles"
   ]
  },
  {
   "cell_type": "code",
   "execution_count": 16,
   "id": "a8ad36fc-9bdc-4721-a15f-d651036bead7",
   "metadata": {
    "executionCancelledAt": null,
    "executionTime": 52,
    "lastExecutedAt": 1707394511765,
    "lastScheduledRunId": null,
    "lastSuccessfullyExecutedCode": "df['year_cystectomy_q3'] = pd.qcut(df['year_cystectomy'], q=3, labels=['Q1 Years', 'Q2 Years', 'Q3 Years'])"
   },
   "outputs": [],
   "source": [
    "df['year_cystectomy_q3'] = pd.qcut(df['year_cystectomy'], q=3, labels=['Q1 Years', 'Q2 Years', 'Q3 Years'])"
   ]
  },
  {
   "cell_type": "code",
   "execution_count": 17,
   "id": "e57cd991-86ec-480d-ba31-4d5e4c403296",
   "metadata": {
    "executionCancelledAt": null,
    "executionTime": 52,
    "lastExecutedAt": 1707394511817,
    "lastScheduledRunId": null,
    "lastSuccessfullyExecutedCode": "df['year_cystectomy_q3'].value_counts(sort=False)"
   },
   "outputs": [
    {
     "data": {
      "text/plain": [
       "year_cystectomy_q3\n",
       "Q1 Years    70\n",
       "Q2 Years    52\n",
       "Q3 Years    51\n",
       "Name: count, dtype: int64"
      ]
     },
     "execution_count": 17,
     "metadata": {},
     "output_type": "execute_result"
    }
   ],
   "source": [
    "df['year_cystectomy_q3'].value_counts(sort=False)"
   ]
  },
  {
   "cell_type": "markdown",
   "id": "05353fd3-289d-4d68-870d-ac2d8f53c94f",
   "metadata": {},
   "source": [
    "## Tumor recurrence"
   ]
  },
  {
   "cell_type": "code",
   "execution_count": 18,
   "id": "e5e2de62-8f91-4323-8c9e-af8167711f4f",
   "metadata": {
    "executionCancelledAt": null,
    "executionTime": 55,
    "lastExecutedAt": 1707394511873,
    "lastScheduledRunId": null,
    "lastSuccessfullyExecutedCode": "pd.crosstab(df['year_cystectomy_q3'], df['recurrence'], normalize='index').round(2)",
    "outputsMetadata": {
     "0": {
      "height": 148,
      "type": "dataFrame"
     }
    }
   },
   "outputs": [
    {
     "data": {
      "text/html": [
       "<div>\n",
       "<style scoped>\n",
       "    .dataframe tbody tr th:only-of-type {\n",
       "        vertical-align: middle;\n",
       "    }\n",
       "\n",
       "    .dataframe tbody tr th {\n",
       "        vertical-align: top;\n",
       "    }\n",
       "\n",
       "    .dataframe thead th {\n",
       "        text-align: right;\n",
       "    }\n",
       "</style>\n",
       "<table border=\"1\" class=\"dataframe\">\n",
       "  <thead>\n",
       "    <tr style=\"text-align: right;\">\n",
       "      <th>recurrence</th>\n",
       "      <th>No</th>\n",
       "      <th>Yes</th>\n",
       "    </tr>\n",
       "    <tr>\n",
       "      <th>year_cystectomy_q3</th>\n",
       "      <th></th>\n",
       "      <th></th>\n",
       "    </tr>\n",
       "  </thead>\n",
       "  <tbody>\n",
       "    <tr>\n",
       "      <th>Q1 Years</th>\n",
       "      <td>0.70</td>\n",
       "      <td>0.30</td>\n",
       "    </tr>\n",
       "    <tr>\n",
       "      <th>Q2 Years</th>\n",
       "      <td>0.60</td>\n",
       "      <td>0.40</td>\n",
       "    </tr>\n",
       "    <tr>\n",
       "      <th>Q3 Years</th>\n",
       "      <td>0.73</td>\n",
       "      <td>0.27</td>\n",
       "    </tr>\n",
       "  </tbody>\n",
       "</table>\n",
       "</div>"
      ],
      "text/plain": [
       "recurrence            No   Yes\n",
       "year_cystectomy_q3            \n",
       "Q1 Years            0.70  0.30\n",
       "Q2 Years            0.60  0.40\n",
       "Q3 Years            0.73  0.27"
      ]
     },
     "execution_count": 18,
     "metadata": {},
     "output_type": "execute_result"
    }
   ],
   "source": [
    "pd.crosstab(df['year_cystectomy_q3'], df['recurrence'], normalize='index').round(2)"
   ]
  },
  {
   "cell_type": "code",
   "execution_count": 19,
   "id": "341c077e-5361-410e-a086-a216c9633438",
   "metadata": {
    "executionCancelledAt": null,
    "executionTime": 56,
    "lastExecutedAt": 1707394511929,
    "lastScheduledRunId": null,
    "lastSuccessfullyExecutedCode": "stats.chi2_contingency(pd.crosstab(df['year_cystectomy_q3'], df['recurrence']))"
   },
   "outputs": [
    {
     "data": {
      "text/plain": [
       "Chi2ContingencyResult(statistic=2.198090717084895, pvalue=0.3331890079622949, dof=2, expected_freq=array([[46.53488372, 22.46511628],\n",
       "       [35.06976744, 16.93023256],\n",
       "       [34.39534884, 16.60465116]]))"
      ]
     },
     "execution_count": 19,
     "metadata": {},
     "output_type": "execute_result"
    }
   ],
   "source": [
    "stats.chi2_contingency(pd.crosstab(df['year_cystectomy_q3'], df['recurrence']))"
   ]
  },
  {
   "cell_type": "code",
   "execution_count": 20,
   "id": "9e8f3355-d880-45b9-9439-bd80520e0584",
   "metadata": {
    "executionCancelledAt": null,
    "executionTime": 52,
    "lastExecutedAt": 1707394511981,
    "lastScheduledRunId": null,
    "lastSuccessfullyExecutedCode": "cramers_v(df['year_cystectomy_q3'], df['recurrence'])"
   },
   "outputs": [
    {
     "data": {
      "text/plain": [
       "0.03"
      ]
     },
     "execution_count": 20,
     "metadata": {},
     "output_type": "execute_result"
    }
   ],
   "source": [
    "cramers_v(df['year_cystectomy_q3'], df['recurrence'])"
   ]
  },
  {
   "cell_type": "markdown",
   "id": "0daaf2aa-ed27-40d4-afb3-ea12cc9fc359",
   "metadata": {},
   "source": [
    "## Death by cancer"
   ]
  },
  {
   "cell_type": "code",
   "execution_count": 21,
   "id": "fd740e37-9bf9-42af-b737-88ecfdb99472",
   "metadata": {
    "executionCancelledAt": null,
    "executionTime": 52,
    "lastExecutedAt": 1707394512033,
    "lastScheduledRunId": null,
    "lastSuccessfullyExecutedCode": "pd.crosstab(df['year_cystectomy_q3'], df['dod'], normalize='index').round(2)",
    "outputsMetadata": {
     "0": {
      "height": 148,
      "type": "dataFrame"
     }
    }
   },
   "outputs": [
    {
     "data": {
      "text/html": [
       "<div>\n",
       "<style scoped>\n",
       "    .dataframe tbody tr th:only-of-type {\n",
       "        vertical-align: middle;\n",
       "    }\n",
       "\n",
       "    .dataframe tbody tr th {\n",
       "        vertical-align: top;\n",
       "    }\n",
       "\n",
       "    .dataframe thead th {\n",
       "        text-align: right;\n",
       "    }\n",
       "</style>\n",
       "<table border=\"1\" class=\"dataframe\">\n",
       "  <thead>\n",
       "    <tr style=\"text-align: right;\">\n",
       "      <th>dod</th>\n",
       "      <th>No</th>\n",
       "      <th>Yes</th>\n",
       "    </tr>\n",
       "    <tr>\n",
       "      <th>year_cystectomy_q3</th>\n",
       "      <th></th>\n",
       "      <th></th>\n",
       "    </tr>\n",
       "  </thead>\n",
       "  <tbody>\n",
       "    <tr>\n",
       "      <th>Q1 Years</th>\n",
       "      <td>0.74</td>\n",
       "      <td>0.26</td>\n",
       "    </tr>\n",
       "    <tr>\n",
       "      <th>Q2 Years</th>\n",
       "      <td>0.68</td>\n",
       "      <td>0.32</td>\n",
       "    </tr>\n",
       "    <tr>\n",
       "      <th>Q3 Years</th>\n",
       "      <td>0.88</td>\n",
       "      <td>0.12</td>\n",
       "    </tr>\n",
       "  </tbody>\n",
       "</table>\n",
       "</div>"
      ],
      "text/plain": [
       "dod                   No   Yes\n",
       "year_cystectomy_q3            \n",
       "Q1 Years            0.74  0.26\n",
       "Q2 Years            0.68  0.32\n",
       "Q3 Years            0.88  0.12"
      ]
     },
     "execution_count": 21,
     "metadata": {},
     "output_type": "execute_result"
    }
   ],
   "source": [
    "pd.crosstab(df['year_cystectomy_q3'], df['dod'], normalize='index').round(2)"
   ]
  },
  {
   "cell_type": "code",
   "execution_count": 22,
   "id": "b12b4cca-0377-42bb-85b7-c7b4e30080a7",
   "metadata": {
    "executionCancelledAt": null,
    "executionTime": 52,
    "lastExecutedAt": 1707394512085,
    "lastScheduledRunId": null,
    "lastSuccessfullyExecutedCode": "stats.chi2_contingency(pd.crosstab(df['year_cystectomy_q3'], df['dod']))"
   },
   "outputs": [
    {
     "data": {
      "text/plain": [
       "Chi2ContingencyResult(statistic=6.167759197324414, pvalue=0.045781298604536315, dof=2, expected_freq=array([[52.76470588, 16.23529412],\n",
       "       [38.23529412, 11.76470588],\n",
       "       [39.        , 12.        ]]))"
      ]
     },
     "execution_count": 22,
     "metadata": {},
     "output_type": "execute_result"
    }
   ],
   "source": [
    "stats.chi2_contingency(pd.crosstab(df['year_cystectomy_q3'], df['dod']))"
   ]
  },
  {
   "cell_type": "code",
   "execution_count": 23,
   "id": "381a0444-1354-4ad9-b092-c85391208381",
   "metadata": {
    "executionCancelledAt": null,
    "executionTime": 52,
    "lastExecutedAt": 1707394512137,
    "lastScheduledRunId": null,
    "lastSuccessfullyExecutedCode": "cramers_v(df['year_cystectomy_q3'], df['dod'])"
   },
   "outputs": [
    {
     "data": {
      "text/plain": [
       "0.16"
      ]
     },
     "execution_count": 23,
     "metadata": {},
     "output_type": "execute_result"
    }
   ],
   "source": [
    "cramers_v(df['year_cystectomy_q3'], df['dod'])"
   ]
  },
  {
   "cell_type": "markdown",
   "id": "2c250912-14b8-48fa-938f-72daea740299",
   "metadata": {},
   "source": [
    "## Death by other causes"
   ]
  },
  {
   "cell_type": "code",
   "execution_count": 24,
   "id": "65ef9537-6c94-4ee5-9427-e3999cc24fa8",
   "metadata": {
    "executionCancelledAt": null,
    "executionTime": 53,
    "lastExecutedAt": 1707394512190,
    "lastScheduledRunId": null,
    "lastSuccessfullyExecutedCode": "pd.crosstab(df['year_cystectomy_q3'], df['doc'], normalize='index').round(2)",
    "outputsMetadata": {
     "0": {
      "height": 148,
      "type": "dataFrame"
     }
    }
   },
   "outputs": [
    {
     "data": {
      "text/html": [
       "<div>\n",
       "<style scoped>\n",
       "    .dataframe tbody tr th:only-of-type {\n",
       "        vertical-align: middle;\n",
       "    }\n",
       "\n",
       "    .dataframe tbody tr th {\n",
       "        vertical-align: top;\n",
       "    }\n",
       "\n",
       "    .dataframe thead th {\n",
       "        text-align: right;\n",
       "    }\n",
       "</style>\n",
       "<table border=\"1\" class=\"dataframe\">\n",
       "  <thead>\n",
       "    <tr style=\"text-align: right;\">\n",
       "      <th>doc</th>\n",
       "      <th>No</th>\n",
       "      <th>Yes</th>\n",
       "    </tr>\n",
       "    <tr>\n",
       "      <th>year_cystectomy_q3</th>\n",
       "      <th></th>\n",
       "      <th></th>\n",
       "    </tr>\n",
       "  </thead>\n",
       "  <tbody>\n",
       "    <tr>\n",
       "      <th>Q1 Years</th>\n",
       "      <td>0.87</td>\n",
       "      <td>0.13</td>\n",
       "    </tr>\n",
       "    <tr>\n",
       "      <th>Q2 Years</th>\n",
       "      <td>0.94</td>\n",
       "      <td>0.06</td>\n",
       "    </tr>\n",
       "    <tr>\n",
       "      <th>Q3 Years</th>\n",
       "      <td>0.88</td>\n",
       "      <td>0.12</td>\n",
       "    </tr>\n",
       "  </tbody>\n",
       "</table>\n",
       "</div>"
      ],
      "text/plain": [
       "doc                   No   Yes\n",
       "year_cystectomy_q3            \n",
       "Q1 Years            0.87  0.13\n",
       "Q2 Years            0.94  0.06\n",
       "Q3 Years            0.88  0.12"
      ]
     },
     "execution_count": 24,
     "metadata": {},
     "output_type": "execute_result"
    }
   ],
   "source": [
    "pd.crosstab(df['year_cystectomy_q3'], df['doc'], normalize='index').round(2)"
   ]
  },
  {
   "cell_type": "code",
   "execution_count": 25,
   "id": "3ac0d688-9e50-4f2f-a8bf-ccac10bcb341",
   "metadata": {
    "executionCancelledAt": null,
    "executionTime": 51,
    "lastExecutedAt": 1707394512241,
    "lastScheduledRunId": null,
    "lastSuccessfullyExecutedCode": "stats.chi2_contingency(pd.crosstab(df['year_cystectomy_q3'], df['doc']))"
   },
   "outputs": [
    {
     "data": {
      "text/plain": [
       "Chi2ContingencyResult(statistic=1.5374298294036879, pvalue=0.4636084620821215, dof=2, expected_freq=array([[61.65088757,  7.34911243],\n",
       "       [43.78106509,  5.21893491],\n",
       "       [45.56804734,  5.43195266]]))"
      ]
     },
     "execution_count": 25,
     "metadata": {},
     "output_type": "execute_result"
    }
   ],
   "source": [
    "stats.chi2_contingency(pd.crosstab(df['year_cystectomy_q3'], df['doc']))"
   ]
  },
  {
   "cell_type": "code",
   "execution_count": 26,
   "id": "41ee0d53-a9fc-48bb-bf05-8aceb743df98",
   "metadata": {
    "executionCancelledAt": null,
    "executionTime": 48,
    "lastExecutedAt": 1707394512289,
    "lastScheduledRunId": null,
    "lastSuccessfullyExecutedCode": "cramers_v(df['year_cystectomy_q3'], df['doc'])"
   },
   "outputs": [
    {
     "data": {
      "text/plain": [
       "0.0"
      ]
     },
     "execution_count": 26,
     "metadata": {},
     "output_type": "execute_result"
    }
   ],
   "source": [
    "cramers_v(df['year_cystectomy_q3'], df['doc'])"
   ]
  },
  {
   "cell_type": "markdown",
   "id": "d1273fe9-2bc1-4032-ab96-d87f403e0e7b",
   "metadata": {},
   "source": [
    "## Disease-related event"
   ]
  },
  {
   "cell_type": "code",
   "execution_count": 27,
   "id": "4450bda0-36cc-4a4b-9022-97fd89205e58",
   "metadata": {
    "executionCancelledAt": null,
    "executionTime": 52,
    "lastExecutedAt": 1707394512341,
    "lastScheduledRunId": null,
    "lastSuccessfullyExecutedCode": "pd.crosstab(df['year_cystectomy_q3'], df['dre'], normalize='index').round(2)",
    "outputsMetadata": {
     "0": {
      "height": 148,
      "type": "dataFrame"
     }
    }
   },
   "outputs": [
    {
     "data": {
      "text/html": [
       "<div>\n",
       "<style scoped>\n",
       "    .dataframe tbody tr th:only-of-type {\n",
       "        vertical-align: middle;\n",
       "    }\n",
       "\n",
       "    .dataframe tbody tr th {\n",
       "        vertical-align: top;\n",
       "    }\n",
       "\n",
       "    .dataframe thead th {\n",
       "        text-align: right;\n",
       "    }\n",
       "</style>\n",
       "<table border=\"1\" class=\"dataframe\">\n",
       "  <thead>\n",
       "    <tr style=\"text-align: right;\">\n",
       "      <th>dre</th>\n",
       "      <th>No</th>\n",
       "      <th>Yes</th>\n",
       "    </tr>\n",
       "    <tr>\n",
       "      <th>year_cystectomy_q3</th>\n",
       "      <th></th>\n",
       "      <th></th>\n",
       "    </tr>\n",
       "  </thead>\n",
       "  <tbody>\n",
       "    <tr>\n",
       "      <th>Q1 Years</th>\n",
       "      <td>0.59</td>\n",
       "      <td>0.41</td>\n",
       "    </tr>\n",
       "    <tr>\n",
       "      <th>Q2 Years</th>\n",
       "      <td>0.52</td>\n",
       "      <td>0.48</td>\n",
       "    </tr>\n",
       "    <tr>\n",
       "      <th>Q3 Years</th>\n",
       "      <td>0.67</td>\n",
       "      <td>0.33</td>\n",
       "    </tr>\n",
       "  </tbody>\n",
       "</table>\n",
       "</div>"
      ],
      "text/plain": [
       "dre                   No   Yes\n",
       "year_cystectomy_q3            \n",
       "Q1 Years            0.59  0.41\n",
       "Q2 Years            0.52  0.48\n",
       "Q3 Years            0.67  0.33"
      ]
     },
     "execution_count": 27,
     "metadata": {},
     "output_type": "execute_result"
    }
   ],
   "source": [
    "pd.crosstab(df['year_cystectomy_q3'], df['dre'], normalize='index').round(2)"
   ]
  },
  {
   "cell_type": "code",
   "execution_count": 28,
   "id": "2a0b1086-63a3-45dc-930a-fa87cb98519d",
   "metadata": {
    "executionCancelledAt": null,
    "executionTime": 60,
    "lastExecutedAt": 1707394512401,
    "lastScheduledRunId": null,
    "lastSuccessfullyExecutedCode": "stats.chi2_contingency(pd.crosstab(df['year_cystectomy_q3'], df['dre']))"
   },
   "outputs": [
    {
     "data": {
      "text/plain": [
       "Chi2ContingencyResult(statistic=2.32032332253956, pvalue=0.31343550640470585, dof=2, expected_freq=array([[41.2716763 , 28.7283237 ],\n",
       "       [30.65895954, 21.34104046],\n",
       "       [30.06936416, 20.93063584]]))"
      ]
     },
     "execution_count": 28,
     "metadata": {},
     "output_type": "execute_result"
    }
   ],
   "source": [
    "stats.chi2_contingency(pd.crosstab(df['year_cystectomy_q3'], df['dre']))"
   ]
  },
  {
   "cell_type": "code",
   "execution_count": 29,
   "id": "958f5262-e5be-46e4-8a25-61900c190a2b",
   "metadata": {
    "executionCancelledAt": null,
    "executionTime": 52,
    "lastExecutedAt": 1707394512453,
    "lastScheduledRunId": null,
    "lastSuccessfullyExecutedCode": "cramers_v(df['year_cystectomy_q3'], df['dre'])"
   },
   "outputs": [
    {
     "data": {
      "text/plain": [
       "0.04"
      ]
     },
     "execution_count": 29,
     "metadata": {},
     "output_type": "execute_result"
    }
   ],
   "source": [
    "cramers_v(df['year_cystectomy_q3'], df['dre'])"
   ]
  },
  {
   "cell_type": "markdown",
   "id": "119230a5-d4a0-49af-97b8-97965e2b9dfb",
   "metadata": {},
   "source": [
    "# Analysis using quartiles"
   ]
  },
  {
   "cell_type": "code",
   "execution_count": 30,
   "id": "da8d56e2-7885-41d9-b242-2fc0b3d151ae",
   "metadata": {
    "executionCancelledAt": null,
    "executionTime": 48,
    "lastExecutedAt": 1707394512501,
    "lastScheduledRunId": null,
    "lastSuccessfullyExecutedCode": "df['year_cystectomy_q4'] = pd.qcut(df['year_cystectomy'], q=4, labels=['Q1 Years', 'Q2 Years', 'Q3 Years', 'Q4 Years'])\ndf['year_cystectomy_q4'].value_counts(sort=False)"
   },
   "outputs": [
    {
     "data": {
      "text/plain": [
       "year_cystectomy_q4\n",
       "Q1 Years    52\n",
       "Q2 Years    45\n",
       "Q3 Years    34\n",
       "Q4 Years    42\n",
       "Name: count, dtype: int64"
      ]
     },
     "execution_count": 30,
     "metadata": {},
     "output_type": "execute_result"
    }
   ],
   "source": [
    "df['year_cystectomy_q4'] = pd.qcut(df['year_cystectomy'], q=4, labels=['Q1 Years', 'Q2 Years', 'Q3 Years', 'Q4 Years'])\n",
    "df['year_cystectomy_q4'].value_counts(sort=False)"
   ]
  },
  {
   "cell_type": "markdown",
   "id": "bbd1d3d4-c356-48bb-af20-505ef48c4205",
   "metadata": {},
   "source": [
    "## Tumor recurrence"
   ]
  },
  {
   "cell_type": "code",
   "execution_count": 31,
   "id": "6ef84d03-b558-4053-9e14-37128e0a5254",
   "metadata": {
    "executionCancelledAt": null,
    "executionTime": 52,
    "lastExecutedAt": 1707394512553,
    "lastScheduledRunId": null,
    "lastSuccessfullyExecutedCode": "pd.crosstab(df['year_cystectomy_q4'], df['recurrence'], normalize='index').round(2)",
    "outputsMetadata": {
     "0": {
      "height": 173,
      "type": "dataFrame"
     }
    }
   },
   "outputs": [
    {
     "data": {
      "text/html": [
       "<div>\n",
       "<style scoped>\n",
       "    .dataframe tbody tr th:only-of-type {\n",
       "        vertical-align: middle;\n",
       "    }\n",
       "\n",
       "    .dataframe tbody tr th {\n",
       "        vertical-align: top;\n",
       "    }\n",
       "\n",
       "    .dataframe thead th {\n",
       "        text-align: right;\n",
       "    }\n",
       "</style>\n",
       "<table border=\"1\" class=\"dataframe\">\n",
       "  <thead>\n",
       "    <tr style=\"text-align: right;\">\n",
       "      <th>recurrence</th>\n",
       "      <th>No</th>\n",
       "      <th>Yes</th>\n",
       "    </tr>\n",
       "    <tr>\n",
       "      <th>year_cystectomy_q4</th>\n",
       "      <th></th>\n",
       "      <th></th>\n",
       "    </tr>\n",
       "  </thead>\n",
       "  <tbody>\n",
       "    <tr>\n",
       "      <th>Q1 Years</th>\n",
       "      <td>0.71</td>\n",
       "      <td>0.29</td>\n",
       "    </tr>\n",
       "    <tr>\n",
       "      <th>Q2 Years</th>\n",
       "      <td>0.64</td>\n",
       "      <td>0.36</td>\n",
       "    </tr>\n",
       "    <tr>\n",
       "      <th>Q3 Years</th>\n",
       "      <td>0.59</td>\n",
       "      <td>0.41</td>\n",
       "    </tr>\n",
       "    <tr>\n",
       "      <th>Q4 Years</th>\n",
       "      <td>0.74</td>\n",
       "      <td>0.26</td>\n",
       "    </tr>\n",
       "  </tbody>\n",
       "</table>\n",
       "</div>"
      ],
      "text/plain": [
       "recurrence            No   Yes\n",
       "year_cystectomy_q4            \n",
       "Q1 Years            0.71  0.29\n",
       "Q2 Years            0.64  0.36\n",
       "Q3 Years            0.59  0.41\n",
       "Q4 Years            0.74  0.26"
      ]
     },
     "execution_count": 31,
     "metadata": {},
     "output_type": "execute_result"
    }
   ],
   "source": [
    "pd.crosstab(df['year_cystectomy_q4'], df['recurrence'], normalize='index').round(2)"
   ]
  },
  {
   "cell_type": "code",
   "execution_count": 32,
   "id": "b3e951f0-667d-4664-a44c-361f82d9c361",
   "metadata": {
    "executionCancelledAt": null,
    "executionTime": 48,
    "lastExecutedAt": 1707394512601,
    "lastScheduledRunId": null,
    "lastSuccessfullyExecutedCode": "stats.chi2_contingency(pd.crosstab(df['year_cystectomy_q4'], df['recurrence']))"
   },
   "outputs": [
    {
     "data": {
      "text/plain": [
       "Chi2ContingencyResult(statistic=2.5421701475381573, pvalue=0.46771817560411455, dof=3, expected_freq=array([[35.06976744, 16.93023256],\n",
       "       [29.6744186 , 14.3255814 ],\n",
       "       [22.93023256, 11.06976744],\n",
       "       [28.3255814 , 13.6744186 ]]))"
      ]
     },
     "execution_count": 32,
     "metadata": {},
     "output_type": "execute_result"
    }
   ],
   "source": [
    "stats.chi2_contingency(pd.crosstab(df['year_cystectomy_q4'], df['recurrence']))"
   ]
  },
  {
   "cell_type": "code",
   "execution_count": 33,
   "id": "bc50687f-3dda-411e-8f7d-e7f56642d14a",
   "metadata": {
    "executionCancelledAt": null,
    "executionTime": 55,
    "lastExecutedAt": 1707394512657,
    "lastScheduledRunId": null,
    "lastSuccessfullyExecutedCode": "cramers_v(df['year_cystectomy_q4'], df['recurrence'])"
   },
   "outputs": [
    {
     "data": {
      "text/plain": [
       "0.0"
      ]
     },
     "execution_count": 33,
     "metadata": {},
     "output_type": "execute_result"
    }
   ],
   "source": [
    "cramers_v(df['year_cystectomy_q4'], df['recurrence'])"
   ]
  },
  {
   "cell_type": "markdown",
   "id": "18827596-b9fe-4245-9b32-f2d916ec5dfe",
   "metadata": {},
   "source": [
    "## Death by cancer"
   ]
  },
  {
   "cell_type": "code",
   "execution_count": 34,
   "id": "a060f74d-efd6-4d10-8147-ee258be0c4c6",
   "metadata": {
    "executionCancelledAt": null,
    "executionTime": 53,
    "lastExecutedAt": 1707394512710,
    "lastScheduledRunId": null,
    "lastSuccessfullyExecutedCode": "pd.crosstab(df['year_cystectomy_q4'], df['dod'], normalize='index').round(2)",
    "outputsMetadata": {
     "0": {
      "height": 173,
      "type": "dataFrame"
     }
    }
   },
   "outputs": [
    {
     "data": {
      "text/html": [
       "<div>\n",
       "<style scoped>\n",
       "    .dataframe tbody tr th:only-of-type {\n",
       "        vertical-align: middle;\n",
       "    }\n",
       "\n",
       "    .dataframe tbody tr th {\n",
       "        vertical-align: top;\n",
       "    }\n",
       "\n",
       "    .dataframe thead th {\n",
       "        text-align: right;\n",
       "    }\n",
       "</style>\n",
       "<table border=\"1\" class=\"dataframe\">\n",
       "  <thead>\n",
       "    <tr style=\"text-align: right;\">\n",
       "      <th>dod</th>\n",
       "      <th>No</th>\n",
       "      <th>Yes</th>\n",
       "    </tr>\n",
       "    <tr>\n",
       "      <th>year_cystectomy_q4</th>\n",
       "      <th></th>\n",
       "      <th></th>\n",
       "    </tr>\n",
       "  </thead>\n",
       "  <tbody>\n",
       "    <tr>\n",
       "      <th>Q1 Years</th>\n",
       "      <td>0.75</td>\n",
       "      <td>0.25</td>\n",
       "    </tr>\n",
       "    <tr>\n",
       "      <th>Q2 Years</th>\n",
       "      <td>0.74</td>\n",
       "      <td>0.26</td>\n",
       "    </tr>\n",
       "    <tr>\n",
       "      <th>Q3 Years</th>\n",
       "      <td>0.65</td>\n",
       "      <td>0.35</td>\n",
       "    </tr>\n",
       "    <tr>\n",
       "      <th>Q4 Years</th>\n",
       "      <td>0.90</td>\n",
       "      <td>0.10</td>\n",
       "    </tr>\n",
       "  </tbody>\n",
       "</table>\n",
       "</div>"
      ],
      "text/plain": [
       "dod                   No   Yes\n",
       "year_cystectomy_q4            \n",
       "Q1 Years            0.75  0.25\n",
       "Q2 Years            0.74  0.26\n",
       "Q3 Years            0.65  0.35\n",
       "Q4 Years            0.90  0.10"
      ]
     },
     "execution_count": 34,
     "metadata": {},
     "output_type": "execute_result"
    }
   ],
   "source": [
    "pd.crosstab(df['year_cystectomy_q4'], df['dod'], normalize='index').round(2)"
   ]
  },
  {
   "cell_type": "code",
   "execution_count": 35,
   "id": "01c55504-9a4a-4478-838a-5a8a22139ef3",
   "metadata": {
    "executionCancelledAt": null,
    "executionTime": 55,
    "lastExecutedAt": 1707394512765,
    "lastScheduledRunId": null,
    "lastSuccessfullyExecutedCode": "stats.chi2_contingency(pd.crosstab(df['year_cystectomy_q4'], df['dod']))"
   },
   "outputs": [
    {
     "data": {
      "text/plain": [
       "Chi2ContingencyResult(statistic=7.421932234432235, pvalue=0.05959864296916729, dof=3, expected_freq=array([[39.76470588, 12.23529412],\n",
       "       [32.11764706,  9.88235294],\n",
       "       [26.        ,  8.        ],\n",
       "       [32.11764706,  9.88235294]]))"
      ]
     },
     "execution_count": 35,
     "metadata": {},
     "output_type": "execute_result"
    }
   ],
   "source": [
    "stats.chi2_contingency(pd.crosstab(df['year_cystectomy_q4'], df['dod']))"
   ]
  },
  {
   "cell_type": "code",
   "execution_count": 36,
   "id": "bee0783c-97d5-48be-9bdb-933f766ab61b",
   "metadata": {
    "executionCancelledAt": null,
    "executionTime": 51,
    "lastExecutedAt": 1707394512817,
    "lastScheduledRunId": null,
    "lastSuccessfullyExecutedCode": "cramers_v(df['year_cystectomy_q4'], df['dod'])"
   },
   "outputs": [
    {
     "data": {
      "text/plain": [
       "0.16"
      ]
     },
     "execution_count": 36,
     "metadata": {},
     "output_type": "execute_result"
    }
   ],
   "source": [
    "cramers_v(df['year_cystectomy_q4'], df['dod'])"
   ]
  },
  {
   "cell_type": "markdown",
   "id": "2687a1a9-d9fc-46a4-9af5-d2efe3dd552e",
   "metadata": {},
   "source": [
    "## Death by other causes"
   ]
  },
  {
   "cell_type": "code",
   "execution_count": 37,
   "id": "39b78f86-1fe2-48f2-bdd4-04d24d2406d9",
   "metadata": {
    "executionCancelledAt": null,
    "executionTime": 47,
    "lastExecutedAt": 1707394512865,
    "lastScheduledRunId": null,
    "lastSuccessfullyExecutedCode": "pd.crosstab(df['year_cystectomy_q4'], df['doc'], normalize='index').round(2)",
    "outputsMetadata": {
     "0": {
      "height": 173,
      "type": "dataFrame"
     }
    }
   },
   "outputs": [
    {
     "data": {
      "text/html": [
       "<div>\n",
       "<style scoped>\n",
       "    .dataframe tbody tr th:only-of-type {\n",
       "        vertical-align: middle;\n",
       "    }\n",
       "\n",
       "    .dataframe tbody tr th {\n",
       "        vertical-align: top;\n",
       "    }\n",
       "\n",
       "    .dataframe thead th {\n",
       "        text-align: right;\n",
       "    }\n",
       "</style>\n",
       "<table border=\"1\" class=\"dataframe\">\n",
       "  <thead>\n",
       "    <tr style=\"text-align: right;\">\n",
       "      <th>doc</th>\n",
       "      <th>No</th>\n",
       "      <th>Yes</th>\n",
       "    </tr>\n",
       "    <tr>\n",
       "      <th>year_cystectomy_q4</th>\n",
       "      <th></th>\n",
       "      <th></th>\n",
       "    </tr>\n",
       "  </thead>\n",
       "  <tbody>\n",
       "    <tr>\n",
       "      <th>Q1 Years</th>\n",
       "      <td>0.85</td>\n",
       "      <td>0.15</td>\n",
       "    </tr>\n",
       "    <tr>\n",
       "      <th>Q2 Years</th>\n",
       "      <td>0.93</td>\n",
       "      <td>0.07</td>\n",
       "    </tr>\n",
       "    <tr>\n",
       "      <th>Q3 Years</th>\n",
       "      <td>0.94</td>\n",
       "      <td>0.06</td>\n",
       "    </tr>\n",
       "    <tr>\n",
       "      <th>Q4 Years</th>\n",
       "      <td>0.88</td>\n",
       "      <td>0.12</td>\n",
       "    </tr>\n",
       "  </tbody>\n",
       "</table>\n",
       "</div>"
      ],
      "text/plain": [
       "doc                   No   Yes\n",
       "year_cystectomy_q4            \n",
       "Q1 Years            0.85  0.15\n",
       "Q2 Years            0.93  0.07\n",
       "Q3 Years            0.94  0.06\n",
       "Q4 Years            0.88  0.12"
      ]
     },
     "execution_count": 37,
     "metadata": {},
     "output_type": "execute_result"
    }
   ],
   "source": [
    "pd.crosstab(df['year_cystectomy_q4'], df['doc'], normalize='index').round(2)"
   ]
  },
  {
   "cell_type": "code",
   "execution_count": 38,
   "id": "64157801-f20b-482d-b623-862eefe49774",
   "metadata": {
    "executionCancelledAt": null,
    "executionTime": 56,
    "lastExecutedAt": 1707394512921,
    "lastScheduledRunId": null,
    "lastSuccessfullyExecutedCode": "stats.chi2_contingency(pd.crosstab(df['year_cystectomy_q4'], df['doc']))"
   },
   "outputs": [
    {
     "data": {
      "text/plain": [
       "Chi2ContingencyResult(statistic=2.585062799864647, pvalue=0.46011425078830304, dof=3, expected_freq=array([[46.46153846,  5.53846154],\n",
       "       [36.63313609,  4.36686391],\n",
       "       [30.37869822,  3.62130178],\n",
       "       [37.52662722,  4.47337278]]))"
      ]
     },
     "execution_count": 38,
     "metadata": {},
     "output_type": "execute_result"
    }
   ],
   "source": [
    "stats.chi2_contingency(pd.crosstab(df['year_cystectomy_q4'], df['doc']))"
   ]
  },
  {
   "cell_type": "code",
   "execution_count": 39,
   "id": "b6b0b260-5612-4c69-8436-2d48e186968a",
   "metadata": {
    "executionCancelledAt": null,
    "executionTime": 48,
    "lastExecutedAt": 1707394512969,
    "lastScheduledRunId": null,
    "lastSuccessfullyExecutedCode": "cramers_v(df['year_cystectomy_q4'], df['doc'])"
   },
   "outputs": [
    {
     "data": {
      "text/plain": [
       "0.0"
      ]
     },
     "execution_count": 39,
     "metadata": {},
     "output_type": "execute_result"
    }
   ],
   "source": [
    "cramers_v(df['year_cystectomy_q4'], df['doc'])"
   ]
  },
  {
   "cell_type": "markdown",
   "id": "eb0ca9e6-e80b-4e61-9ae8-fad8f15e4293",
   "metadata": {},
   "source": [
    "## Disease-related event"
   ]
  },
  {
   "cell_type": "code",
   "execution_count": 40,
   "id": "a3e7ad0a-4c9d-4fd4-9289-a8fe2b75d8ad",
   "metadata": {
    "executionCancelledAt": null,
    "executionTime": 56,
    "lastExecutedAt": 1707394513025,
    "lastScheduledRunId": null,
    "lastSuccessfullyExecutedCode": "pd.crosstab(df['year_cystectomy_q4'], df['dre'], normalize='index').round(2)",
    "outputsMetadata": {
     "0": {
      "height": 173,
      "type": "dataFrame"
     }
    }
   },
   "outputs": [
    {
     "data": {
      "text/html": [
       "<div>\n",
       "<style scoped>\n",
       "    .dataframe tbody tr th:only-of-type {\n",
       "        vertical-align: middle;\n",
       "    }\n",
       "\n",
       "    .dataframe tbody tr th {\n",
       "        vertical-align: top;\n",
       "    }\n",
       "\n",
       "    .dataframe thead th {\n",
       "        text-align: right;\n",
       "    }\n",
       "</style>\n",
       "<table border=\"1\" class=\"dataframe\">\n",
       "  <thead>\n",
       "    <tr style=\"text-align: right;\">\n",
       "      <th>dre</th>\n",
       "      <th>No</th>\n",
       "      <th>Yes</th>\n",
       "    </tr>\n",
       "    <tr>\n",
       "      <th>year_cystectomy_q4</th>\n",
       "      <th></th>\n",
       "      <th></th>\n",
       "    </tr>\n",
       "  </thead>\n",
       "  <tbody>\n",
       "    <tr>\n",
       "      <th>Q1 Years</th>\n",
       "      <td>0.60</td>\n",
       "      <td>0.40</td>\n",
       "    </tr>\n",
       "    <tr>\n",
       "      <th>Q2 Years</th>\n",
       "      <td>0.53</td>\n",
       "      <td>0.47</td>\n",
       "    </tr>\n",
       "    <tr>\n",
       "      <th>Q3 Years</th>\n",
       "      <td>0.56</td>\n",
       "      <td>0.44</td>\n",
       "    </tr>\n",
       "    <tr>\n",
       "      <th>Q4 Years</th>\n",
       "      <td>0.67</td>\n",
       "      <td>0.33</td>\n",
       "    </tr>\n",
       "  </tbody>\n",
       "</table>\n",
       "</div>"
      ],
      "text/plain": [
       "dre                   No   Yes\n",
       "year_cystectomy_q4            \n",
       "Q1 Years            0.60  0.40\n",
       "Q2 Years            0.53  0.47\n",
       "Q3 Years            0.56  0.44\n",
       "Q4 Years            0.67  0.33"
      ]
     },
     "execution_count": 40,
     "metadata": {},
     "output_type": "execute_result"
    }
   ],
   "source": [
    "pd.crosstab(df['year_cystectomy_q4'], df['dre'], normalize='index').round(2)"
   ]
  },
  {
   "cell_type": "code",
   "execution_count": 41,
   "id": "398d4b55-7ec8-4226-b019-979a59d91160",
   "metadata": {
    "executionCancelledAt": null,
    "executionTime": 73,
    "lastExecutedAt": 1707394513098,
    "lastScheduledRunId": null,
    "lastSuccessfullyExecutedCode": "stats.chi2_contingency(pd.crosstab(df['year_cystectomy_q4'], df['dre']))"
   },
   "outputs": [
    {
     "data": {
      "text/plain": [
       "Chi2ContingencyResult(statistic=1.761995001089255, pvalue=0.6232399597121985, dof=3, expected_freq=array([[30.65895954, 21.34104046],\n",
       "       [26.53179191, 18.46820809],\n",
       "       [20.04624277, 13.95375723],\n",
       "       [24.76300578, 17.23699422]]))"
      ]
     },
     "execution_count": 41,
     "metadata": {},
     "output_type": "execute_result"
    }
   ],
   "source": [
    "stats.chi2_contingency(pd.crosstab(df['year_cystectomy_q4'], df['dre']))"
   ]
  },
  {
   "cell_type": "code",
   "execution_count": 42,
   "id": "a6ab6377-ef7a-4b54-92ff-6d433f547bdb",
   "metadata": {
    "executionCancelledAt": null,
    "executionTime": 77,
    "lastExecutedAt": 1707394513175,
    "lastScheduledRunId": null,
    "lastSuccessfullyExecutedCode": "cramers_v(df['year_cystectomy_q4'], df['dre'])"
   },
   "outputs": [
    {
     "data": {
      "text/plain": [
       "0.0"
      ]
     },
     "execution_count": 42,
     "metadata": {},
     "output_type": "execute_result"
    }
   ],
   "source": [
    "cramers_v(df['year_cystectomy_q4'], df['dre'])"
   ]
  }
 ],
 "metadata": {
  "editor": "DataCamp Workspace",
  "kernelspec": {
   "display_name": "base",
   "language": "python",
   "name": "python3"
  },
  "language_info": {
   "codemirror_mode": {
    "name": "ipython",
    "version": 3
   },
   "file_extension": ".py",
   "mimetype": "text/x-python",
   "name": "python",
   "nbconvert_exporter": "python",
   "pygments_lexer": "ipython3",
   "version": "3.12.7"
  }
 },
 "nbformat": 4,
 "nbformat_minor": 5
}
