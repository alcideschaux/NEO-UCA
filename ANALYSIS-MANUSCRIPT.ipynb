{
 "cells": [
  {
   "cell_type": "code",
   "execution_count": 1,
   "metadata": {
    "vscode": {
     "languageId": "markdown"
    }
   },
   "outputs": [
    {
     "name": "stdout",
     "output_type": "stream",
     "text": [
      "<class 'pandas.core.frame.DataFrame'>\n",
      "RangeIndex: 174 entries, 0 to 173\n",
      "Data columns (total 19 columns):\n",
      " #   Column             Non-Null Count  Dtype  \n",
      "---  ------             --------------  -----  \n",
      " 0   id                 174 non-null    object \n",
      " 1   age                174 non-null    int64  \n",
      " 2   variant_histology  174 non-null    object \n",
      " 3   ypT_stage          174 non-null    object \n",
      " 4   ypN_stage          174 non-null    object \n",
      " 5   recurrence         173 non-null    object \n",
      " 6   fu_recurrence      174 non-null    float64\n",
      " 7   dod                171 non-null    object \n",
      " 8   doc                170 non-null    object \n",
      " 9   fu_censor          174 non-null    float64\n",
      " 10  sex                174 non-null    object \n",
      " 11  year_cystectomy    173 non-null    float64\n",
      " 12  ypT_group          174 non-null    object \n",
      " 13  ypN_group          174 non-null    object \n",
      " 14  dre                174 non-null    object \n",
      " 15  ypT_group1         174 non-null    object \n",
      " 16  ypT_group2         174 non-null    object \n",
      " 17  ypN_group1         174 non-null    object \n",
      " 18  ypN_group2         174 non-null    object \n",
      "dtypes: float64(3), int64(1), object(15)\n",
      "memory usage: 26.0+ KB\n"
     ]
    }
   ],
   "source": [
    "# Libraries\n",
    "import pandas as pd\n",
    "import numpy as np\n",
    "import scipy.stats as stats\n",
    "import statsmodels.formula.api as smf\n",
    "from statsmodels.stats.multitest import multipletests\n",
    "from lifelines import KaplanMeierFitter\n",
    "from lifelines.statistics import logrank_test\n",
    "from lifelines import CoxPHFitter\n",
    "\n",
    "# Load the dataset\n",
    "data = pd.read_csv('DATA.csv')\n",
    "\n",
    "data.info()"
   ]
  },
  {
   "cell_type": "code",
   "execution_count": 2,
   "metadata": {
    "vscode": {
     "languageId": "markdown"
    }
   },
   "outputs": [
    {
     "name": "stdout",
     "output_type": "stream",
     "text": [
      "<class 'pandas.core.frame.DataFrame'>\n",
      "RangeIndex: 174 entries, 0 to 173\n",
      "Data columns (total 19 columns):\n",
      " #   Column             Non-Null Count  Dtype   \n",
      "---  ------             --------------  -----   \n",
      " 0   id                 174 non-null    object  \n",
      " 1   age                174 non-null    float64 \n",
      " 2   variant_histology  174 non-null    category\n",
      " 3   ypT_stage          174 non-null    object  \n",
      " 4   ypN_stage          174 non-null    object  \n",
      " 5   recurrence         174 non-null    int64   \n",
      " 6   fu_recurrence      174 non-null    float64 \n",
      " 7   dod                174 non-null    int64   \n",
      " 8   doc                174 non-null    int64   \n",
      " 9   fu_censor          174 non-null    float64 \n",
      " 10  sex                174 non-null    category\n",
      " 11  year_cystectomy    173 non-null    float64 \n",
      " 12  ypT_group          174 non-null    category\n",
      " 13  ypN_group          174 non-null    category\n",
      " 14  dre                174 non-null    int64   \n",
      " 15  ypT_group1         174 non-null    object  \n",
      " 16  ypT_group2         174 non-null    object  \n",
      " 17  ypN_group1         174 non-null    object  \n",
      " 18  ypN_group2         174 non-null    object  \n",
      "dtypes: category(4), float64(4), int64(4), object(7)\n",
      "memory usage: 21.7+ KB\n"
     ]
    }
   ],
   "source": [
    "# Convert variables to appropriate types\n",
    "data['sex'] = data['sex'].astype('category')\n",
    "data['variant_histology'] = data['variant_histology'].astype('category')\n",
    "data['ypT_group'] = data['ypT_group'].astype('category')\n",
    "data['ypN_group'] = data['ypN_group'].astype('category')\n",
    "\n",
    "data['age'] = data['age'].astype('float')\n",
    "\n",
    "binary_vars = ['recurrence', 'doc', 'dod', 'dre']\n",
    "for var in binary_vars:\n",
    "    data[var] = (data[var] == 'Yes').astype(int)\n",
    "\n",
    "data.info()"
   ]
  },
  {
   "cell_type": "markdown",
   "metadata": {},
   "source": [
    "# Patient Demographics and Pre-Operative Characteristics"
   ]
  },
  {
   "cell_type": "code",
   "execution_count": 3,
   "metadata": {
    "vscode": {
     "languageId": "markdown"
    }
   },
   "outputs": [
    {
     "name": "stdout",
     "output_type": "stream",
     "text": [
      "Average age: 66.5 years (SD: 9.8, range: 24.0-86.0 years)\n",
      "Percentage of male patients: 71%\n",
      "Percentage with variant histology: 36%\n"
     ]
    }
   ],
   "source": [
    "mean_age = data['age'].mean()\n",
    "std_age = data['age'].std()\n",
    "min_age = data['age'].min()\n",
    "max_age = data['age'].max()\n",
    "male_percent = data['sex'].value_counts(normalize=True).get('Male', 0) * 100\n",
    "variant_histology_percent = data['variant_histology'].value_counts(normalize=True).get('Yes', 0) * 100\n",
    "\n",
    "print(f\"Average age: {mean_age:.1f} years (SD: {std_age:.1f}, range: {min_age}-{max_age} years)\")\n",
    "print(f\"Percentage of male patients: {male_percent:.0f}%\")\n",
    "print(f\"Percentage with variant histology: {variant_histology_percent:.0f}%\")"
   ]
  },
  {
   "cell_type": "markdown",
   "metadata": {},
   "source": [
    "# Pathological Response and Patient Stratification"
   ]
  },
  {
   "cell_type": "code",
   "execution_count": 4,
   "metadata": {
    "vscode": {
     "languageId": "markdown"
    }
   },
   "outputs": [
    {
     "name": "stdout",
     "output_type": "stream",
     "text": [
      "STUDY GROUP: Number of patients with isolated lymph node metastases (ypT0/Tis/Ta): 35\n",
      "CONTROL GROUP: Number of patients with persistent muscle-invasive disease (ypT2/3): 139\n"
     ]
    }
   ],
   "source": [
    "study_group_count = data['ypT_group'].value_counts().get('pT0-pTa-pTis', 0)\n",
    "control_group_count = data['ypT_group'].value_counts().get('pT2-pT3', 0)\n",
    "\n",
    "print(f\"STUDY GROUP: Number of patients with isolated lymph node metastases (ypT0/Tis/Ta): {study_group_count}\")\n",
    "print(f\"CONTROL GROUP: Number of patients with persistent muscle-invasive disease (ypT2/3): {control_group_count}\")"
   ]
  },
  {
   "cell_type": "markdown",
   "metadata": {},
   "source": [
    "# Impact of Pathological Response on Recurrence"
   ]
  },
  {
   "cell_type": "code",
   "execution_count": 5,
   "metadata": {
    "vscode": {
     "languageId": "markdown"
    }
   },
   "outputs": [
    {
     "name": "stdout",
     "output_type": "stream",
     "text": [
      "Overall recurrence rate: 33%\n"
     ]
    }
   ],
   "source": [
    "recurrence_rate = data['recurrence'].value_counts(normalize=True).get(1, 0) * 100\n",
    "print(f\"Overall recurrence rate: {recurrence_rate:.0f}%\")"
   ]
  },
  {
   "cell_type": "code",
   "execution_count": 6,
   "metadata": {
    "vscode": {
     "languageId": "markdown"
    }
   },
   "outputs": [
    {
     "name": "stdout",
     "output_type": "stream",
     "text": [
      "Unadjusted OR for recurrence (ypT2/3 vs ypT0/Ta/Tis): 0.43, 95% CI: [0.20, 0.91], p=0.028\n"
     ]
    }
   ],
   "source": [
    "# Unadjusted analysis\n",
    "model_recurrence_unadj = smf.logit(\"recurrence ~ ypT_group\", data=data).fit(disp=False)\n",
    "or_recurrence_unadj = np.exp(model_recurrence_unadj.params['ypT_group[T.pT2-pT3]'])\n",
    "ci_recurrence_unadj = np.exp(model_recurrence_unadj.conf_int().loc['ypT_group[T.pT2-pT3]'])\n",
    "pval_recurrence_unadj = model_recurrence_unadj.pvalues['ypT_group[T.pT2-pT3]']\n",
    "\n",
    "print(f\"Unadjusted OR for recurrence (ypT2/3 vs ypT0/Ta/Tis): {or_recurrence_unadj:.2f}, 95% CI: [{ci_recurrence_unadj[0]:.2f}, {ci_recurrence_unadj[1]:.2f}], p={pval_recurrence_unadj:.3f}\")"
   ]
  },
  {
   "cell_type": "code",
   "execution_count": 7,
   "metadata": {
    "vscode": {
     "languageId": "markdown"
    }
   },
   "outputs": [
    {
     "name": "stdout",
     "output_type": "stream",
     "text": [
      "Adjusted OR for recurrence (ypT2/3 vs ypT0/Ta/Tis): 0.43, 95% CI: [0.20, 0.95], p=0.036\n"
     ]
    }
   ],
   "source": [
    "# Adjusted analysis\n",
    "model_recurrence_adj = smf.logit(\"recurrence ~ ypT_group + age + sex + variant_histology\", data=data).fit(disp=False)\n",
    "or_recurrence_adj = np.exp(model_recurrence_adj.params['ypT_group[T.pT2-pT3]'])\n",
    "ci_recurrence_adj = np.exp(model_recurrence_adj.conf_int().loc['ypT_group[T.pT2-pT3]'])\n",
    "pval_recurrence_adj = model_recurrence_adj.pvalues['ypT_group[T.pT2-pT3]']\n",
    "\n",
    "print(f\"Adjusted OR for recurrence (ypT2/3 vs ypT0/Ta/Tis): {or_recurrence_adj:.2f}, 95% CI: [{ci_recurrence_adj[0]:.2f}, {ci_recurrence_adj[1]:.2f}], p={pval_recurrence_adj:.3f}\")"
   ]
  },
  {
   "cell_type": "markdown",
   "metadata": {},
   "source": [
    "# Influence of Pathological Response and Tumor Characteristics on Mortality"
   ]
  },
  {
   "cell_type": "code",
   "execution_count": 8,
   "metadata": {
    "vscode": {
     "languageId": "markdown"
    }
   },
   "outputs": [
    {
     "name": "stdout",
     "output_type": "stream",
     "text": [
      "Disease-specific mortality: 24%\n"
     ]
    }
   ],
   "source": [
    "# Analysis dod\n",
    "dod_rate = data['dod'].value_counts(normalize=True).get(1, 0) * 100\n",
    "print(f\"Disease-specific mortality: {dod_rate:.0f}%\")"
   ]
  },
  {
   "cell_type": "code",
   "execution_count": 9,
   "metadata": {
    "vscode": {
     "languageId": "markdown"
    }
   },
   "outputs": [
    {
     "name": "stdout",
     "output_type": "stream",
     "text": [
      "Unadjusted OR for disease-specific death (ypT2/3 vs ypT0/Ta/Tis): 0.72, 95% CI: [0.31, 1.65], p=0.436\n"
     ]
    }
   ],
   "source": [
    "# Unadjusted analysis dod\n",
    "model_dod_unadj = smf.logit(\"dod ~ ypT_group\", data=data).fit(disp=False)\n",
    "or_dod_unadj = np.exp(model_dod_unadj.params['ypT_group[T.pT2-pT3]'])\n",
    "ci_dod_unadj = np.exp(model_dod_unadj.conf_int().loc['ypT_group[T.pT2-pT3]'])\n",
    "pval_dod_unadj = model_dod_unadj.pvalues['ypT_group[T.pT2-pT3]']\n",
    "\n",
    "print(f\"Unadjusted OR for disease-specific death (ypT2/3 vs ypT0/Ta/Tis): {or_dod_unadj:.2f}, 95% CI: [{ci_dod_unadj[0]:.2f}, {ci_dod_unadj[1]:.2f}], p={pval_dod_unadj:.3f}\")"
   ]
  },
  {
   "cell_type": "code",
   "execution_count": 10,
   "metadata": {
    "vscode": {
     "languageId": "markdown"
    }
   },
   "outputs": [
    {
     "name": "stdout",
     "output_type": "stream",
     "text": [
      "Adjusted OR for disease-specific death (ypT2/3 vs ypT0/Ta/Tis): 0.70, 95% CI: [0.29, 1.64], p=0.407\n"
     ]
    }
   ],
   "source": [
    "# Adjusted analysis dod\n",
    "model_dod_adj = smf.logit(\"dod ~ ypT_group + age + sex + variant_histology\", data=data).fit(disp=False)\n",
    "or_dod_adj = np.exp(model_dod_adj.params['ypT_group[T.pT2-pT3]'])\n",
    "ci_dod_adj = np.exp(model_dod_adj.conf_int().loc['ypT_group[T.pT2-pT3]'])\n",
    "pval_dod_adj = model_dod_adj.pvalues['ypT_group[T.pT2-pT3]']\n",
    "print(f\"Adjusted OR for disease-specific death (ypT2/3 vs ypT0/Ta/Tis): {or_dod_adj:.2f}, 95% CI: [{ci_dod_adj[0]:.2f}, {ci_dod_adj[1]:.2f}], p={pval_dod_adj:.3f}\")"
   ]
  },
  {
   "cell_type": "code",
   "execution_count": 11,
   "metadata": {
    "vscode": {
     "languageId": "markdown"
    }
   },
   "outputs": [
    {
     "name": "stdout",
     "output_type": "stream",
     "text": [
      "Disease-related event rate: 41%\n"
     ]
    }
   ],
   "source": [
    "# Analysis dre\n",
    "dre_rate = data['dre'].value_counts(normalize=True).get(1, 0) * 100\n",
    "print(f\"Disease-related event rate: {dre_rate:.0f}%\")"
   ]
  },
  {
   "cell_type": "code",
   "execution_count": 12,
   "metadata": {
    "vscode": {
     "languageId": "markdown"
    }
   },
   "outputs": [
    {
     "name": "stdout",
     "output_type": "stream",
     "text": [
      "Unadjusted OR for a disease-related event (ypT2/3 vs ypT0/Ta/Tis): 0.45, 95% CI: [0.21, 0.95], p=0.037\n"
     ]
    }
   ],
   "source": [
    "# Unadjusted analysis dre\n",
    "model_dre_unadj = smf.logit(\"dre ~ ypT_group\", data=data).fit(disp=False)\n",
    "or_dre_unadj = np.exp(model_dre_unadj.params['ypT_group[T.pT2-pT3]'])\n",
    "ci_dre_unadj = np.exp(model_dre_unadj.conf_int().loc['ypT_group[T.pT2-pT3]'])\n",
    "pval_dre_unadj = model_dre_unadj.pvalues['ypT_group[T.pT2-pT3]']\n",
    "print(f\"Unadjusted OR for a disease-related event (ypT2/3 vs ypT0/Ta/Tis): {or_dre_unadj:.2f}, 95% CI: [{ci_dre_unadj[0]:.2f}, {ci_dre_unadj[1]:.2f}], p={pval_dre_unadj:.3f}\")"
   ]
  },
  {
   "cell_type": "code",
   "execution_count": 13,
   "metadata": {
    "vscode": {
     "languageId": "markdown"
    }
   },
   "outputs": [
    {
     "name": "stdout",
     "output_type": "stream",
     "text": [
      "Adjusted OR for a disease-related event (ypT2/3 vs ypT0/Ta/Tis): 0.46, 95% CI: [0.21, 0.99], p=0.048\n"
     ]
    }
   ],
   "source": [
    "# Adjusted analysis dre\n",
    "model_dre_adj = smf.logit(\"dre ~ ypT_group + age + sex + variant_histology\", data=data).fit(disp=False)\n",
    "or_dre_adj = np.exp(model_dre_adj.params['ypT_group[T.pT2-pT3]'])\n",
    "ci_dre_adj = np.exp(model_dre_adj.conf_int().loc['ypT_group[T.pT2-pT3]'])\n",
    "pval_dre_adj = model_dre_adj.pvalues['ypT_group[T.pT2-pT3]']\n",
    "print(f\"Adjusted OR for a disease-related event (ypT2/3 vs ypT0/Ta/Tis): {or_dre_adj:.2f}, 95% CI: [{ci_dre_adj[0]:.2f}, {ci_dre_adj[1]:.2f}], p={pval_dre_adj:.3f}\")"
   ]
  },
  {
   "cell_type": "markdown",
   "metadata": {},
   "source": [
    "# Prognostic Significance of Pathological Response and Variant Histology on Survival"
   ]
  },
  {
   "cell_type": "code",
   "execution_count": 14,
   "metadata": {
    "vscode": {
     "languageId": "markdown"
    }
   },
   "outputs": [
    {
     "name": "stdout",
     "output_type": "stream",
     "text": [
      "Log-rank test for overall survival: p = 1.000\n"
     ]
    }
   ],
   "source": [
    "# Overall survival analysis\n",
    "kmf_os = KaplanMeierFitter()\n",
    "kmf_os.fit(data['fu_censor'], event_observed=data['dod'].apply(lambda x: 1 if x==1 else 0), label=\"Overall Survival\")\n",
    "logrank_os = logrank_test(data['fu_censor'][data['ypT_group'] == 'pT0-pTa-pTis'],\n",
    "                          data['fu_censor'][data['ypT_group'] == 'pT2-pT3'],\n",
    "                          event_observed_A=data['dod'][data['ypT_group'] == 'pT0-pTa-pTis'].apply(lambda x: 1 if x=='Yes' else 0),\n",
    "                          event_observed_B=data['dod'][data['ypT_group'] == 'pT2-pT3'].apply(lambda x: 1 if x=='Yes' else 0))\n",
    "print(f\"Log-rank test for overall survival: p = {logrank_os.p_value:.3f}\")"
   ]
  },
  {
   "cell_type": "code",
   "execution_count": 15,
   "metadata": {
    "vscode": {
     "languageId": "markdown"
    }
   },
   "outputs": [
    {
     "name": "stdout",
     "output_type": "stream",
     "text": [
      "Univariate HR for overall survival (ypT2/3 vs ypT0/Ta/Tis): 0.93, 95% CI: [-0.78, 0.64], p=0.847\n"
     ]
    }
   ],
   "source": [
    "\n",
    "# Univariate model for ypT group\n",
    "cph_os_univar = CoxPHFitter()\n",
    "cph_os_univar.fit(data, 'fu_censor', event_col='dod', formula='ypT_group')\n",
    "hr_os_univar_ypT = cph_os_univar.hazard_ratios_['ypT_group[T.pT2-pT3]']\n",
    "ci_os_univar_ypT = cph_os_univar.confidence_intervals_.loc['ypT_group[T.pT2-pT3]']\n",
    "pval_os_univar_ypT = cph_os_univar.summary.loc['ypT_group[T.pT2-pT3]', 'p']\n",
    "\n",
    "print(f\"Univariate HR for overall survival (ypT2/3 vs ypT0/Ta/Tis): {hr_os_univar_ypT:.2f}, 95% CI: [{ci_os_univar_ypT.iloc[0]:.2f}, {ci_os_univar_ypT.iloc[1]:.2f}], p={pval_os_univar_ypT:.3f}\")"
   ]
  },
  {
   "cell_type": "code",
   "execution_count": 16,
   "metadata": {
    "vscode": {
     "languageId": "markdown"
    }
   },
   "outputs": [
    {
     "name": "stdout",
     "output_type": "stream",
     "text": [
      "Adjusted HR for overall survival (ypT2/3 vs ypT0/Ta/Tis): 0.91, 95% CI: [-0.83, 0.64], p=0.799\n"
     ]
    }
   ],
   "source": [
    "# Multivariate model\n",
    "cph_os_multi = CoxPHFitter()\n",
    "cph_os_multi.fit(data, 'fu_censor', event_col='dod', formula='ypT_group + age + sex + variant_histology')\n",
    "hr_os_multi = cph_os_multi.hazard_ratios_['ypT_group[T.pT2-pT3]']\n",
    "ci_os_multi = cph_os_multi.confidence_intervals_.loc['ypT_group[T.pT2-pT3]']\n",
    "pval_os_multi = cph_os_multi.summary.loc['ypT_group[T.pT2-pT3]','p']\n",
    "\n",
    "print(f\"Adjusted HR for overall survival (ypT2/3 vs ypT0/Ta/Tis): {hr_os_multi:.2f}, 95% CI: [{ci_os_multi.iloc[0]:.2f}, {ci_os_multi.iloc[1]:.2f}], p={pval_os_multi:.3f}\")"
   ]
  },
  {
   "cell_type": "code",
   "execution_count": 17,
   "metadata": {
    "vscode": {
     "languageId": "markdown"
    }
   },
   "outputs": [
    {
     "name": "stdout",
     "output_type": "stream",
     "text": [
      "Log-rank test for disease-specific survival: p = 1.000\n"
     ]
    }
   ],
   "source": [
    "# Disease-specific survival analysis\n",
    "kmf_dss = KaplanMeierFitter()\n",
    "kmf_dss.fit(data['fu_censor'], event_observed=data['dod'].apply(lambda x: 1 if x==1 else 0), label=\"Disease-specific Survival\")\n",
    "logrank_dss = logrank_test(data['fu_censor'][data['ypT_group'] == 'pT0-pTa-pTis'],\n",
    "                         data['fu_censor'][data['ypT_group'] == 'pT2-pT3'],\n",
    "                          event_observed_A=data['dod'][data['ypT_group'] == 'pT0-pTa-pTis'].apply(lambda x: 1 if x=='Yes' else 0),\n",
    "                          event_observed_B=data['dod'][data['ypT_group'] == 'pT2-pT3'].apply(lambda x: 1 if x=='Yes' else 0))\n",
    "\n",
    "print(f\"Log-rank test for disease-specific survival: p = {logrank_dss.p_value:.3f}\")"
   ]
  },
  {
   "cell_type": "code",
   "execution_count": 18,
   "metadata": {
    "vscode": {
     "languageId": "markdown"
    }
   },
   "outputs": [
    {
     "name": "stdout",
     "output_type": "stream",
     "text": [
      "Univariate HR for disease-specific survival (ypT2/3 vs ypT0/Ta/Tis): 0.93, 95% CI: [-0.78, 0.64], p=0.847\n"
     ]
    }
   ],
   "source": [
    "# Univariate DSS\n",
    "cph_dss_univar = CoxPHFitter()\n",
    "cph_dss_univar.fit(data, 'fu_censor', event_col='dod', formula='ypT_group')\n",
    "hr_dss_univar_ypT = cph_dss_univar.hazard_ratios_['ypT_group[T.pT2-pT3]']\n",
    "ci_dss_univar_ypT = cph_dss_univar.confidence_intervals_.loc['ypT_group[T.pT2-pT3]']\n",
    "pval_dss_univar_ypT = cph_dss_univar.summary.loc['ypT_group[T.pT2-pT3]','p']\n",
    "\n",
    "print(f\"Univariate HR for disease-specific survival (ypT2/3 vs ypT0/Ta/Tis): {hr_dss_univar_ypT:.2f}, 95% CI: [{ci_dss_univar_ypT.iloc[0]:.2f}, {ci_dss_univar_ypT.iloc[1]:.2f}], p={pval_dss_univar_ypT:.3f}\")"
   ]
  },
  {
   "cell_type": "code",
   "execution_count": 19,
   "metadata": {
    "vscode": {
     "languageId": "markdown"
    }
   },
   "outputs": [
    {
     "name": "stdout",
     "output_type": "stream",
     "text": [
      "Adjusted HR for disease-specific survival (ypT2/3 vs ypT0/Ta/Tis): 0.91, 95% CI: [-0.83, 0.64], p=0.799\n"
     ]
    }
   ],
   "source": [
    "cph_dss_multi = CoxPHFitter()\n",
    "cph_dss_multi.fit(data, 'fu_censor', event_col='dod', formula='ypT_group + age + sex + variant_histology')\n",
    "hr_dss_multi = cph_dss_multi.hazard_ratios_['ypT_group[T.pT2-pT3]']\n",
    "ci_dss_multi = cph_dss_multi.confidence_intervals_.loc['ypT_group[T.pT2-pT3]']\n",
    "pval_dss_multi = cph_dss_multi.summary.loc['ypT_group[T.pT2-pT3]','p']\n",
    "\n",
    "print(f\"Adjusted HR for disease-specific survival (ypT2/3 vs ypT0/Ta/Tis): {hr_dss_multi:.2f}, 95% CI: [{ci_dss_multi.iloc[0]:.2f}, {ci_dss_multi.iloc[1]:.2f}], p={pval_dss_multi:.3f}\")"
   ]
  }
 ],
 "metadata": {
  "kernelspec": {
   "display_name": "base",
   "language": "python",
   "name": "python3"
  },
  "language_info": {
   "codemirror_mode": {
    "name": "ipython",
    "version": 3
   },
   "file_extension": ".py",
   "mimetype": "text/x-python",
   "name": "python",
   "nbconvert_exporter": "python",
   "pygments_lexer": "ipython3",
   "version": "3.12.7"
  }
 },
 "nbformat": 4,
 "nbformat_minor": 2
}
